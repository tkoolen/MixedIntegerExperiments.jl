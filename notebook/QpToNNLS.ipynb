{
 "cells": [
  {
   "cell_type": "code",
   "execution_count": 1,
   "metadata": {
    "collapsed": false
   },
   "outputs": [
    {
     "name": "stderr",
     "output_type": "stream",
     "text": [
      "INFO: Precompiling module Blosc.\n",
      "INFO: Recompiling stale cache file /home/twan/code/RigidBodyDynamics/lib/v0.5/HDF5.ji for module HDF5.\n",
      "INFO: Recompiling stale cache file /home/twan/code/RigidBodyDynamics/lib/v0.5/JLD.ji for module JLD.\n",
      "INFO: Recompiling stale cache file /home/twan/code/RigidBodyDynamics/lib/v0.5/NNLS.ji for module NNLS.\n",
      "INFO: Precompiling module MathProgBase.\n",
      "INFO: Recompiling stale cache file /home/twan/code/RigidBodyDynamics/lib/v0.5/Gurobi.ji for module Gurobi.\n"
     ]
    }
   ],
   "source": [
    "using Base.Test\n",
    "using BenchmarkTools\n",
    "using NNLS\n",
    "using MathProgBase\n",
    "using Gurobi"
   ]
  },
  {
   "cell_type": "code",
   "execution_count": 2,
   "metadata": {
    "collapsed": true
   },
   "outputs": [],
   "source": [
    "n = 100\n",
    "q = 50\n",
    "Q = randn(n, n)\n",
    "Q = Q * Q'\n",
    "c = randn(n)\n",
    "G = randn(q, n)\n",
    "g = randn(q)\n",
    ";"
   ]
  },
  {
   "cell_type": "code",
   "execution_count": 3,
   "metadata": {
    "collapsed": false
   },
   "outputs": [
    {
     "data": {
      "text/plain": [
       "BenchmarkTools.Trial: \n",
       "  memory estimate:  112 bytes\n",
       "  allocs estimate:  5\n",
       "  --------------\n",
       "  minimum time:     417.861 μs (0.00% GC)\n",
       "  median time:      569.880 μs (0.00% GC)\n",
       "  mean time:        542.291 μs (0.00% GC)\n",
       "  maximum time:     4.467 ms (0.00% GC)\n",
       "  --------------\n",
       "  samples:          9097\n",
       "  evals/sample:     1\n",
       "  time tolerance:   5.00%\n",
       "  memory tolerance: 1.00%"
      ]
     },
     "execution_count": 3,
     "metadata": {},
     "output_type": "execute_result"
    }
   ],
   "source": [
    "const work = QPWorkspace{Float64, Int}(n, q)\n",
    "@benchmark (load!($work, $Q, $c, $G, $g); solve!($work))"
   ]
  },
  {
   "cell_type": "code",
   "execution_count": 4,
   "metadata": {
    "collapsed": false
   },
   "outputs": [
    {
     "data": {
      "text/plain": [
       "testfun (generic function with 1 method)"
      ]
     },
     "execution_count": 4,
     "metadata": {},
     "output_type": "execute_result"
    }
   ],
   "source": [
    "function testfun(numtests)\n",
    "    for i = 1 : numtests\n",
    "        load!(work, Q, c, G, g)\n",
    "        solve!(work)\n",
    "    end\n",
    "end"
   ]
  },
  {
   "cell_type": "code",
   "execution_count": 5,
   "metadata": {
    "collapsed": false,
    "scrolled": true
   },
   "outputs": [
    {
     "ename": "LoadError",
     "evalue": "UndefVarError: load! not defined",
     "output_type": "error",
     "traceback": [
      "UndefVarError: load! not defined",
      "",
      " in testfun(::Int64) at ./In[4]:3"
     ]
    }
   ],
   "source": [
    "testfun(1)\n",
    "Profile.clear()\n",
    "@profile testfun(10000)\n",
    "using ProfileView\n",
    "ProfileView.view()"
   ]
  },
  {
   "cell_type": "code",
   "execution_count": 6,
   "metadata": {
    "collapsed": false
   },
   "outputs": [],
   "source": [
    "# solver = Gurobi.GurobiSolver()\n",
    "# Gurobi.setparameters!(solver, Silent = true)\n",
    "# sense = fill('<', q)\n",
    "# l = fill(-Inf, n)\n",
    "# u = fill(Inf, n)\n",
    "\n",
    "# @benchmark quadprog($c, $Q, $G, $sense, $g, $l, $u, $solver)"
   ]
  },
  {
   "cell_type": "code",
   "execution_count": 8,
   "metadata": {
    "collapsed": false
   },
   "outputs": [
    {
     "name": "stderr",
     "output_type": "stream",
     "text": [
      "INFO: Precompiling module Mosek.\n",
      "WARNING: using Mosek.optimize in module Main conflicts with an existing identifier.\n"
     ]
    }
   ],
   "source": [
    "using SCS\n",
    "using Gurobi\n",
    "using Ipopt\n",
    "using JuMP\n",
    "using Mosek"
   ]
  },
  {
   "cell_type": "code",
   "execution_count": 14,
   "metadata": {
    "collapsed": false
   },
   "outputs": [
    {
     "data": {
      "text/plain": [
       "50-element Array{Float64,1}:\n",
       " -0.16185    \n",
       "  5.67397e-9 \n",
       " -0.198803   \n",
       " -0.19323    \n",
       " -0.0471793  \n",
       " -0.0846386  \n",
       " -0.0147043  \n",
       " -0.104926   \n",
       " -0.12997    \n",
       " -0.419987   \n",
       "  5.87682e-9 \n",
       " -0.178407   \n",
       " -0.0897771  \n",
       "  ⋮          \n",
       " -7.02469e-10\n",
       " -0.0423136  \n",
       " -0.204209   \n",
       " -0.00739698 \n",
       " -0.198669   \n",
       " -0.0903971  \n",
       " -0.0532981  \n",
       "  2.74416e-9 \n",
       " -0.192598   \n",
       "  2.73793e-9 \n",
       " -0.0277634  \n",
       "  4.81807e-9 "
      ]
     },
     "execution_count": 14,
     "metadata": {},
     "output_type": "execute_result"
    }
   ],
   "source": [
    "n = size(Q, 1)\n",
    "# m = Model(solver=SCSSolver(verbose = 0))\n",
    "# m = Model(solver=GurobiSolver())\n",
    "m = Model(solver=MosekSolver(LOG=0))\n",
    "@variable m z[1 : n]\n",
    "constr = @constraint m G * z .<= g\n",
    "@variable m slack >= 0\n",
    "P = sqrtm(Q)\n",
    "@constraint m norm(P * z + P \\ c) <= slack\n",
    "@objective m Min slack\n",
    "status = solve(m)\n",
    "getdual(constr)"
   ]
  },
  {
   "cell_type": "code",
   "execution_count": 15,
   "metadata": {
    "collapsed": false
   },
   "outputs": [
    {
     "name": "stderr",
     "output_type": "stream",
     "text": [
      "WARNING: Solver does not appear to support providing initial feasible solutions.\n"
     ]
    },
    {
     "data": {
      "text/plain": [
       "BenchmarkTools.Trial: \n",
       "  memory estimate:  2.98 MiB\n",
       "  allocs estimate:  6156\n",
       "  --------------\n",
       "  minimum time:     11.576 ms (0.00% GC)\n",
       "  median time:      11.787 ms (0.00% GC)\n",
       "  mean time:        12.102 ms (1.68% GC)\n",
       "  maximum time:     14.370 ms (10.61% GC)\n",
       "  --------------\n",
       "  samples:          413\n",
       "  evals/sample:     1\n",
       "  time tolerance:   5.00%\n",
       "  memory tolerance: 1.00%"
      ]
     },
     "execution_count": 15,
     "metadata": {},
     "output_type": "execute_result"
    }
   ],
   "source": [
    "@benchmark solve($m)"
   ]
  },
  {
   "cell_type": "code",
   "execution_count": 11,
   "metadata": {
    "collapsed": false
   },
   "outputs": [
    {
     "data": {
      "text/plain": [
       "50-element Array{Float64,1}:\n",
       " -0.159609  \n",
       " -0.0       \n",
       " -0.196046  \n",
       " -0.190558  \n",
       " -0.0465247 \n",
       " -0.0834667 \n",
       " -0.0145023 \n",
       " -0.103472  \n",
       " -0.128166  \n",
       " -0.414162  \n",
       " -0.0       \n",
       " -0.17593   \n",
       " -0.0885318 \n",
       "  ⋮         \n",
       " -0.0       \n",
       " -0.0417256 \n",
       " -0.201375  \n",
       " -0.00729699\n",
       " -0.19591   \n",
       " -0.089145  \n",
       " -0.0525544 \n",
       " -0.0       \n",
       " -0.189925  \n",
       " -0.0       \n",
       " -0.02738   \n",
       " -0.0       "
      ]
     },
     "execution_count": 11,
     "metadata": {},
     "output_type": "execute_result"
    }
   ],
   "source": [
    "load!(work, Q, c, G, g)\n",
    "z, λ = solve!(work)\n",
    "λ"
   ]
  },
  {
   "cell_type": "code",
   "execution_count": null,
   "metadata": {
    "collapsed": true
   },
   "outputs": [],
   "source": []
  }
 ],
 "metadata": {
  "kernelspec": {
   "display_name": "Julia 0.5.0 -O3 --check-bounds=no",
   "language": "julia",
   "name": "julia-0.5-for-profiling"
  },
  "language_info": {
   "file_extension": ".jl",
   "mimetype": "application/julia",
   "name": "julia",
   "version": "0.5.0"
  }
 },
 "nbformat": 4,
 "nbformat_minor": 1
}

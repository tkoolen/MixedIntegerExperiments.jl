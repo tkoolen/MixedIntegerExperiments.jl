{
 "cells": [
  {
   "cell_type": "code",
   "execution_count": null,
   "metadata": {
    "collapsed": false
   },
   "outputs": [],
   "source": [
    "using RigidBodyDynamics, RigidBodyDynamics.Contact, RigidBodyDynamics.OdeIntegrators\n",
    "using MomentumBasedControl\n",
    "using MixedIntegerExperiments\n",
    "using StaticArrays\n",
    "using RigidBodyTreeInspector, DrakeVisualizer\n",
    "using ValkyrieRobot\n",
    "using BipedControlUtil"
   ]
  },
  {
   "cell_type": "code",
   "execution_count": null,
   "metadata": {
    "collapsed": false
   },
   "outputs": [],
   "source": [
    "val = Valkyrie()\n",
    "mechanism = val.mechanism;"
   ]
  },
  {
   "cell_type": "code",
   "execution_count": null,
   "metadata": {
    "collapsed": false
   },
   "outputs": [],
   "source": [
    "# add environment\n",
    "rootframe = root_frame(mechanism)\n",
    "floor = HalfSpace3D(Point3D(rootframe, 0., 0., 0.), FreeVector3D(rootframe, 0., 0., 1.))\n",
    "leftwall = HalfSpace3D(Point3D(rootframe, 0., -1., 1.5), FreeVector3D(rootframe, 0., 1., 0.))\n",
    "rightwall = HalfSpace3D(Point3D(rootframe, 0, 1., 1.5), FreeVector3D(rootframe, 0., -1., 0.))\n",
    "add_environment_primitive!(mechanism, floor)\n",
    "# add_environment_primitive!(mechanism, leftwall)\n",
    "# add_environment_primitive!(mechanism, rightwall)\n",
    ";"
   ]
  },
  {
   "cell_type": "code",
   "execution_count": null,
   "metadata": {
    "collapsed": false
   },
   "outputs": [],
   "source": [
    "# Create visualizer\n",
    "DrakeVisualizer.any_open_windows() || (DrakeVisualizer.new_window(); sleep(1))\n",
    "vis = Visualizer(parse_urdf(ValkyrieRobot.urdfpath(), mechanism; package_path = [ValkyrieRobot.packagepath()]), :valkyrie);\n",
    "visualize_environment(mechanism, vis)"
   ]
  },
  {
   "cell_type": "code",
   "execution_count": null,
   "metadata": {
    "collapsed": false
   },
   "outputs": [],
   "source": [
    "remove_fixed_tree_joints!(mechanism)\n",
    "const state = MechanismState(Float64, mechanism)"
   ]
  },
  {
   "cell_type": "code",
   "execution_count": null,
   "metadata": {
    "collapsed": false
   },
   "outputs": [],
   "source": [
    "# Initial setup\n",
    "zero!(state)\n",
    "kneebend = 1.\n",
    "for side in instances(Side)\n",
    "    set_configuration!(state, val.knees[side], [kneebend])\n",
    "    set_configuration!(state, val.hippitches[side], [-kneebend / 2])\n",
    "    set_configuration!(state, val.anklepitches[side], [-kneebend / 2])\n",
    "end\n",
    "set_configuration!(state, val.floatingjoint, [1; 0; 0; 0; 0; 0; 1.08]) # TODO\n",
    "settransform!(vis, state);"
   ]
  },
  {
   "cell_type": "code",
   "execution_count": null,
   "metadata": {
    "collapsed": false
   },
   "outputs": [],
   "source": [
    "const τ = Vector{Float64}(num_velocities(mechanism))\n",
    "const result = DynamicsResult(Float64, mechanism)\n",
    "function damped_dynamics!(vd::AbstractArray, sd::AbstractArray, t, state)\n",
    "    τ[:] = velocity(state)\n",
    "    scale!(τ, -1.0)\n",
    "    dynamics!(result, state, τ)\n",
    "    copy!(vd, result.v̇)\n",
    "    copy!(sd, result.ṡ)\n",
    "end"
   ]
  },
  {
   "cell_type": "code",
   "execution_count": null,
   "metadata": {
    "collapsed": false
   },
   "outputs": [],
   "source": [
    "const controller = MomentumBasedController{Float64}(mechanism);\n",
    "contacts = add_mechanism_contacts!(controller)\n",
    "jointacceltasks = add_mechanism_joint_accel_tasks!(controller);"
   ]
  },
  {
   "cell_type": "code",
   "execution_count": null,
   "metadata": {
    "collapsed": false
   },
   "outputs": [],
   "source": [
    "comgains = PDGains(10., 2.)"
   ]
  },
  {
   "cell_type": "code",
   "execution_count": null,
   "metadata": {
    "collapsed": false
   },
   "outputs": [],
   "source": [
    "footacceltasks = Dict{Side, SpatialAccelerationTask{Float64}}()\n",
    "for side in instances(Side)\n",
    "    foot = val.feet[side]\n",
    "    p = path(mechanism, root_body(mechanism), foot)\n",
    "    frame = default_frame(foot)\n",
    "    task = footacceltasks[side] = SpatialAccelerationTask(p, frame, eye(3, 3), eye(3, 3))\n",
    "    add!(controller, task)\n",
    "end"
   ]
  },
  {
   "cell_type": "code",
   "execution_count": null,
   "metadata": {
    "collapsed": false
   },
   "outputs": [],
   "source": [
    "const result = DynamicsResult(Float64, mechanism)\n",
    "feet = val.feet\n",
    "com0 = center_of_mass(state)\n",
    "μ = 0.8\n",
    "normal = floor.outward_normal\n",
    "function controlled_dynamics!(vd::AbstractArray, sd::AbstractArray, t, state)\n",
    "    # TODO: extract out: highlevelcontrol\n",
    "    # Foot accelerations\n",
    "    T = eltype(controller)\n",
    "    MomentumBasedControl.reset!(controller)\n",
    "    regularize_joint_accels!(controller, 0.05)\n",
    "    for side in instances(Side)\n",
    "        task = footacceltasks[side]\n",
    "        base = RigidBodyDynamics.Graphs.source(task.path)\n",
    "        body = RigidBodyDynamics.Graphs.target(task.path)\n",
    "        accel = zero(SpatialAcceleration{T}, default_frame(body), default_frame(base), default_frame(body))\n",
    "        set!(task, accel, Inf)\n",
    "        \n",
    "        for contactsettings in contacts[body]\n",
    "            set!(contactsettings, 1e-1, μ, transform(state, normal, default_frame(body)))\n",
    "        end\n",
    "    end\n",
    "    \n",
    "    # Centroidal momentum control\n",
    "    com = center_of_mass(state)\n",
    "    centroidal = centroidal_frame(controller)\n",
    "    world_to_centroidal = Transform3D(com.frame, centroidal, -com.v)\n",
    "    h = transform(momentum(state), world_to_centroidal)\n",
    "    comerror = FreeVector3D(transform(com0, world_to_centroidal))\n",
    "    comderror = -FreeVector3D(h.frame, h.linear)\n",
    "    ldot_desired = comgains.k * comerror + comgains.d * comderror\n",
    "    hdot_desired = Wrench(ldot_desired, zero(ldot_desired))\n",
    "    add!(controller, MomentumRateTask(hdot_desired, eye(SMatrix{3, 3}), eye(SMatrix{3, 3}), 1.))\n",
    "    \n",
    "    τ = control(controller, t, state)\n",
    "    dynamics!(result, state, τ)\n",
    "    copy!(vd, result.v̇)\n",
    "    copy!(sd, result.ṡ)\n",
    "end"
   ]
  },
  {
   "cell_type": "code",
   "execution_count": null,
   "metadata": {
    "collapsed": false
   },
   "outputs": [],
   "source": [
    "# Simulation\n",
    "const dyn! = controlled_dynamics!\n",
    "# const dyn! = damped_dynamics!\n",
    "const integrator = MuntheKaasIntegrator(dyn!, runge_kutta_4(Float64), DrakeVisualizerSink(vis));"
   ]
  },
  {
   "cell_type": "code",
   "execution_count": null,
   "metadata": {
    "collapsed": false
   },
   "outputs": [],
   "source": [
    "integrate(integrator, state, 1., 5e-4, maxRealtimeRate = Inf)"
   ]
  },
  {
   "cell_type": "code",
   "execution_count": null,
   "metadata": {
    "collapsed": true
   },
   "outputs": [],
   "source": []
  }
 ],
 "metadata": {
  "kernelspec": {
   "display_name": "Julia 0.5.1",
   "language": "julia",
   "name": "julia-0.5"
  },
  "language_info": {
   "file_extension": ".jl",
   "mimetype": "application/julia",
   "name": "julia",
   "version": "0.5.1"
  }
 },
 "nbformat": 4,
 "nbformat_minor": 1
}

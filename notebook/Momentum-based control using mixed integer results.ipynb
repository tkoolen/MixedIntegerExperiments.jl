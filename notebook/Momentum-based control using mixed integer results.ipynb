{
 "cells": [
  {
   "cell_type": "code",
   "execution_count": 1,
   "metadata": {
    "collapsed": false
   },
   "outputs": [
    {
     "data": {
      "text/html": [
       "<div id=\"interact-js-shim\">\n",
       "    <script charset=\"utf-8\">\n",
       "(function (IPython, $, _, MathJax) {\n",
       "    $.event.special.destroyed = {\n",
       "\tremove: function(o) {\n",
       "\t    if (o.handler) {\n",
       "\t\to.handler.apply(this, arguments)\n",
       "\t    }\n",
       "\t}\n",
       "    }\n",
       "\n",
       "    var OutputArea = IPython.version >= \"4.0.0\" ? require(\"notebook/js/outputarea\").OutputArea : IPython.OutputArea;\n",
       "\n",
       "    var redrawValue = function (container, type, val) {\n",
       "\tvar selector = $(\"<div/>\");\n",
       "\tvar oa = new OutputArea(_.extend(selector, {\n",
       "\t    selector: selector,\n",
       "\t    prompt_area: true,\n",
       "\t    events: IPython.events,\n",
       "\t    keyboard_manager: IPython.keyboard_manager\n",
       "\t})); // Hack to work with IPython 2.1.0\n",
       "\n",
       "\tswitch (type) {\n",
       "\tcase \"image/png\":\n",
       "            var _src = 'data:' + type + ';base64,' + val;\n",
       "\t    $(container).find(\"img\").attr('src', _src);\n",
       "\t    break;\n",
       "\tcase \"text/latex\":\n",
       "\t\tif (MathJax){\n",
       "\t\t\tvar math = MathJax.Hub.getAllJax(container)[0];\n",
       "\t\t\tMathJax.Hub.Queue([\"Text\", math, val.replace(/^\\${1,2}|\\${1,2}$/g, '')]);\n",
       "\t\t\tbreak;\n",
       "\t\t}\n",
       "\tdefault:\n",
       "\t    var toinsert = OutputArea.append_map[type].apply(\n",
       "\t\toa, [val, {}, selector]\n",
       "\t    );\n",
       "\t    $(container).empty().append(toinsert.contents());\n",
       "\t    selector.remove();\n",
       "\t}\n",
       "    }\n",
       "\n",
       "\n",
       "    $(document).ready(function() {\n",
       "\tfunction initComm(evt, data) {\n",
       "\t    var comm_manager = data.kernel.comm_manager;\n",
       "        //_.extend(comm_manager.targets, require(\"widgets/js/widget\"))\n",
       "\t    comm_manager.register_target(\"Signal\", function (comm) {\n",
       "            comm.on_msg(function (msg) {\n",
       "                var val = msg.content.data.value;\n",
       "                $(\".signal-\" + comm.comm_id).each(function() {\n",
       "                var type = $(this).data(\"type\");\n",
       "                if (typeof(val[type]) !== \"undefined\" && val[type] !== null) {\n",
       "                    redrawValue(this, type, val[type], type);\n",
       "                }\n",
       "                });\n",
       "                delete val;\n",
       "                delete msg.content.data.value;\n",
       "            });\n",
       "\t    });\n",
       "\n",
       "\t    // coordingate with Comm and redraw Signals\n",
       "\t    // XXX: Test using Reactive here to improve performance\n",
       "\t    $([IPython.events]).on(\n",
       "\t\t'output_appended.OutputArea', function (event, type, value, md, toinsert) {\n",
       "\t\t    if (md && md.reactive) {\n",
       "                // console.log(md.comm_id);\n",
       "                toinsert.addClass(\"signal-\" + md.comm_id);\n",
       "                toinsert.data(\"type\", type);\n",
       "                // Signal back indicating the mimetype required\n",
       "                var comm_manager = IPython.notebook.kernel.comm_manager;\n",
       "                var comm = comm_manager.comms[md.comm_id];\n",
       "                comm.then(function (c) {\n",
       "                    c.send({action: \"subscribe_mime\",\n",
       "                       mime: type});\n",
       "                    toinsert.bind(\"destroyed\", function() {\n",
       "                        c.send({action: \"unsubscribe_mime\",\n",
       "                               mime: type});\n",
       "                    });\n",
       "                })\n",
       "\t\t    }\n",
       "\t    });\n",
       "\t}\n",
       "\n",
       "\ttry {\n",
       "\t    // try to initialize right away. otherwise, wait on the status_started event.\n",
       "\t    initComm(undefined, IPython.notebook);\n",
       "\t} catch (e) {\n",
       "\t    $([IPython.events]).on('kernel_created.Kernel kernel_created.Session', initComm);\n",
       "\t}\n",
       "    });\n",
       "})(IPython, jQuery, _, MathJax);\n",
       "</script>\n",
       "    <script>\n",
       "        window.interactLoadedFlag = true\n",
       "       $(\"#interact-js-shim\").bind(\"destroyed\", function () {\n",
       "           if (window.interactLoadedFlag) {\n",
       "               console.warn(\"JavaScript required by Interact will be removed if you remove this cell or run using Interact more than once.\")\n",
       "           }\n",
       "       })\n",
       "       $([IPython.events]).on(\"kernel_starting.Kernel kernel_restarting.Kernel\", function () { window.interactLoadedFlag = false })\n",
       "   </script>\n",
       "</div>"
      ]
     },
     "metadata": {},
     "output_type": "display_data"
    }
   ],
   "source": [
    "using RigidBodyDynamics, RigidBodyDynamics.Contact, RigidBodyDynamics.OdeIntegrators\n",
    "using MomentumBasedControl\n",
    "using MixedIntegerExperiments\n",
    "using StaticArrays\n",
    "using RigidBodyTreeInspector, DrakeVisualizer\n",
    "using ValkyrieRobot\n",
    "using BipedControlUtil"
   ]
  },
  {
   "cell_type": "code",
   "execution_count": 2,
   "metadata": {
    "collapsed": false
   },
   "outputs": [],
   "source": [
    "val = Valkyrie()\n",
    "mechanism = val.mechanism;"
   ]
  },
  {
   "cell_type": "code",
   "execution_count": 3,
   "metadata": {
    "collapsed": false
   },
   "outputs": [],
   "source": [
    "# add environment\n",
    "rootframe = root_frame(mechanism)\n",
    "floor = HalfSpace3D(Point3D(rootframe, 0., 0., 0.), FreeVector3D(rootframe, 0., 0., 1.))\n",
    "leftwall = HalfSpace3D(Point3D(rootframe, 0., -1., 1.5), FreeVector3D(rootframe, 0., 1., 0.))\n",
    "rightwall = HalfSpace3D(Point3D(rootframe, 0, 1., 1.5), FreeVector3D(rootframe, 0., -1., 0.))\n",
    "add_environment_primitive!(mechanism, floor)\n",
    "# add_environment_primitive!(mechanism, leftwall)\n",
    "# add_environment_primitive!(mechanism, rightwall)\n",
    ";"
   ]
  },
  {
   "cell_type": "code",
   "execution_count": 4,
   "metadata": {
    "collapsed": false
   },
   "outputs": [],
   "source": [
    "# Create visualizer\n",
    "DrakeVisualizer.any_open_windows() || (DrakeVisualizer.new_window(); sleep(1))\n",
    "vis = Visualizer(parse_urdf(ValkyrieRobot.urdfpath(), mechanism; package_path = [ValkyrieRobot.packagepath()]), :valkyrie);\n",
    "visualize_environment(mechanism, vis)"
   ]
  },
  {
   "cell_type": "code",
   "execution_count": 5,
   "metadata": {
    "collapsed": false
   },
   "outputs": [],
   "source": [
    "remove_fixed_tree_joints!(mechanism)\n",
    "const state = MechanismState(Float64, mechanism)\n",
    "const controllerstate = MomentumBasedControllerState(state)\n",
    ";"
   ]
  },
  {
   "cell_type": "code",
   "execution_count": 6,
   "metadata": {
    "collapsed": false
   },
   "outputs": [],
   "source": [
    "# Initial setup\n",
    "zero!(state)\n",
    "kneebend = 1.\n",
    "for side in instances(Side)\n",
    "    set_configuration!(state, val.knees[side], [kneebend])\n",
    "    set_configuration!(state, val.hippitches[side], [-kneebend / 2])\n",
    "    set_configuration!(state, val.anklepitches[side], [-kneebend / 2])\n",
    "end\n",
    "set_configuration!(state, val.floatingjoint, [1; 0; 0; 0; 0; 0; 1.07]) # TODO\n",
    "settransform!(vis, state)\n",
    "MomentumBasedControl.reset!(controllerstate)\n",
    ";"
   ]
  },
  {
   "cell_type": "code",
   "execution_count": 7,
   "metadata": {
    "collapsed": false
   },
   "outputs": [
    {
     "data": {
      "text/plain": [
       "damped_dynamics! (generic function with 1 method)"
      ]
     },
     "execution_count": 7,
     "metadata": {},
     "output_type": "execute_result"
    }
   ],
   "source": [
    "const τ = Vector{Float64}(num_velocities(mechanism))\n",
    "const result = DynamicsResult(Float64, mechanism)\n",
    "function damped_dynamics!(vd::AbstractArray, sd::AbstractArray, t, state)\n",
    "    τ[:] = velocity(state)\n",
    "    scale!(τ, -1.0)\n",
    "    dynamics!(result, state, τ)\n",
    "    copy!(vd, result.v̇)\n",
    "    copy!(sd, result.ṡ)\n",
    "end"
   ]
  },
  {
   "cell_type": "code",
   "execution_count": 8,
   "metadata": {
    "collapsed": false
   },
   "outputs": [],
   "source": [
    "const controller = MomentumBasedController{Float64}(mechanism, 5e-3);\n",
    "contacts = add_mechanism_contacts!(controller)\n",
    "jointacceltasks = add_mechanism_joint_accel_tasks!(controller);"
   ]
  },
  {
   "cell_type": "code",
   "execution_count": 9,
   "metadata": {
    "collapsed": false
   },
   "outputs": [
    {
     "data": {
      "text/plain": [
       "MomentumBasedControl.PDGains{Float64}(10.0,2.0)"
      ]
     },
     "execution_count": 9,
     "metadata": {},
     "output_type": "execute_result"
    }
   ],
   "source": [
    "comgains = PDGains(10., 2.)"
   ]
  },
  {
   "cell_type": "code",
   "execution_count": 10,
   "metadata": {
    "collapsed": false
   },
   "outputs": [],
   "source": [
    "# Foot accelerations w.r.t. world\n",
    "footacceltasks = Dict{Side, SpatialAccelerationTask{Float64}}()\n",
    "legjoints = []\n",
    "for side in instances(Side)\n",
    "    foot = val.feet[side]\n",
    "    world_to_foot = path(mechanism, root_body(mechanism), foot)\n",
    "    pelvis_to_foot = path(mechanism, val.pelvis, foot)\n",
    "    append!(legjoints, joint for (joint, direction) in pelvis_to_foot)\n",
    "    frame = default_frame(foot)\n",
    "    task = footacceltasks[side] = SpatialAccelerationTask(world_to_foot, frame, eye(3, 3), eye(3, 3))\n",
    "    add!(controller, task)\n",
    "end"
   ]
  },
  {
   "cell_type": "code",
   "execution_count": 11,
   "metadata": {
    "collapsed": false
   },
   "outputs": [],
   "source": [
    "# Pelvis acceleration w.r.t. world\n",
    "pelvisacceltask = SpatialAccelerationTask(path(mechanism, root_body(mechanism), val.pelvis), default_frame(val.pelvis), eye(3, 3), zeros(0, 3))\n",
    "add!(controller, pelvisacceltask)\n",
    "pelvisgains = PDGains(10., 2.)\n",
    ";"
   ]
  },
  {
   "cell_type": "code",
   "execution_count": 12,
   "metadata": {
    "collapsed": false
   },
   "outputs": [],
   "source": [
    "# Position control tasks\n",
    "# revolutejoints = filter(j -> isa(j.jointType, Revolute), joints(mechanism))\n",
    "# positioncontroltasks = Dict(joint => JointAccelerationTask(joint) for joint in setdiff(revolutejoints, legjoints))\n",
    "# foreach(task -> add!(controller, task), values(positioncontroltasks))\n",
    "# positioncontrolgains = Dict(joint => PDGains(10.0, 2.) for joint in keys(positioncontroltasks))\n",
    "# ;"
   ]
  },
  {
   "cell_type": "code",
   "execution_count": 13,
   "metadata": {
    "collapsed": false
   },
   "outputs": [
    {
     "name": "stderr",
     "output_type": "stream",
     "text": [
      "WARNING: redefining constant result\n"
     ]
    },
    {
     "data": {
      "text/plain": [
       "controlled_dynamics! (generic function with 1 method)"
      ]
     },
     "execution_count": 13,
     "metadata": {},
     "output_type": "execute_result"
    }
   ],
   "source": [
    "const result = DynamicsResult(Float64, mechanism)\n",
    "feet = val.feet\n",
    "com0 = center_of_mass(state)\n",
    "com0 += FreeVector3D(com0.frame, 0.0, 0.0, -0.05)\n",
    "μ = 0.8\n",
    "normal = floor.outward_normal\n",
    "function controlled_dynamics!(vd::AbstractArray, sd::AbstractArray, t, state)\n",
    "    # TODO: extract out: highlevelcontrol\n",
    "    # Foot accelerations\n",
    "    T = eltype(controller)\n",
    "    MomentumBasedControl.reset!(controller)\n",
    "    regularize_joint_accels!(controller, 0.05)\n",
    "    for side in instances(Side)\n",
    "        task = footacceltasks[side]\n",
    "        base = RigidBodyDynamics.Graphs.source(task.path)\n",
    "        body = RigidBodyDynamics.Graphs.target(task.path)\n",
    "        accel = zero(SpatialAcceleration{T}, default_frame(body), default_frame(base), default_frame(body))\n",
    "        set!(task, accel, Inf)\n",
    "        \n",
    "        for contactsettings in contacts[body]\n",
    "            set!(contactsettings, 1e-1, μ, transform(state, normal, default_frame(body)))\n",
    "        end\n",
    "    end\n",
    "    \n",
    "    # Pelvis orientation control\n",
    "    Hpelvis = transform_to_root(state, val.pelvis)\n",
    "    Tpelvis = transform(twist_wrt_world(state, val.pelvis), inv(Hpelvis))\n",
    "    ωdpelvis = pd(pelvisgains, rotation(Hpelvis), Tpelvis.angular)\n",
    "    Ṫpelvis = SpatialAcceleration(Tpelvis.body, Tpelvis.base, Tpelvis.frame, ωdpelvis, zero(ωdpelvis))\n",
    "    set!(pelvisacceltask, Ṫpelvis, Inf)\n",
    "    \n",
    "#     # Joint position control\n",
    "#     for (joint, task) in positioncontroltasks\n",
    "#         gains = positioncontrolgains[joint]\n",
    "#         set!(task, pd(gains, configuration(state, joint), 0., velocity(state, joint), 0.), Inf)\n",
    "#     end\n",
    "    \n",
    "    # Centroidal momentum control\n",
    "    com = center_of_mass(state)\n",
    "    centroidal = centroidal_frame(controller)\n",
    "    world_to_centroidal = Transform3D(com.frame, centroidal, -com.v)\n",
    "    h = transform(momentum(state), world_to_centroidal)\n",
    "    comerror = FreeVector3D(transform(com0, world_to_centroidal))\n",
    "    comderror = -FreeVector3D(h.frame, h.linear)\n",
    "    ldot_desired = comgains.k * comerror + comgains.d * comderror\n",
    "    hdot_desired = Wrench(ldot_desired, zero(ldot_desired))\n",
    "    add!(controller, MomentumRateTask(hdot_desired, eye(SMatrix{3, 3}), eye(SMatrix{3, 3}), 0.))\n",
    "    \n",
    "    τ = control(controller, t, controllerstate)\n",
    "    dynamics!(result, state, τ)\n",
    "    copy!(vd, result.v̇)\n",
    "    copy!(sd, result.ṡ)\n",
    "end"
   ]
  },
  {
   "cell_type": "code",
   "execution_count": 14,
   "metadata": {
    "collapsed": false
   },
   "outputs": [],
   "source": [
    "# Simulation\n",
    "const dyn! = controlled_dynamics!\n",
    "# const dyn! = damped_dynamics!\n",
    "const integrator = MuntheKaasIntegrator(dyn!, runge_kutta_4(Float64), DrakeVisualizerSink(vis));"
   ]
  },
  {
   "cell_type": "code",
   "execution_count": 15,
   "metadata": {
    "collapsed": false,
    "scrolled": true
   },
   "outputs": [
    {
     "ename": "LoadError",
     "evalue": "Invalid coefficient NaN on variable v̇[1]",
     "output_type": "error",
     "traceback": [
      "Invalid coefficient NaN on variable v̇[1]",
      "",
      " in assert_isfinite(::JuMP.GenericAffExpr{Float64,JuMP.Variable}) at /home/twan/code/RigidBodyDynamics/v0.5/JuMP/src/affexpr.jl:95",
      " in prepConstrMatrix(::JuMP.Model) at /home/twan/code/RigidBodyDynamics/v0.5/JuMP/src/solvers.jl:603",
      " in #build#114(::Bool, ::Bool, ::JuMP.ProblemTraits, ::Function, ::JuMP.Model) at /home/twan/code/RigidBodyDynamics/v0.5/JuMP/src/solvers.jl:407",
      " in (::JuMP.#kw##build)(::Array{Any,1}, ::JuMP.#build, ::JuMP.Model) at ./<missing>:0",
      " in #solve#109(::Bool, ::Bool, ::Bool, ::Array{Any,1}, ::Function, ::JuMP.Model) at /home/twan/code/RigidBodyDynamics/v0.5/JuMP/src/solvers.jl:166",
      " in control(::MomentumBasedControl.MomentumBasedController{Float64}, ::Float64, ::MomentumBasedControl.MomentumBasedControllerState{Float64,RigidBodyDynamics.MechanismState{Float64,Float64,Float64}}) at /home/twan/code/RigidBodyDynamics/v0.5/MomentumBasedControl/src/controller.jl:278",
      " in controlled_dynamics!(::Array{Float64,1}, ::Array{Float64,1}, ::Float64, ::RigidBodyDynamics.MechanismState{Float64,Float64,Float64}) at ./In[13]:49",
      " in step(::RigidBodyDynamics.OdeIntegrators.MuntheKaasIntegrator{4,Float64,#controlled_dynamics!,RigidBodyTreeInspector.DrakeVisualizerSink,16}, ::Float64, ::RigidBodyDynamics.MechanismState{Float64,Float64,Float64}, ::Float64) at /home/twan/code/RigidBodyDynamics/v0.5/RigidBodyDynamics/src/ode_integrators.jl:283",
      " in #integrate#17(::Float64, ::Function, ::RigidBodyDynamics.OdeIntegrators.MuntheKaasIntegrator{4,Float64,#controlled_dynamics!,RigidBodyTreeInspector.DrakeVisualizerSink,16}, ::RigidBodyDynamics.MechanismState{Float64,Float64,Float64}, ::Float64, ::Float64) at /home/twan/code/RigidBodyDynamics/v0.5/RigidBodyDynamics/src/ode_integrators.jl:355",
      " in (::RigidBodyDynamics.OdeIntegrators.#kw##integrate)(::Array{Any,1}, ::RigidBodyDynamics.OdeIntegrators.#integrate, ::RigidBodyDynamics.OdeIntegrators.MuntheKaasIntegrator{4,Float64,#controlled_dynamics!,RigidBodyTreeInspector.DrakeVisualizerSink,16}, ::RigidBodyDynamics.MechanismState{Float64,Float64,Float64}, ::Float64, ::Float64) at ./<missing>:0"
     ]
    }
   ],
   "source": [
    "integrate(integrator, state, 1., 1e-4, maxRealtimeRate = Inf)"
   ]
  },
  {
   "cell_type": "code",
   "execution_count": null,
   "metadata": {
    "collapsed": true
   },
   "outputs": [],
   "source": []
  }
 ],
 "metadata": {
  "kernelspec": {
   "display_name": "Julia 0.5.1",
   "language": "julia",
   "name": "julia-0.5"
  },
  "language_info": {
   "file_extension": ".jl",
   "mimetype": "application/julia",
   "name": "julia",
   "version": "0.5.1"
  }
 },
 "nbformat": 4,
 "nbformat_minor": 1
}

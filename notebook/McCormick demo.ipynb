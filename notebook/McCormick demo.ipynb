{
 "cells": [
  {
   "cell_type": "code",
   "execution_count": 1,
   "metadata": {
    "collapsed": false
   },
   "outputs": [
    {
     "name": "stderr",
     "output_type": "stream",
     "text": [
      "\u001b[1m\u001b[34mINFO: Precompiling module Rotations.\n",
      "\u001b[0m\u001b[1m\u001b[34mINFO: Recompiling stale cache file /Users/twan/code/julia/RigidBodyDynamics/lib/v0.5/DrakeVisualizer.ji for module DrakeVisualizer.\n",
      "\u001b[0m\u001b[1m\u001b[34mINFO: Recompiling stale cache file /Users/twan/code/julia/RigidBodyDynamics/lib/v0.5/RigidBodyDynamics.ji for module RigidBodyDynamics.\n",
      "\u001b[0m\u001b[1m\u001b[34mINFO: Recompiling stale cache file /Users/twan/code/julia/RigidBodyDynamics/lib/v0.5/MomentumBasedControl.ji for module MomentumBasedControl.\n",
      "\u001b[0m"
     ]
    }
   ],
   "source": [
    "using MixedIntegerExperiments: plot_piecewise_mccormick"
   ]
  },
  {
   "cell_type": "code",
   "execution_count": 2,
   "metadata": {
    "collapsed": false
   },
   "outputs": [],
   "source": [
    "plot_piecewise_mccormick(1, 0., 1., 0., 1.);"
   ]
  },
  {
   "cell_type": "code",
   "execution_count": 6,
   "metadata": {
    "collapsed": true
   },
   "outputs": [],
   "source": [
    "plot_piecewise_mccormick(1, -1., 1., -1., 1.);"
   ]
  },
  {
   "cell_type": "code",
   "execution_count": 8,
   "metadata": {
    "collapsed": false
   },
   "outputs": [],
   "source": [
    "plot_piecewise_mccormick(2, 0., 1., 0., 1.);"
   ]
  },
  {
   "cell_type": "code",
   "execution_count": 5,
   "metadata": {
    "collapsed": true
   },
   "outputs": [],
   "source": [
    "plot_piecewise_mccormick(10, -1., 1., -1., 1.);"
   ]
  },
  {
   "cell_type": "code",
   "execution_count": null,
   "metadata": {
    "collapsed": true
   },
   "outputs": [],
   "source": []
  }
 ],
 "metadata": {
  "kernelspec": {
   "display_name": "Julia 0.5.1",
   "language": "julia",
   "name": "julia-0.5"
  },
  "language_info": {
   "file_extension": ".jl",
   "mimetype": "application/julia",
   "name": "julia",
   "version": "0.5.1"
  }
 },
 "nbformat": 4,
 "nbformat_minor": 2
}

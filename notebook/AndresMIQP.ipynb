{
 "cells": [
  {
   "cell_type": "code",
   "execution_count": 1,
   "metadata": {
    "collapsed": false
   },
   "outputs": [
    {
     "data": {
      "text/html": [
       "<div id=\"interact-js-shim\">\n",
       "    <script charset=\"utf-8\">\n",
       "(function (IPython, $, _, MathJax) {\n",
       "    $.event.special.destroyed = {\n",
       "\tremove: function(o) {\n",
       "\t    if (o.handler) {\n",
       "\t\to.handler.apply(this, arguments)\n",
       "\t    }\n",
       "\t}\n",
       "    }\n",
       "\n",
       "    var OutputArea = IPython.version >= \"4.0.0\" ? require(\"notebook/js/outputarea\").OutputArea : IPython.OutputArea;\n",
       "\n",
       "    var redrawValue = function (container, type, val) {\n",
       "\tvar selector = $(\"<div/>\");\n",
       "\tvar oa = new OutputArea(_.extend(selector, {\n",
       "\t    selector: selector,\n",
       "\t    prompt_area: true,\n",
       "\t    events: IPython.events,\n",
       "\t    keyboard_manager: IPython.keyboard_manager\n",
       "\t})); // Hack to work with IPython 2.1.0\n",
       "\n",
       "\tswitch (type) {\n",
       "\tcase \"image/png\":\n",
       "            var _src = 'data:' + type + ';base64,' + val;\n",
       "\t    $(container).find(\"img\").attr('src', _src);\n",
       "\t    break;\n",
       "\tcase \"text/latex\":\n",
       "\t\tif (MathJax){\n",
       "\t\t\tvar math = MathJax.Hub.getAllJax(container)[0];\n",
       "\t\t\tMathJax.Hub.Queue([\"Text\", math, val.replace(/^\\${1,2}|\\${1,2}$/g, '')]);\n",
       "\t\t\tbreak;\n",
       "\t\t}\n",
       "\tdefault:\n",
       "\t    var toinsert = OutputArea.append_map[type].apply(\n",
       "\t\toa, [val, {}, selector]\n",
       "\t    );\n",
       "\t    $(container).empty().append(toinsert.contents());\n",
       "\t    selector.remove();\n",
       "\t}\n",
       "    }\n",
       "\n",
       "\n",
       "    $(document).ready(function() {\n",
       "\tfunction initComm(evt, data) {\n",
       "\t    var comm_manager = data.kernel.comm_manager;\n",
       "        //_.extend(comm_manager.targets, require(\"widgets/js/widget\"))\n",
       "\t    comm_manager.register_target(\"Signal\", function (comm) {\n",
       "            comm.on_msg(function (msg) {\n",
       "                var val = msg.content.data.value;\n",
       "                $(\".signal-\" + comm.comm_id).each(function() {\n",
       "                var type = $(this).data(\"type\");\n",
       "                if (typeof(val[type]) !== \"undefined\" && val[type] !== null) {\n",
       "                    redrawValue(this, type, val[type], type);\n",
       "                }\n",
       "                });\n",
       "                delete val;\n",
       "                delete msg.content.data.value;\n",
       "            });\n",
       "\t    });\n",
       "\n",
       "\t    // coordingate with Comm and redraw Signals\n",
       "\t    // XXX: Test using Reactive here to improve performance\n",
       "\t    $([IPython.events]).on(\n",
       "\t\t'output_appended.OutputArea', function (event, type, value, md, toinsert) {\n",
       "\t\t    if (md && md.reactive) {\n",
       "                // console.log(md.comm_id);\n",
       "                toinsert.addClass(\"signal-\" + md.comm_id);\n",
       "                toinsert.data(\"type\", type);\n",
       "                // Signal back indicating the mimetype required\n",
       "                var comm_manager = IPython.notebook.kernel.comm_manager;\n",
       "                var comm = comm_manager.comms[md.comm_id];\n",
       "                comm.then(function (c) {\n",
       "                    c.send({action: \"subscribe_mime\",\n",
       "                       mime: type});\n",
       "                    toinsert.bind(\"destroyed\", function() {\n",
       "                        c.send({action: \"unsubscribe_mime\",\n",
       "                               mime: type});\n",
       "                    });\n",
       "                })\n",
       "\t\t    }\n",
       "\t    });\n",
       "\t}\n",
       "\n",
       "\ttry {\n",
       "\t    // try to initialize right away. otherwise, wait on the status_started event.\n",
       "\t    initComm(undefined, IPython.notebook);\n",
       "\t} catch (e) {\n",
       "\t    $([IPython.events]).on('kernel_created.Kernel kernel_created.Session', initComm);\n",
       "\t}\n",
       "    });\n",
       "})(IPython, jQuery, _, MathJax);\n",
       "</script>\n",
       "    <script>\n",
       "        window.interactLoadedFlag = true\n",
       "       $(\"#interact-js-shim\").bind(\"destroyed\", function () {\n",
       "           if (window.interactLoadedFlag) {\n",
       "               console.warn(\"JavaScript required by Interact will be removed if you remove this cell or run using Interact more than once.\")\n",
       "           }\n",
       "       })\n",
       "       $([IPython.events]).on(\"kernel_starting.Kernel kernel_restarting.Kernel\", function () { window.interactLoadedFlag = false })\n",
       "   </script>\n",
       "</div>"
      ]
     },
     "metadata": {},
     "output_type": "display_data"
    },
    {
     "name": "stdout",
     "output_type": "stream",
     "text": [
      "Loading cdd global constants\n"
     ]
    },
    {
     "name": "stderr",
     "output_type": "stream",
     "text": [
      "WARNING: Method definition describe(AbstractArray) in module StatsBase at /home/twan/code/RigidBodyDynamics/v0.5/StatsBase/src/scalarstats.jl:573 overwritten in module DataFrames at /home/twan/code/RigidBodyDynamics/v0.5/DataFrames/src/abstractdataframe/abstractdataframe.jl:407.\n"
     ]
    }
   ],
   "source": [
    "using JuMP\n",
    "using MixedIntegerExperiments\n",
    "using Polyhedra\n",
    "using CDDLib\n",
    "# using Plots\n",
    "using DrakeVisualizer\n",
    "using AxisArrayVariables\n",
    "using AxisArrays\n",
    "using BenchmarkTools\n",
    "using StaticArrays\n",
    "import BoxRobots\n",
    "using DataFrames\n",
    "# plotlyjs();"
   ]
  },
  {
   "cell_type": "code",
   "execution_count": 2,
   "metadata": {
    "collapsed": false
   },
   "outputs": [
    {
     "data": {
      "text/plain": [
       "bilinear_relaxation_method_eval (generic function with 1 method)"
      ]
     },
     "execution_count": 2,
     "metadata": {},
     "output_type": "execute_result"
    }
   ],
   "source": [
    "function bilinear_relaxation_method_eval(method::Symbol, disc_level::Int)\n",
    "    optparams = MIQPTrajOptParams(verbose = false, nsteps = 10, disc_level = disc_level, bilinearmethod = method)\n",
    "    contact_point_descriptions = Dict(:foot => ContactPointDescription(2., SimpleVRepresentation([-0.5 -0.5; 0.5 -0.5; -0.5 -1.; 0.5 -1.])))\n",
    "    robot = BoxRobotWithRotation2D(0., 1., 60., SVector(0, -9.81), contact_point_descriptions)\n",
    "    environment = [\n",
    "        contact_region([0.; 0.], [1.; 0.], 0.8, 2 * robot.m * norm(robot.g)); \n",
    "        axis_aligned_free_box_region([0.; 0.], [1.; 1.])];\n",
    "\n",
    "    contactpointstates = Dict(:foot => ContactPointState(SVector(0.5, 0.)))\n",
    "    initialstate = BoxRobotWithRotation2DState(0., 0.1, SVector(0.5, 0.8), SVector(0.5, 0.), contactpointstates)\n",
    "    states, inputs, diagnostics = miqp_trajopt(robot, environment, initialstate, optparams);\n",
    "end"
   ]
  },
  {
   "cell_type": "code",
   "execution_count": 3,
   "metadata": {
    "collapsed": false
   },
   "outputs": [
    {
     "data": {
      "text/plain": [
       "bilinear_relaxation_method_eval (generic function with 2 methods)"
      ]
     },
     "execution_count": 3,
     "metadata": {},
     "output_type": "execute_result"
    }
   ],
   "source": [
    "function bilinear_relaxation_method_eval(scenarios::Dict{Symbol, Vector{Int}})\n",
    "    methods = Symbol[]\n",
    "    levels = Int[]\n",
    "    times = Float64[]\n",
    "    violations = Float64[]\n",
    "\n",
    "    for (method, disc_levels) in scenarios\n",
    "        for disc_level in disc_levels\n",
    "            println(\"Evaluating $(string(method)) at discretization level $(disc_level - 1)\")\n",
    "            flush(STDOUT)\n",
    "            states, inputs, diagnostics = bilinear_relaxation_method_eval(method, disc_level)\n",
    "            time = diagnostics.solvetime\n",
    "            violation = constraint_violation_norm(diagnostics)\n",
    "            push!(methods, method)\n",
    "            push!(levels, disc_level - 1) # -1, because I want 1 to mean a single McCormick envelope\n",
    "            push!(times, time)\n",
    "            push!(violations, violation)\n",
    "            println(\"time: $time, violation: $violation\")\n",
    "            println()\n",
    "        end\n",
    "    end\n",
    "\n",
    "    d = DataFrame(method = methods, disclevel = levels, time = times, violation = violations)\n",
    "end"
   ]
  },
  {
   "cell_type": "code",
   "execution_count": 4,
   "metadata": {
    "collapsed": false
   },
   "outputs": [],
   "source": [
    "# scenarios = Dict(:HRepConvexHull => [4, 9], :Logarithmic1D => [4, 9], :Logarithmic2D => [2, 3])\n",
    "# scenarios = Dict(:HRepConvexHull => collect(2 : 11), :Logarithmic1D => collect(2 : 18), :Logarithmic2D => collect(2 : 9))\n",
    "# bilinear_relaxation_method_eval(Dict(:HRepConvexHull => [2])) # warmup\n",
    "# d = bilinear_relaxation_method_eval(scenarios)"
   ]
  },
  {
   "cell_type": "code",
   "execution_count": 25,
   "metadata": {
    "collapsed": false
   },
   "outputs": [],
   "source": [
    "datadir = \"/home/twan/Dropbox/170612 group meeting long/data\"\n",
    "figuredir = \"/home/twan/Dropbox/170612 group meeting long/figures\"\n",
    "filepath = joinpath(datadir, \"bilinearrelax.csv\")\n",
    "# writetable(filepath, d)\n",
    "d = readtable(filepath);"
   ]
  },
  {
   "cell_type": "code",
   "execution_count": 26,
   "metadata": {
    "collapsed": false
   },
   "outputs": [],
   "source": [
    "using Plots\n",
    "using StatPlots\n",
    "using Query"
   ]
  },
  {
   "cell_type": "code",
   "execution_count": 34,
   "metadata": {
    "collapsed": false
   },
   "outputs": [],
   "source": [
    "tmax = maximum(d[:time])\n",
    "violmax = maximum(d[:violation])\n",
    "sz = 0.75 .* [400; 300]\n",
    "for method in unique(d[:method])\n",
    "    x = @from i in d begin\n",
    "        @where i.method == method\n",
    "        @select {i.disclevel, i.time, i.violation}\n",
    "        @collect DataFrame\n",
    "    end\n",
    "    xticks = Vector(x[:disclevel])\n",
    "    timeplot = bar(x[:disclevel], x[:time], xlabel = \"discretization level\", ylabel = \"solve time [s]\", \n",
    "    lab = \"\", title = method, ylim = [0., tmax], xticks = xticks, size = sz)\n",
    "    savefig(timeplot, joinpath(figuredir, \"bilinearrelax_$(method)_time.png\"))\n",
    "#     display(timeplot)\n",
    "    \n",
    "    violplot = bar(x[:disclevel], x[:violation], xlabel = \"discretization level\", ylabel = \"constraint violation [Nm]\",\n",
    "        lab = \"\", title = method, color = :red, ylim = [0., violmax], xticks = xticks, size = sz)\n",
    "    savefig(violplot, joinpath(figuredir, \"bilinearrelax_$(method)_viol.png\"))\n",
    "#     display(violplot)\n",
    "end"
   ]
  },
  {
   "cell_type": "code",
   "execution_count": 5,
   "metadata": {
    "collapsed": true
   },
   "outputs": [],
   "source": [
    "show_plots = false;"
   ]
  },
  {
   "cell_type": "code",
   "execution_count": 6,
   "metadata": {
    "collapsed": false
   },
   "outputs": [],
   "source": [
    "# if show_plots\n",
    "#     display(plot_environment(environment))\n",
    "#     for (i, region) in enumerate(environment)\n",
    "#         isfree(region) || display(plot_allowable_forces(region, i))\n",
    "#     end\n",
    "#     display(plot_kinematic_regions(Dict(sym => limb.kinematic_region for (sym, limb) in robot.ContactPointDescriptions)))\n",
    "# end"
   ]
  },
  {
   "cell_type": "code",
   "execution_count": 7,
   "metadata": {
    "collapsed": false
   },
   "outputs": [],
   "source": [
    "method = :Logarithmic2D\n",
    "disc_level = 6\n",
    "states, inputs, diagnostics = bilinear_relaxation_method_eval(method, disc_level);"
   ]
  },
  {
   "cell_type": "code",
   "execution_count": 8,
   "metadata": {
    "collapsed": false
   },
   "outputs": [],
   "source": [
    "optparams = MIQPTrajOptParams(verbose = false, nsteps = 10, disc_level = disc_level, bilinearmethod = method)\n",
    "contact_point_descriptions = Dict(:foot => ContactPointDescription(2., SimpleVRepresentation([-0.5 -0.5; 0.5 -0.5; -0.5 -1.; 0.5 -1.])))\n",
    "robot = BoxRobotWithRotation2D(0., 1., 60., SVector(0, -9.81), contact_point_descriptions)\n",
    "environment = [\n",
    "    contact_region([0.; 0.], [1.; 0.], 0.8, 2 * robot.m * norm(robot.g)); \n",
    "    axis_aligned_free_box_region([0.; 0.], [1.; 1.])];\n",
    "ts = collect(0 : optparams.Δt : optparams.Δt * (optparams.nsteps - 1))\n",
    "brstates = BoxRobots.BoxRobotState.(states)\n",
    "brinputs = BoxRobots.BoxRobotInput.(inputs)\n",
    "trajectory = BoxRobots.Trajectory(ts, BoxRobots.BoxRobotSimulationData.(ts, brstates, brinputs))\n",
    "vis_options = BoxRobots.BoxRobotVisualizerOptions(force_arrow_normalizer=robot.m*norm(robot.g), playback_speed = 0.2)\n",
    "\n",
    "\n",
    "# BoxRobots.draw_box_robot_state(vis, brstates[1], options = vis_options, input = brinputs[1])\n",
    ";"
   ]
  },
  {
   "cell_type": "code",
   "execution_count": 9,
   "metadata": {
    "collapsed": false
   },
   "outputs": [],
   "source": [
    "DrakeVisualizer.any_open_windows() || DrakeVisualizer.new_window(); sleep(1)\n",
    "vis = Visualizer()\n",
    "BoxRobots.playback_trajectory(vis, trajectory, options = vis_options)"
   ]
  },
  {
   "cell_type": "code",
   "execution_count": 2,
   "metadata": {
    "collapsed": false
   },
   "outputs": [
    {
     "data": {
      "text/plain": [
       "visualization_environment (generic function with 1 method)"
      ]
     },
     "execution_count": 2,
     "metadata": {},
     "output_type": "execute_result"
    }
   ],
   "source": [
    "function visualization_environment(;dist_to_left_wall=0.5, dist_to_right_wall=0.5)\n",
    "    thickness = 0.1\n",
    "    floor_poly = polyhedron_from_bounds([-1,1],[-thickness,0])\n",
    "    floor = Surface(SimpleHRepresentation(floor_poly))\n",
    "\n",
    "    right_wall_poly = polyhedron_from_bounds([dist_to_right_wall,\n",
    "    dist_to_right_wall + thickness],[-0.1,1.5])\n",
    "    right_wall = Surface(SimpleHRepresentation(right_wall_poly))\n",
    "\n",
    "    left_wall_poly = polyhedron_from_bounds([-(dist_to_left_wall + thickness),\n",
    "    -dist_to_left_wall],[-0.1,1.5])\n",
    "    left_wall = Surface(SimpleHRepresentation(left_wall_poly))\n",
    "\n",
    "    surfaces = [floor, right_wall, left_wall]\n",
    "    Environment(surfaces)\n",
    "end"
   ]
  },
  {
   "cell_type": "code",
   "execution_count": 3,
   "metadata": {
    "collapsed": false
   },
   "outputs": [
    {
     "data": {
      "text/plain": [
       "trajopt_environment (generic function with 1 method)"
      ]
     },
     "execution_count": 3,
     "metadata": {},
     "output_type": "execute_result"
    }
   ],
   "source": [
    "function trajopt_environment(robot::BoxRobotWithRotation2D; dist_to_left_wall=0.5, dist_to_right_wall=0.5)\n",
    "    μ = 0.8\n",
    "    maxforce = 2 * robot.m * norm(robot.g)\n",
    "    environment = [contact_region([-dist_to_left_wall; 0.], [dist_to_right_wall; 0.], μ, maxforce);\n",
    "        contact_region([-dist_to_left_wall; 0.], [-dist_to_left_wall; 1.], μ, maxforce);\n",
    "        contact_region([dist_to_right_wall; 0.], [dist_to_right_wall; 1.], μ, maxforce);\n",
    "        axis_aligned_free_box_region([-dist_to_left_wall; 0.], [dist_to_right_wall; 1.])]\n",
    "end"
   ]
  },
  {
   "cell_type": "code",
   "execution_count": 4,
   "metadata": {
    "collapsed": false
   },
   "outputs": [],
   "source": [
    "method = :Logarithmic2D\n",
    "disc_level = 2\n",
    "optparams = MIQPTrajOptParams(verbose = false, nsteps = 10, disc_level = disc_level, bilinearmethod = method)\n",
    "contact_point_descriptions = Dict(\n",
    "    :foot => ContactPointDescription(2., SimpleVRepresentation([-0.5 -0.5; 0.5 -0.5; -0.5 -1.; 0.5 -1.])),\n",
    "    :hand => ContactPointDescription(2., SimpleVRepresentation([-0.5 -0.5; 0.5 -0.5; -0.5 0.5; 0.5 0.5])))\n",
    "robot = BoxRobotWithRotation2D(0., 1., 60., SVector(0, -9.81), contact_point_descriptions)\n",
    "environment = trajopt_environment(robot)\n",
    "contactpointstates = Dict(:foot => ContactPointState(SVector(0., 0.)), :hand => ContactPointState(SVector(0.7, 0.1)))\n",
    "initialstate = BoxRobotWithRotation2DState(0., 0.1, SVector(0.0, 0.8), SVector(0.5, 0.), contactpointstates)\n",
    ";"
   ]
  },
  {
   "cell_type": "code",
   "execution_count": 5,
   "metadata": {
    "collapsed": false
   },
   "outputs": [
    {
     "name": "stderr",
     "output_type": "stream",
     "text": [
      "\u001b[1m\u001b[31mWARNING: Not solved to optimality, status: Infeasible\u001b[0m\n"
     ]
    },
    {
     "ename": "LoadError",
     "evalue": "AssertionError: status == :Optimal",
     "output_type": "error",
     "traceback": [
      "AssertionError: status == :Optimal",
      "",
      " in miqp_trajopt(::MixedIntegerExperiments.BoxRobotWithRotation2D, ::Array{MixedIntegerExperiments.EnvironmentRegion{2,Float64},1}, ::MixedIntegerExperiments.BoxRobotWithRotation2DState{Float64}, ::MixedIntegerExperiments.MIQPTrajOptParams) at /home/twan/code/RigidBodyDynamics/v0.5/MixedIntegerExperiments/src/trajopt.jl:241"
     ]
    }
   ],
   "source": [
    "states, inputs, diagnostics = miqp_trajopt(robot, environment, initialstate, optparams);"
   ]
  },
  {
   "cell_type": "code",
   "execution_count": null,
   "metadata": {
    "collapsed": true
   },
   "outputs": [],
   "source": [
    "ts = collect(0 : optparams.Δt : optparams.Δt * (optparams.nsteps - 1))\n",
    "brstates = BoxRobots.BoxRobotState.(states)\n",
    "brinputs = BoxRobots.BoxRobotInput.(inputs)\n",
    "trajectory = BoxRobots.Trajectory(ts, BoxRobots.BoxRobotSimulationData.(ts, brstates, brinputs))\n",
    "vis_options = BoxRobots.BoxRobotVisualizerOptions(force_arrow_normalizer=robot.m*norm(robot.g), playback_speed = 0.2)"
   ]
  },
  {
   "cell_type": "code",
   "execution_count": 16,
   "metadata": {
    "collapsed": false
   },
   "outputs": [],
   "source": [
    "# using MixedIntegerExperiments\n",
    "# vis = MixedIntegerExperiments.plot_piecewise_mccormick(5, -1., 1., -1., 1.);"
   ]
  },
  {
   "cell_type": "code",
   "execution_count": 17,
   "metadata": {
    "collapsed": false
   },
   "outputs": [],
   "source": [
    "# using Base.Test\n",
    "# # TODO: more checks on the final result\n",
    "\n",
    "# zvals = similar(zs, Float64)\n",
    "# for i = 1 : length(contacts), j = 1 : length(steps)\n",
    "#     @test sum(getvalue(zs[contacts(i), steps(j)])) == 1\n",
    "# end"
   ]
  },
  {
   "cell_type": "code",
   "execution_count": 18,
   "metadata": {
    "collapsed": false
   },
   "outputs": [],
   "source": [
    "# gr()\n",
    "# plt = plot_environment(environment)\n",
    "# bla = plot!(plt, [NaN], [NaN], lab = \"CoM\", markershape = :circle)\n",
    "# xvals = getvalue.(rs[:x])\n",
    "# zvals = getvalue.(rs[:z])\n",
    "# anim = @animate for n = 1 : nsteps\n",
    "#     plt[3] = ([xvals[n]], [zvals[n]])\n",
    "# end"
   ]
  },
  {
   "cell_type": "code",
   "execution_count": 19,
   "metadata": {
    "collapsed": false
   },
   "outputs": [],
   "source": [
    "# gif(anim, loop = 3, fps = round(Int64, 1 / h))"
   ]
  },
  {
   "cell_type": "code",
   "execution_count": null,
   "metadata": {
    "collapsed": true
   },
   "outputs": [],
   "source": []
  }
 ],
 "metadata": {
  "kernelspec": {
   "display_name": "Julia 0.5.1",
   "language": "julia",
   "name": "julia-0.5"
  },
  "language_info": {
   "file_extension": ".jl",
   "mimetype": "application/julia",
   "name": "julia",
   "version": "0.5.1"
  }
 },
 "nbformat": 4,
 "nbformat_minor": 1
}

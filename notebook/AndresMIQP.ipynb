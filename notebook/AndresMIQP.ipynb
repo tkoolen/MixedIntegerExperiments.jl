{
 "cells": [
  {
   "cell_type": "code",
   "execution_count": 1,
   "metadata": {
    "collapsed": false
   },
   "outputs": [],
   "source": [
    "using JuMP\n",
    "using Gurobi\n",
    "using MixedIntegerExperiments\n",
    "using Polyhedra\n",
    "# using BenchmarkTools\n",
    "# using Plots\n",
    "# using DrakeVisualizer"
   ]
  },
  {
   "cell_type": "code",
   "execution_count": 2,
   "metadata": {
    "collapsed": false
   },
   "outputs": [],
   "source": [
    "# Pkg.clone(\"https://github.com/andreasnoack/LinearAlgebra.jl\")\n",
    "# Pkg.clone(\"git@github.com:JuliaPolyhedra/ConvexHull.jl.git\")"
   ]
  },
  {
   "cell_type": "code",
   "execution_count": 3,
   "metadata": {
    "collapsed": false
   },
   "outputs": [],
   "source": [
    "# Pkg.checkout(\"DrakeVisualizer\", \"bugfixes\")"
   ]
  },
  {
   "cell_type": "code",
   "execution_count": 4,
   "metadata": {
    "collapsed": true
   },
   "outputs": [],
   "source": [
    "verbose = true;"
   ]
  },
  {
   "cell_type": "code",
   "execution_count": 5,
   "metadata": {
    "collapsed": false
   },
   "outputs": [],
   "source": [
    "# parameters\n",
    "nsteps = 100\n",
    "ncontacts = 2\n",
    "h = 0.1\n",
    "I = 1.\n",
    "m = 10.\n",
    "g = [0; -9.81]\n",
    "r0 = [0.5; 0.8]\n",
    "ṙ0 = [0.0; 0.0]\n",
    "θ0 = 0.\n",
    "ω0 = 0.\n",
    "contactregion = contact_region([0.; 0.], [1.; 0.], 0.8, 2 * m * norm(g))\n",
    "freeregion = axis_aligned_free_box_region([0.; 0.], [1.; 1.])\n",
    "regions = [contactregion; freeregion]\n",
    "nregions = length(regions);"
   ]
  },
  {
   "cell_type": "code",
   "execution_count": 6,
   "metadata": {
    "collapsed": false
   },
   "outputs": [
    {
     "ename": "LoadError",
     "evalue": "UndefVarError: DrakeVisualizer not defined",
     "output_type": "error",
     "traceback": [
      "UndefVarError: DrakeVisualizer not defined",
      ""
     ]
    }
   ],
   "source": [
    "DrakeVisualizer.any_open_windows() || DrakeVisualizer.new_window()\n",
    "# Visualizer(polyhedron(contactregion.position))"
   ]
  },
  {
   "cell_type": "code",
   "execution_count": 7,
   "metadata": {
    "collapsed": false
   },
   "outputs": [],
   "source": [
    "model = Model(solver=GurobiSolver(Presolve=0, OutputFlag=Int(verbose)));"
   ]
  },
  {
   "cell_type": "code",
   "execution_count": 8,
   "metadata": {
    "collapsed": false
   },
   "outputs": [],
   "source": [
    "@variables(model, begin\n",
    "    z[i = 1 : ncontacts, j = 1 : nregions, n = 1 : nsteps], Bin\n",
    "    r̂[k = 1 : 2, i = 1 : ncontacts, j = 1 : nregions, n = 1 : nsteps]\n",
    "    f̂[k = 1 : 2, i = 1 : ncontacts, j = 1 : nregions, n = 1 : nsteps]\n",
    "    r[k = 1 : 2, n = 1 : nsteps]\n",
    "    θ[n = 1 : nsteps]\n",
    "    ṙ[k = 1 : 2, n = 1 : nsteps]\n",
    "    ω[n = 1 : nsteps]\n",
    "    rc[k = 1 : 2, i = 1 : ncontacts, n = 1 : nsteps]\n",
    "    f[k = 1 : 2, i = 1 : ncontacts, n = 1 : nsteps]\n",
    "    F[k = 1 : 2, n = 1 : nsteps]\n",
    "    T[n = 1 : nsteps]\n",
    "    s[k = 1 : 2, i = 1 : ncontacts, n = 1 : nsteps]\n",
    "    wzx[i = 1 : ncontacts, n = 1 : nsteps]\n",
    "    wxz[i = 1 : ncontacts, n = 1 : nsteps]\n",
    "    γ[i = 1 : ncontacts, j = 1 : nregions, n = 1 : nsteps - 1]\n",
    "    Γ[i = 1 : ncontacts, j = 1 : nregions]\n",
    "end)"
   ]
  },
  {
   "cell_type": "code",
   "execution_count": 9,
   "metadata": {
    "collapsed": false
   },
   "outputs": [
    {
     "data": {
      "text/plain": [
       "hrep_to_constraints (generic function with 1 method)"
      ]
     },
     "execution_count": 9,
     "metadata": {},
     "output_type": "execute_result"
    }
   ],
   "source": [
    "function hrep_to_constraints(model::Model, hr::HRepresentation, vars::Vector{Variable})\n",
    "    for ineq in ineqs(hr)\n",
    "        @constraint(model, ineq.a ⋅ vars <= ineq.β)\n",
    "    end\n",
    "    for eq in eqs(hr)\n",
    "        @constraint(model, eq.a ⋅ vars == eq.β)\n",
    "    end\n",
    "end"
   ]
  },
  {
   "cell_type": "code",
   "execution_count": 10,
   "metadata": {
    "collapsed": false
   },
   "outputs": [],
   "source": [
    "# 4.6\n",
    "for j = 1 : nregions\n",
    "    region = regions[j]\n",
    "    for i = 1 : ncontacts, n = 1 : nsteps\n",
    "        hrep_to_constraints(model, region.position, r̂[:, i, j, n])\n",
    "        hrep_to_constraints(model, region.force, f̂[:, i, j, n])\n",
    "    end\n",
    "    \n",
    "    lr, ur = axis_aligned_bounding_box(region.position)\n",
    "    lf, uf = axis_aligned_bounding_box(region.force)\n",
    "    @constraints(model, begin\n",
    "        [i = 1 : ncontacts, k = 1 : 2, n = 1 : nsteps], z[i, j, n] * lr[k] <= r̂[k, i, j, n]\n",
    "        [i = 1 : ncontacts, k = 1 : 2, n = 1 : nsteps], r̂[k, i, j, n] <= z[i, j, n] * ur[k]\n",
    "        [i = 1 : ncontacts, k = 1 : 2, n = 1 : nsteps], z[i, j, n] * lf[k] <= f̂[k, i, j, n]\n",
    "        [i = 1 : ncontacts, k = 1 : 2, n = 1 : nsteps], f̂[k, i, j, n] <= z[i, j, n] * uf[k]\n",
    "    end)\n",
    "end\n",
    "\n",
    "@constraints(model, begin\n",
    "    [i = 1 : ncontacts, k = 1 : 2, n = 1 : nsteps], sum(r̂[k, i, j, n] for j = 1 : nregions) == rc[k, i, n]\n",
    "    [i = 1 : ncontacts, k = 1 : 2, n = 1 : nsteps], sum(f̂[k, i, j, n] for j = 1 : nregions) == f[k, i, n]\n",
    "    [i = 1 : ncontacts, n = 1 : nsteps], sum(z[i, j, n] for j = 1 : nregions) == 1\n",
    "end)"
   ]
  },
  {
   "cell_type": "code",
   "execution_count": 11,
   "metadata": {
    "collapsed": false
   },
   "outputs": [],
   "source": [
    "@constraints(model, begin\n",
    "    [n = 1 : nsteps, i = 1 : ncontacts, k = 1 : 2], s[k, i, n] == rc[k, i, n] - r[k, n]\n",
    "end)"
   ]
  },
  {
   "cell_type": "code",
   "execution_count": 12,
   "metadata": {
    "collapsed": false
   },
   "outputs": [],
   "source": [
    "# 4.18\n",
    "@constraints(model, begin\n",
    "    [n = 1 : nsteps - 1, k = 1 : 2], r[k, n + 1] == r[k, n] + h * ṙ[k, n + 1]\n",
    "    [n = 1 : nsteps - 1], θ[n + 1] == θ[n] + h * ω[n + 1]\n",
    "    [n = 1 : nsteps - 1, k = 1 : 2], ṙ[k, n + 1] == ṙ[k, n] + h / m * F[k, n + 1]\n",
    "    [n = 1 : nsteps - 1], ω[n + 1] == ω[n] + h / I * T[n + 1]\n",
    "    [n = 1 : nsteps, k = 1 : 2], F[k, n] == m * g[k] + sum(f[k, i, n] for i = 1 : ncontacts)\n",
    "    [n = 1 : nsteps], T[n] == sum(wzx[i, n] - wxz[i, n] for i = 1 : ncontacts)\n",
    "end)"
   ]
  },
  {
   "cell_type": "code",
   "execution_count": 13,
   "metadata": {
    "collapsed": false
   },
   "outputs": [],
   "source": [
    "# function mccormick_envelope_constraints(model::Model, w::Variable, u::Variable, v::Variable, urange::FloatRange)\n",
    "#     # convex approximation of w == u * v\n",
    "#     # 4.21\n",
    "#     @assert first(urange) >= 0\n",
    "#     @assert last(urange) <= 1\n",
    "#     @constraints(model, begin\n",
    "#         w >= first(urange) * v\n",
    "#         w >= last(urange) * v + u - last(urange)\n",
    "#         w <= first(urange) * v + u - first(urange)\n",
    "#         w <= last(urange) * v\n",
    "#         first(urange) <= u\n",
    "#         u <= last(urange)\n",
    "#     end)\n",
    "# end"
   ]
  },
  {
   "cell_type": "code",
   "execution_count": 14,
   "metadata": {
    "collapsed": false
   },
   "outputs": [
    {
     "data": {
      "text/plain": [
       "mccormick_envelope_constraints (generic function with 1 method)"
      ]
     },
     "execution_count": 14,
     "metadata": {},
     "output_type": "execute_result"
    }
   ],
   "source": [
    "function mccormick_envelope_constraints(model::Model, w::Variable, u::Variable, v::Variable, urange::FloatRange)\n",
    "    @assert first(urange) == 0. && last(urange) == 1.\n",
    "    @constraints(model, begin\n",
    "        w <= v\n",
    "        w <= u\n",
    "        w >= u + v - 1\n",
    "        0 <= u\n",
    "        u <= 1\n",
    "        0 <= v\n",
    "        v <= 1\n",
    "#         0 <= w\n",
    "#         w <= 1\n",
    "    end)\n",
    "end"
   ]
  },
  {
   "cell_type": "code",
   "execution_count": 15,
   "metadata": {
    "collapsed": false
   },
   "outputs": [],
   "source": [
    "# convex bilinear term approximations (4.12, 4.13)\n",
    "for i = 1 : ncontacts, n = 1 : nsteps\n",
    "    mccormick_envelope_constraints(model, wxz[i, n], s[1, i, n], f[2, i, n], 0. : 1.) # TODO: range\n",
    "    mccormick_envelope_constraints(model, wzx[i, n], s[2, i, n], f[1, i, n], 0. : 1.)\n",
    "end"
   ]
  },
  {
   "cell_type": "code",
   "execution_count": 16,
   "metadata": {
    "collapsed": false
   },
   "outputs": [],
   "source": [
    "# initial conditions\n",
    "@constraints(model, begin\n",
    "    r[:, 1] .== r0\n",
    "    θ[1] == θ0\n",
    "    ṙ[:, 1] .== ṙ0\n",
    "    ω[1] == ω0\n",
    "end)"
   ]
  },
  {
   "cell_type": "code",
   "execution_count": 17,
   "metadata": {
    "collapsed": false
   },
   "outputs": [],
   "source": [
    "# TODO: more task-specific constraints\n",
    "@constraints(model, begin\n",
    "    [n = 1 : nsteps], r[2, n] >= 0.\n",
    "end)"
   ]
  },
  {
   "cell_type": "code",
   "execution_count": 18,
   "metadata": {
    "collapsed": false
   },
   "outputs": [],
   "source": [
    "# objective function + slack parameterization\n",
    "@constraints(model, begin\n",
    "    [i = 1 : ncontacts, j = 1 : nregions], Γ[i, j] == sum(γ[i, j, n] for n = 1 : nsteps - 1)\n",
    "    [i = 1 : ncontacts, j = 1 : nregions, n = 1 : nsteps - 1], -γ[i, j, n] <= z[i, j, n + 1] - z[i, j, n]\n",
    "    [i = 1 : ncontacts, j = 1 : nregions, n = 1 : nsteps - 1], z[i, j, n + 1] - z[i, j, n] <= γ[i, j, n]\n",
    "    [i = 1 : ncontacts, j = 1 : nregions, n = 1 : nsteps - 1], 0 <= γ[i, j, n]\n",
    "    [i = 1 : ncontacts, j = 1 : nregions, n = 1 : nsteps - 1], γ[i, j, n] <= 1\n",
    "end)\n",
    "\n",
    "# @objective(model, begin\n",
    "#     sum(Γ[i, j] for i = 1 : ncontacts, j = 1 : nregions) + sum(f[]) # TODO\n",
    "# end)"
   ]
  },
  {
   "cell_type": "code",
   "execution_count": 19,
   "metadata": {
    "collapsed": false
   },
   "outputs": [
    {
     "name": "stdout",
     "output_type": "stream",
     "text": [
      "Optimize a model with 12588 rows, 4900 columns and 22156 nonzeros\n",
      "Coefficient statistics:\n",
      "  Matrix range    [1e-02, 2e+02]\n",
      "  Objective range [0e+00, 0e+00]\n",
      "  Bounds range    [1e+00, 1e+00]\n",
      "  RHS range       [5e-01, 2e+02]\n",
      "Variable types: 4500 continuous, 400 integer (400 binary)\n",
      "\n",
      "Root relaxation: infeasible, 4108 iterations, 0.52 seconds\n",
      "\n",
      "    Nodes    |    Current Node    |     Objective Bounds      |     Work\n",
      " Expl Unexpl |  Obj  Depth IntInf | Incumbent    BestBd   Gap | It/Node Time\n",
      "\n",
      "     0     0 infeasible    0               - infeasible      -     -    0s\n",
      "\n",
      "Explored 0 nodes (4108 simplex iterations) in 0.59 seconds\n",
      "Thread count was 4 (of 8 available processors)\n",
      "\n",
      "Model is infeasible\n",
      "Best objective -, best bound -, gap -\n"
     ]
    },
    {
     "name": "stderr",
     "output_type": "stream",
     "text": [
      "\u001b[1m\u001b[31mWARNING: Not solved to optimality, status: Infeasible\u001b[0m\n",
      "\u001b[1m\u001b[31mWARNING: Infeasibility ray (Farkas proof) not available\u001b[0m\n"
     ]
    },
    {
     "data": {
      "text/plain": [
       ":Infeasible"
      ]
     },
     "execution_count": 19,
     "metadata": {},
     "output_type": "execute_result"
    }
   ],
   "source": [
    "solve(model)"
   ]
  },
  {
   "cell_type": "code",
   "execution_count": null,
   "metadata": {
    "collapsed": true
   },
   "outputs": [],
   "source": []
  }
 ],
 "metadata": {
  "kernelspec": {
   "display_name": "Julia 0.5.0",
   "language": "julia",
   "name": "julia-0.5"
  },
  "language_info": {
   "file_extension": ".jl",
   "mimetype": "application/julia",
   "name": "julia",
   "version": "0.5.0"
  }
 },
 "nbformat": 4,
 "nbformat_minor": 1
}

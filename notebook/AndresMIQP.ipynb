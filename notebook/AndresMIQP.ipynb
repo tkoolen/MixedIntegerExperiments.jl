{
 "cells": [
  {
   "cell_type": "code",
   "execution_count": 1,
   "metadata": {
    "collapsed": false
   },
   "outputs": [],
   "source": [
    "using JuMP\n",
    "using MixedIntegerExperiments\n",
    "using Polyhedra\n",
    "using CDDLib\n",
    "# using Plots\n",
    "using DrakeVisualizer\n",
    "using AxisArrayVariables\n",
    "using AxisArrays\n",
    "using BenchmarkTools\n",
    "using StaticArrays\n",
    "ENV[\"PYTHONPATH\"] = \"/home/twan/code/drake-mpc/build/install/lib/python2.7/dist-packages:/home/twan/code/drake-mpc/src\"\n",
    "# import BoxRobots\n",
    "using DataFrames"
   ]
  },
  {
   "cell_type": "code",
   "execution_count": 2,
   "metadata": {
    "collapsed": false
   },
   "outputs": [
    {
     "data": {
      "text/plain": [
       "bilinear_relaxation_method_eval (generic function with 1 method)"
      ]
     },
     "execution_count": 2,
     "metadata": {},
     "output_type": "execute_result"
    }
   ],
   "source": [
    "function bilinear_relaxation_method_eval(method::Symbol, disc_level::Int)\n",
    "    optparams = MIQPTrajOptParams(verbose = false, nsteps = 10, disc_level = disc_level, bilinearmethod = method)\n",
    "    contact_point_descriptions = Dict(:foot => ContactPointDescription(2., SimpleVRepresentation([-0.5 -0.5; 0.5 -0.5; -0.5 -1.; 0.5 -1.])))\n",
    "    robot = BoxRobotWithRotation2D(0., 1., 60., SVector(0, -9.81), contact_point_descriptions)\n",
    "    environment = [\n",
    "        contact_region([0.; 0.], [1.; 0.], 0.8, 2 * robot.m * norm(robot.g)); \n",
    "        axis_aligned_free_box_region([0.; 0.], [1.; 1.])];\n",
    "\n",
    "    contactpointstates = Dict(:foot => ContactPointState(SVector(0.5, 0.)))\n",
    "    initialstate = BoxRobotWithRotation2DState(0., 0.1, SVector(0.5, 0.8), SVector(0.5, 0.), contactpointstates)\n",
    "    states, inputs, diagnostics = miqp_trajopt(robot, environment, initialstate, optparams);\n",
    "end"
   ]
  },
  {
   "cell_type": "code",
   "execution_count": 3,
   "metadata": {
    "collapsed": false
   },
   "outputs": [
    {
     "data": {
      "text/plain": [
       "bilinear_relaxation_method_eval (generic function with 2 methods)"
      ]
     },
     "execution_count": 3,
     "metadata": {},
     "output_type": "execute_result"
    }
   ],
   "source": [
    "function bilinear_relaxation_method_eval(scenarios::Dict{Symbol, Vector{Int}})\n",
    "    methods = Symbol[]\n",
    "    levels = Int[]\n",
    "    times = Float64[]\n",
    "    violations = Float64[]\n",
    "    contvars = Int[]\n",
    "    binvars = Int[]\n",
    "\n",
    "    for (method, disc_levels) in scenarios\n",
    "        for disc_level in disc_levels\n",
    "            println(\"Evaluating $(string(method)) at discretization level $(disc_level - 1)\")\n",
    "            flush(STDOUT)\n",
    "            states, inputs, diagnostics = bilinear_relaxation_method_eval(method, disc_level)\n",
    "            time = diagnostics.solvetime\n",
    "            violation = rms_constraint_violation(diagnostics)\n",
    "            push!(methods, method)\n",
    "            push!(levels, disc_level - 1) # -1, because I want 1 to mean a single McCormick envelope\n",
    "            push!(times, time)\n",
    "            push!(violations, violation)\n",
    "            push!(contvars, diagnostics.num_continuous_variables)\n",
    "            push!(binvars, diagnostics.num_binary_variables)\n",
    "            println(\"time: $time, violation: $violation\")\n",
    "            println()\n",
    "        end\n",
    "    end\n",
    "\n",
    "    d = DataFrame(method = methods, disclevel = levels, time = times, violation = violations, contvars = contvars, binvars = binvars)\n",
    "end"
   ]
  },
  {
   "cell_type": "code",
   "execution_count": 4,
   "metadata": {
    "collapsed": false
   },
   "outputs": [
    {
     "name": "stdout",
     "output_type": "stream",
     "text": [
      "Evaluating HRepConvexHull at discretization level 1\n"
     ]
    },
    {
     "data": {
      "text/html": [
       "<table class=\"data-frame\"><thead><tr><th></th><th>method</th><th>disclevel</th><th>time</th><th>violation</th><th>contvars</th><th>binvars</th></tr></thead><tbody><tr><th>1</th><td>HRepConvexHull</td><td>1</td><td>1.400641496</td><td>112.01074547600551</td><td>290</td><td>20</td></tr></tbody></table>"
      ],
      "text/plain": [
       "1×6 DataFrames.DataFrame\n",
       "│ Row │ method         │ disclevel │ time    │ violation │ contvars │ binvars │\n",
       "├─────┼────────────────┼───────────┼─────────┼───────────┼──────────┼─────────┤\n",
       "│ 1   │ HRepConvexHull │ 1         │ 1.40064 │ 112.011   │ 290      │ 20      │"
      ]
     },
     "execution_count": 4,
     "metadata": {},
     "output_type": "execute_result"
    }
   ],
   "source": [
    "bilinear_relaxation_method_eval(Dict(:HRepConvexHull => [2])) # warmup"
   ]
  },
  {
   "cell_type": "code",
   "execution_count": 5,
   "metadata": {
    "collapsed": false
   },
   "outputs": [
    {
     "name": "stdout",
     "output_type": "stream",
     "text": [
      "Evaluating Logarithmic1D at discretization level 1\n",
      "n = 10\n",
      "time: 0.02142817, violation: 112.01074547600557\n",
      "\n",
      "Evaluating Logarithmic1D at discretization level 2\n",
      "n = 10\n",
      "time: 0.057938611, violation: 110.59793816239231\n",
      "\n",
      "Evaluating Logarithmic1D at discretization level 3\n",
      "n = 10\n",
      "time: 0.211086894, violation: 74.78717695151555\n",
      "\n",
      "Evaluating Logarithmic1D at discretization level 4\n",
      "n = 10\n",
      "time: 1.268126798, violation: 12.187637003806689\n",
      "\n",
      "Evaluating Logarithmic1D at discretization level 5\n",
      "n = 10\n",
      "time: 2.648265266, violation: 18.242006659888244\n",
      "\n",
      "Evaluating Logarithmic1D at discretization level 6\n",
      "n = 10\n",
      "time: 2.91861353, violation: 16.019097781799456\n",
      "\n",
      "Evaluating Logarithmic1D at discretization level 7\n",
      "n = 10\n",
      "time: 4.204212853, violation: 13.963744542123056\n",
      "\n",
      "Evaluating Logarithmic1D at discretization level 8\n",
      "n = 10\n",
      "time: 1.62983517, violation: 5.36070641841705\n",
      "\n",
      "Evaluating Logarithmic1D at discretization level 9\n",
      "n = 10\n",
      "time: 11.2363278, violation: 13.764789238188186\n",
      "\n",
      "Evaluating Logarithmic1D at discretization level 10\n",
      "n = 10\n",
      "time: 3.093386196, violation: 8.418739637785347\n",
      "\n",
      "Evaluating Logarithmic1D at discretization level 11\n",
      "n = 10\n",
      "time: 24.562128676, violation: 11.10715206372244\n",
      "\n",
      "Evaluating Logarithmic1D at discretization level 12\n",
      "n = 10\n",
      "time: 5.606671927, violation: 4.28290909219371\n",
      "\n",
      "Evaluating Logarithmic1D at discretization level 13\n",
      "n = 10\n",
      "time: 4.306819662, violation: 9.903232988579926\n",
      "\n",
      "Evaluating Logarithmic1D at discretization level 14\n",
      "n = 10\n",
      "time: 16.361996647, violation: 8.116208644412474\n",
      "\n",
      "Evaluating Logarithmic1D at discretization level 15\n",
      "n = 10\n",
      "time: 5.713100043, violation: 8.662471865359857\n",
      "\n",
      "Evaluating Logarithmic1D at discretization level 16\n",
      "n = 10\n",
      "time: 2.471628667, violation: 5.360706418417023\n",
      "\n",
      "Evaluating Logarithmic1D at discretization level 17\n",
      "n = 10\n",
      "time: 64.349483866, violation: 8.239905167717712\n",
      "\n",
      "Evaluating Logarithmic2D at discretization level 1\n",
      "n = 10\n",
      "time: 0.057507357, violation: 112.01074547600557\n",
      "\n",
      "Evaluating Logarithmic2D at discretization level 2\n",
      "n = 10\n",
      "time: 12.167194824, violation: 6.515620803099289\n",
      "\n",
      "Evaluating Logarithmic2D at discretization level 3\n",
      "n = 10\n",
      "time: 1.427808048, violation: 10.60891726468062\n",
      "\n",
      "Evaluating Logarithmic2D at discretization level 4\n",
      "n = 10\n",
      "time: 50.238324277, violation: 5.439605225661128\n",
      "\n",
      "Evaluating Logarithmic2D at discretization level 5\n",
      "n = 10\n",
      "time: 29.144429932, violation: 7.785892618889079\n",
      "\n",
      "Evaluating Logarithmic2D at discretization level 6\n",
      "n = 10\n",
      "time: 54.745410047, violation: 2.302362917518605\n",
      "\n",
      "Evaluating Logarithmic2D at discretization level 7\n",
      "n = 10\n",
      "time: 8.789043311, violation: 2.431495328225097\n",
      "\n",
      "Evaluating Logarithmic2D at discretization level 8\n",
      "n = 10\n",
      "time: 158.747267819, violation: 1.6808428953590473\n",
      "\n",
      "Evaluating minlp at discretization level -1\n"
     ]
    },
    {
     "name": "stderr",
     "output_type": "stream",
     "text": [
      "\u001b[1m\u001b[33mWARNING: \u001b[39m\u001b[22m\u001b[33mArray(::Type{T}, m::Int) where T is deprecated, use Array{T}(m) instead.\u001b[39m\n",
      "Stacktrace:\n",
      " [1] \u001b[1mdepwarn\u001b[22m\u001b[22m\u001b[1m(\u001b[22m\u001b[22m::String, ::Symbol\u001b[1m)\u001b[22m\u001b[22m at \u001b[1m./deprecated.jl:70\u001b[22m\u001b[22m\n",
      " [2] \u001b[1mArray\u001b[22m\u001b[22m\u001b[1m(\u001b[22m\u001b[22m::Type{LightXML.XMLElement}, ::Int64\u001b[1m)\u001b[22m\u001b[22m at \u001b[1m./deprecated.jl:57\u001b[22m\u001b[22m\n",
      " [3] \u001b[1msetquadobjterms!\u001b[22m\u001b[22m\u001b[1m(\u001b[22m\u001b[22m::CoinOptServices.OsilMathProgModel, ::Array{Int32,1}, ::Array{Int32,1}, ::Array{Float64,1}\u001b[1m)\u001b[22m\u001b[22m at \u001b[1m/home/twan/code/MixedIntegerExperiments/v0.6/CoinOptServices/src/probmod.jl:355\u001b[22m\u001b[22m\n",
      " [4] \u001b[1msetquadobjterms!\u001b[22m\u001b[22m\u001b[1m(\u001b[22m\u001b[22m::CoinOptServices.OsilLinearQuadraticModel, ::Array{Int32,1}, ::Array{Int32,1}, ::Array{Float64,1}\u001b[1m)\u001b[22m\u001b[22m at \u001b[1m/home/twan/code/MixedIntegerExperiments/v0.6/CoinOptServices/src/probmod.jl:425\u001b[22m\u001b[22m\n",
      " [5] \u001b[1maddQuadratics\u001b[22m\u001b[22m\u001b[1m(\u001b[22m\u001b[22m::JuMP.Model\u001b[1m)\u001b[22m\u001b[22m at \u001b[1m/home/twan/code/MixedIntegerExperiments/v0.6/JuMP/src/solvers.jl:435\u001b[22m\u001b[22m\n",
      " [6] \u001b[1m#build#119\u001b[22m\u001b[22m\u001b[1m(\u001b[22m\u001b[22m::Bool, ::Bool, ::JuMP.ProblemTraits, ::Function, ::JuMP.Model\u001b[1m)\u001b[22m\u001b[22m at \u001b[1m/home/twan/code/MixedIntegerExperiments/v0.6/JuMP/src/solvers.jl:373\u001b[22m\u001b[22m\n",
      " [7] \u001b[1m(::JuMP.#kw##build)\u001b[22m\u001b[22m\u001b[1m(\u001b[22m\u001b[22m::Array{Any,1}, ::JuMP.#build, ::JuMP.Model\u001b[1m)\u001b[22m\u001b[22m at \u001b[1m./<missing>:0\u001b[22m\u001b[22m\n",
      " [8] \u001b[1m#solve#116\u001b[22m\u001b[22m\u001b[1m(\u001b[22m\u001b[22m::Bool, ::Bool, ::Bool, ::Array{Any,1}, ::Function, ::JuMP.Model\u001b[1m)\u001b[22m\u001b[22m at \u001b[1m/home/twan/code/MixedIntegerExperiments/v0.6/JuMP/src/solvers.jl:168\u001b[22m\u001b[22m\n",
      " [9] \u001b[1mmacro expansion\u001b[22m\u001b[22m at \u001b[1m./util.jl:378\u001b[22m\u001b[22m [inlined]\n",
      " [10] \u001b[1mmiqp_trajopt\u001b[22m\u001b[22m\u001b[1m(\u001b[22m\u001b[22m::MixedIntegerExperiments.BoxRobotWithRotation2D, ::Array{MixedIntegerExperiments.EnvironmentRegion{2,Float64},1}, ::MixedIntegerExperiments.BoxRobotWithRotation2DState{Float64}, ::MixedIntegerExperiments.MIQPTrajOptParams\u001b[1m)\u001b[22m\u001b[22m at \u001b[1m/home/twan/code/MixedIntegerExperiments/v0.6/MixedIntegerExperiments/src/trajopt.jl:250\u001b[22m\u001b[22m\n",
      " [11] \u001b[1mbilinear_relaxation_method_eval\u001b[22m\u001b[22m\u001b[1m(\u001b[22m\u001b[22m::Symbol, ::Int64\u001b[1m)\u001b[22m\u001b[22m at \u001b[1m./In[2]:11\u001b[22m\u001b[22m\n",
      " [12] \u001b[1mbilinear_relaxation_method_eval\u001b[22m\u001b[22m\u001b[1m(\u001b[22m\u001b[22m::Dict{Symbol,Array{Int64,1}}\u001b[1m)\u001b[22m\u001b[22m at \u001b[1m./In[3]:13\u001b[22m\u001b[22m\n",
      " [13] \u001b[1minclude_string\u001b[22m\u001b[22m\u001b[1m(\u001b[22m\u001b[22m::String, ::String\u001b[1m)\u001b[22m\u001b[22m at \u001b[1m./loading.jl:522\u001b[22m\u001b[22m\n",
      " [14] \u001b[1minclude_string\u001b[22m\u001b[22m\u001b[1m(\u001b[22m\u001b[22m::Module, ::String, ::String\u001b[1m)\u001b[22m\u001b[22m at \u001b[1m/home/twan/code/MixedIntegerExperiments/v0.6/Compat/src/Compat.jl:478\u001b[22m\u001b[22m\n",
      " [15] \u001b[1mexecute_request\u001b[22m\u001b[22m\u001b[1m(\u001b[22m\u001b[22m::ZMQ.Socket, ::IJulia.Msg\u001b[1m)\u001b[22m\u001b[22m at \u001b[1m/home/twan/code/MixedIntegerExperiments/v0.6/IJulia/src/execute_request.jl:154\u001b[22m\u001b[22m\n",
      " [16] \u001b[1meventloop\u001b[22m\u001b[22m\u001b[1m(\u001b[22m\u001b[22m::ZMQ.Socket\u001b[1m)\u001b[22m\u001b[22m at \u001b[1m/home/twan/code/MixedIntegerExperiments/v0.6/IJulia/src/eventloop.jl:8\u001b[22m\u001b[22m\n",
      " [17] \u001b[1m(::IJulia.##14#17)\u001b[22m\u001b[22m\u001b[1m(\u001b[22m\u001b[22m\u001b[1m)\u001b[22m\u001b[22m at \u001b[1m./task.jl:335\u001b[22m\u001b[22m\n",
      "while loading In[5], in expression starting on line 4\n"
     ]
    },
    {
     "name": "stdout",
     "output_type": "stream",
     "text": [
      "\n",
      "NLP0012I \n",
      "              Num      Status      Obj             It       time                 Location\n",
      "NLP0014I             1         OPT 44.860533       36 0.096\n",
      "Coin0506I Presolve 547 (-206) rows, 204 (-359) columns and 1296 (-572) elements\n",
      "Clp0006I 0  Obj -0.039266194 Primal inf 175325.37 (172) Dual inf 0.015869737 (15)\n",
      "Clp0006I 85  Obj 26.730465 Primal inf 21759.523 (156)\n",
      "Clp0006I 170  Obj 32.859372 Primal inf 7546.9994 (67)\n",
      "Clp0006I 226  Obj 32.877917 Primal inf 167.8877 (22)\n",
      "Clp0006I 242  Obj 32.87906\n",
      "Clp0006I 242  Obj 32.877458 Dual inf 2.3564159e-07 (2)\n",
      "Clp0006I 285  Obj 32.875185 Dual inf 0.012386711 (10)\n",
      "Clp0006I 289  Obj 32.874985\n",
      "Clp0000I Optimal - objective value 32.874985\n",
      "Clp0032I Optimal objective 32.87498473 - 289 iterations time 0.002, Presolve 0.00\n",
      "Clp0006I 0  Obj 32.874985 Dual inf 1.4000444e-06 (1)\n",
      "Clp0006I 0  Obj 32.874985 Dual inf 1.4000444e-06 (1)\n",
      "Clp0006I 17  Obj 32.874567\n",
      "Clp0000I Optimal - objective value 32.874567\n",
      "NLP Heuristic: NLP0014I             2      INFEAS 0.090257587       88 0.244\n",
      "no solution.\n",
      "Clp0000I Optimal - objective value 32.874567\n",
      "Optimality Based BT: 2 improved bounds\n",
      "Probing: 27 improved bounds\n",
      "NLP Heuristic: time limit reached.\n",
      "Optimality Based BT: 4 improved bounds\n",
      "Optimality Based BT: 0 improved bounds\n",
      "Couenne: new cutoff value 9.1132984229e+03 (10.924 seconds)\n",
      "Couenne: new cutoff value 9.1065567411e+03 (11.836 seconds)\n",
      "Couenne: new cutoff value 5.1982141616e+03 (16.048 seconds)\n",
      "Couenne: new cutoff value 5.1979501767e+03 (16.104 seconds)\n",
      "Couenne: new cutoff value 5.1979501762e+03 (16.18 seconds)\n",
      "Couenne: new cutoff value 5.0688860108e+03 (17.84 seconds)\n",
      "Couenne: new cutoff value 5.0688567384e+03 (21.368 seconds)\n",
      "Couenne: new cutoff value 5.0688543599e+03 (22.076 seconds)\n",
      "Couenne: new cutoff value 5.0688539670e+03 (22.284 seconds)\n",
      "Couenne: new cutoff value 5.0688535162e+03 (23.136 seconds)\n",
      "Couenne: new cutoff value 5.0688534443e+03 (27.896 seconds)\n",
      "Couenne: new cutoff value 5.0688533972e+03 (29.768 seconds)\n",
      "Couenne: new cutoff value 5.0688533940e+03 (29.776 seconds)\n",
      "Couenne: new cutoff value 5.0688533814e+03 (36.952 seconds)\n",
      "Couenne: new cutoff value 5.0688533811e+03 (36.956 seconds)\n",
      "Couenne: new cutoff value 5.0688533810e+03 (36.972 seconds)\n",
      "Couenne: new cutoff value 5.0688533808e+03 (42.608 seconds)\n",
      "Couenne: new cutoff value 5.0688533797e+03 (46.972 seconds)\n",
      "Couenne: new cutoff value 5.0688533791e+03 (48.032 seconds)\n",
      "Couenne: new cutoff value 5.0688533790e+03 (53.296 seconds)\n",
      "n = 10\n",
      "time: 57.067179123, violation: 4.561659671897417e-6\n",
      "\n"
     ]
    },
    {
     "data": {
      "text/html": [
       "<table class=\"data-frame\"><thead><tr><th></th><th>method</th><th>disclevel</th><th>time</th><th>violation</th><th>contvars</th><th>binvars</th></tr></thead><tbody><tr><th>1</th><td>Logarithmic1D</td><td>1</td><td>0.02142817</td><td>112.01074547600557</td><td>390</td><td>20</td></tr><tr><th>2</th><td>Logarithmic1D</td><td>2</td><td>0.057938611</td><td>110.59793816239231</td><td>430</td><td>40</td></tr><tr><th>3</th><td>Logarithmic1D</td><td>3</td><td>0.211086894</td><td>74.78717695151555</td><td>470</td><td>60</td></tr><tr><th>4</th><td>Logarithmic1D</td><td>4</td><td>1.268126798</td><td>12.187637003806689</td><td>510</td><td>60</td></tr><tr><th>5</th><td>Logarithmic1D</td><td>5</td><td>2.648265266</td><td>18.242006659888244</td><td>550</td><td>80</td></tr><tr><th>6</th><td>Logarithmic1D</td><td>6</td><td>2.91861353</td><td>16.019097781799456</td><td>590</td><td>80</td></tr><tr><th>7</th><td>Logarithmic1D</td><td>7</td><td>4.204212853</td><td>13.963744542123056</td><td>630</td><td>80</td></tr><tr><th>8</th><td>Logarithmic1D</td><td>8</td><td>1.62983517</td><td>5.36070641841705</td><td>670</td><td>80</td></tr><tr><th>9</th><td>Logarithmic1D</td><td>9</td><td>11.2363278</td><td>13.764789238188186</td><td>710</td><td>100</td></tr><tr><th>10</th><td>Logarithmic1D</td><td>10</td><td>3.093386196</td><td>8.418739637785347</td><td>750</td><td>100</td></tr><tr><th>11</th><td>Logarithmic1D</td><td>11</td><td>24.562128676</td><td>11.10715206372244</td><td>790</td><td>100</td></tr><tr><th>12</th><td>Logarithmic1D</td><td>12</td><td>5.606671927</td><td>4.28290909219371</td><td>830</td><td>100</td></tr><tr><th>13</th><td>Logarithmic1D</td><td>13</td><td>4.306819662</td><td>9.903232988579926</td><td>870</td><td>100</td></tr><tr><th>14</th><td>Logarithmic1D</td><td>14</td><td>16.361996647</td><td>8.116208644412474</td><td>910</td><td>100</td></tr><tr><th>15</th><td>Logarithmic1D</td><td>15</td><td>5.713100043</td><td>8.662471865359857</td><td>950</td><td>100</td></tr><tr><th>16</th><td>Logarithmic1D</td><td>16</td><td>2.471628667</td><td>5.360706418417023</td><td>990</td><td>100</td></tr><tr><th>17</th><td>Logarithmic1D</td><td>17</td><td>64.349483866</td><td>8.239905167717712</td><td>1030</td><td>120</td></tr><tr><th>18</th><td>Logarithmic2D</td><td>1</td><td>0.057507357</td><td>112.01074547600557</td><td>390</td><td>20</td></tr><tr><th>19</th><td>Logarithmic2D</td><td>2</td><td>12.167194824</td><td>6.515620803099289</td><td>490</td><td>60</td></tr><tr><th>20</th><td>Logarithmic2D</td><td>3</td><td>1.427808048</td><td>10.60891726468062</td><td>630</td><td>100</td></tr><tr><th>21</th><td>Logarithmic2D</td><td>4</td><td>50.238324277</td><td>5.439605225661128</td><td>810</td><td>100</td></tr><tr><th>22</th><td>Logarithmic2D</td><td>5</td><td>29.144429932</td><td>7.785892618889079</td><td>1030</td><td>140</td></tr><tr><th>23</th><td>Logarithmic2D</td><td>6</td><td>54.745410047</td><td>2.302362917518605</td><td>1290</td><td>140</td></tr><tr><th>24</th><td>Logarithmic2D</td><td>7</td><td>8.789043311</td><td>2.431495328225097</td><td>1590</td><td>140</td></tr><tr><th>25</th><td>Logarithmic2D</td><td>8</td><td>158.747267819</td><td>1.6808428953590473</td><td>1930</td><td>140</td></tr><tr><th>26</th><td>minlp</td><td>-1</td><td>57.067179123</td><td>4.561659671897417e-6</td><td>290</td><td>20</td></tr></tbody></table>"
      ],
      "text/plain": [
       "26×6 DataFrames.DataFrame\n",
       "│ Row │ method        │ disclevel │ time      │ violation  │ contvars │\n",
       "├─────┼───────────────┼───────────┼───────────┼────────────┼──────────┤\n",
       "│ 1   │ Logarithmic1D │ 1         │ 0.0214282 │ 112.011    │ 390      │\n",
       "│ 2   │ Logarithmic1D │ 2         │ 0.0579386 │ 110.598    │ 430      │\n",
       "│ 3   │ Logarithmic1D │ 3         │ 0.211087  │ 74.7872    │ 470      │\n",
       "│ 4   │ Logarithmic1D │ 4         │ 1.26813   │ 12.1876    │ 510      │\n",
       "│ 5   │ Logarithmic1D │ 5         │ 2.64827   │ 18.242     │ 550      │\n",
       "│ 6   │ Logarithmic1D │ 6         │ 2.91861   │ 16.0191    │ 590      │\n",
       "│ 7   │ Logarithmic1D │ 7         │ 4.20421   │ 13.9637    │ 630      │\n",
       "│ 8   │ Logarithmic1D │ 8         │ 1.62984   │ 5.36071    │ 670      │\n",
       "│ 9   │ Logarithmic1D │ 9         │ 11.2363   │ 13.7648    │ 710      │\n",
       "│ 10  │ Logarithmic1D │ 10        │ 3.09339   │ 8.41874    │ 750      │\n",
       "│ 11  │ Logarithmic1D │ 11        │ 24.5621   │ 11.1072    │ 790      │\n",
       "⋮\n",
       "│ 15  │ Logarithmic1D │ 15        │ 5.7131    │ 8.66247    │ 950      │\n",
       "│ 16  │ Logarithmic1D │ 16        │ 2.47163   │ 5.36071    │ 990      │\n",
       "│ 17  │ Logarithmic1D │ 17        │ 64.3495   │ 8.23991    │ 1030     │\n",
       "│ 18  │ Logarithmic2D │ 1         │ 0.0575074 │ 112.011    │ 390      │\n",
       "│ 19  │ Logarithmic2D │ 2         │ 12.1672   │ 6.51562    │ 490      │\n",
       "│ 20  │ Logarithmic2D │ 3         │ 1.42781   │ 10.6089    │ 630      │\n",
       "│ 21  │ Logarithmic2D │ 4         │ 50.2383   │ 5.43961    │ 810      │\n",
       "│ 22  │ Logarithmic2D │ 5         │ 29.1444   │ 7.78589    │ 1030     │\n",
       "│ 23  │ Logarithmic2D │ 6         │ 54.7454   │ 2.30236    │ 1290     │\n",
       "│ 24  │ Logarithmic2D │ 7         │ 8.78904   │ 2.4315     │ 1590     │\n",
       "│ 25  │ Logarithmic2D │ 8         │ 158.747   │ 1.68084    │ 1930     │\n",
       "│ 26  │ minlp         │ -1        │ 57.0672   │ 4.56166e-6 │ 290      │\n",
       "\n",
       "│ Row │ binvars │\n",
       "├─────┼─────────┤\n",
       "│ 1   │ 20      │\n",
       "│ 2   │ 40      │\n",
       "│ 3   │ 60      │\n",
       "│ 4   │ 60      │\n",
       "│ 5   │ 80      │\n",
       "│ 6   │ 80      │\n",
       "│ 7   │ 80      │\n",
       "│ 8   │ 80      │\n",
       "│ 9   │ 100     │\n",
       "│ 10  │ 100     │\n",
       "│ 11  │ 100     │\n",
       "⋮\n",
       "│ 15  │ 100     │\n",
       "│ 16  │ 100     │\n",
       "│ 17  │ 120     │\n",
       "│ 18  │ 20      │\n",
       "│ 19  │ 60      │\n",
       "│ 20  │ 100     │\n",
       "│ 21  │ 100     │\n",
       "│ 22  │ 140     │\n",
       "│ 23  │ 140     │\n",
       "│ 24  │ 140     │\n",
       "│ 25  │ 140     │\n",
       "│ 26  │ 20      │"
      ]
     },
     "execution_count": 5,
     "metadata": {},
     "output_type": "execute_result"
    }
   ],
   "source": [
    "# scenarios = Dict(:HRepConvexHull => [4, 9], :Logarithmic1D => [4, 9], :Logarithmic2D => [2, 3])\n",
    "# scenarios = Dict(:HRepConvexHull => collect(2 : 11), :Logarithmic1D => collect(2 : 18), :Logarithmic2D => collect(2 : 9))\n",
    "scenarios = Dict(:Logarithmic1D => collect(2 : 18), :Logarithmic2D => collect(2 : 9), :minlp => [0])\n",
    "d = bilinear_relaxation_method_eval(scenarios)"
   ]
  },
  {
   "cell_type": "code",
   "execution_count": 10,
   "metadata": {
    "collapsed": false
   },
   "outputs": [],
   "source": [
    "datadir = \"/home/twan/Dropbox/170612 group meeting long/data\"\n",
    "figuredir = \"/home/twan/Dropbox/170612 group meeting long/figures\"\n",
    "filepath = joinpath(datadir, \"bilinearrelax2.csv\")\n",
    "writetable(filepath, d)\n",
    "# d = readtable(filepath);"
   ]
  },
  {
   "cell_type": "code",
   "execution_count": 11,
   "metadata": {
    "collapsed": false
   },
   "outputs": [
    {
     "data": {
      "text/html": [
       "<table class=\"data-frame\"><thead><tr><th></th><th>method</th><th>disclevel</th><th>time</th><th>violation</th><th>contvars</th><th>binvars</th></tr></thead><tbody><tr><th>1</th><td>Logarithmic1D</td><td>1</td><td>0.022040224</td><td>35.42090781175788</td><td>390</td><td>20</td></tr><tr><th>2</th><td>Logarithmic1D</td><td>2</td><td>0.089850898</td><td>34.9741389111617</td><td>430</td><td>40</td></tr><tr><th>3</th><td>Logarithmic1D</td><td>3</td><td>0.228431106</td><td>23.64978189408371</td><td>470</td><td>60</td></tr><tr><th>4</th><td>Logarithmic1D</td><td>4</td><td>1.284597438</td><td>3.8540692227379374</td><td>510</td><td>60</td></tr><tr><th>5</th><td>Logarithmic1D</td><td>5</td><td>2.591807321</td><td>5.768629013720739</td><td>550</td><td>80</td></tr><tr><th>6</th><td>Logarithmic1D</td><td>6</td><td>2.918355787</td><td>5.065683505143726</td><td>590</td><td>80</td></tr><tr><th>7</th><td>Logarithmic1D</td><td>7</td><td>4.026461564</td><td>4.415723741785387</td><td>630</td><td>80</td></tr><tr><th>8</th><td>Logarithmic1D</td><td>8</td><td>1.689943467</td><td>1.695204214968148</td><td>670</td><td>80</td></tr><tr><th>9</th><td>Logarithmic1D</td><td>9</td><td>11.116575088</td><td>4.352808550484862</td><td>710</td><td>100</td></tr><tr><th>10</th><td>Logarithmic1D</td><td>10</td><td>3.064302569</td><td>2.6622392283342635</td><td>750</td><td>100</td></tr><tr><th>11</th><td>Logarithmic1D</td><td>11</td><td>25.501217904</td><td>3.512389883920258</td><td>790</td><td>100</td></tr><tr><th>12</th><td>Logarithmic1D</td><td>12</td><td>5.424489652</td><td>1.3543747742776202</td><td>830</td><td>100</td></tr><tr><th>13</th><td>Logarithmic1D</td><td>13</td><td>3.948920676</td><td>3.131677244322883</td><td>870</td><td>100</td></tr><tr><th>14</th><td>Logarithmic1D</td><td>14</td><td>16.539905743</td><td>2.566570528149105</td><td>910</td><td>100</td></tr><tr><th>15</th><td>Logarithmic1D</td><td>15</td><td>5.441156623</td><td>2.7393141261664584</td><td>950</td><td>100</td></tr><tr><th>16</th><td>Logarithmic1D</td><td>16</td><td>2.536169749</td><td>1.6952042149681397</td><td>990</td><td>100</td></tr><tr><th>17</th><td>Logarithmic1D</td><td>17</td><td>62.884084041</td><td>2.6056868033779703</td><td>1030</td><td>120</td></tr><tr><th>18</th><td>Logarithmic2D</td><td>1</td><td>0.029241358</td><td>35.42090781175788</td><td>390</td><td>20</td></tr><tr><th>19</th><td>Logarithmic2D</td><td>2</td><td>12.147979508</td><td>2.060420210776923</td><td>490</td><td>60</td></tr><tr><th>20</th><td>Logarithmic2D</td><td>3</td><td>1.420227095</td><td>3.354834206467416</td><td>630</td><td>100</td></tr><tr><th>21</th><td>Logarithmic2D</td><td>4</td><td>48.740997128</td><td>1.720154208524336</td><td>810</td><td>100</td></tr><tr><th>22</th><td>Logarithmic2D</td><td>5</td><td>28.617297763</td><td>2.462115429318281</td><td>1030</td><td>140</td></tr><tr><th>23</th><td>Logarithmic2D</td><td>6</td><td>53.449340626</td><td>0.7280710819669178</td><td>1290</td><td>140</td></tr><tr><th>24</th><td>Logarithmic2D</td><td>7</td><td>8.972639871</td><td>0.7689063357250004</td><td>1590</td><td>140</td></tr><tr><th>25</th><td>Logarithmic2D</td><td>8</td><td>158.314872573</td><td>0.5315291938246652</td><td>1930</td><td>140</td></tr><tr><th>26</th><td>minlp</td><td>-1</td><td>55.122425722</td><td>1.442523447373222e-6</td><td>290</td><td>20</td></tr></tbody></table>"
      ],
      "text/plain": [
       "26×6 DataFrames.DataFrame\n",
       "│ Row │ method          │ disclevel │ time      │ violation  │ contvars │\n",
       "├─────┼─────────────────┼───────────┼───────────┼────────────┼──────────┤\n",
       "│ 1   │ \"Logarithmic1D\" │ 1         │ 0.0220402 │ 35.4209    │ 390      │\n",
       "│ 2   │ \"Logarithmic1D\" │ 2         │ 0.0898509 │ 34.9741    │ 430      │\n",
       "│ 3   │ \"Logarithmic1D\" │ 3         │ 0.228431  │ 23.6498    │ 470      │\n",
       "│ 4   │ \"Logarithmic1D\" │ 4         │ 1.2846    │ 3.85407    │ 510      │\n",
       "│ 5   │ \"Logarithmic1D\" │ 5         │ 2.59181   │ 5.76863    │ 550      │\n",
       "│ 6   │ \"Logarithmic1D\" │ 6         │ 2.91836   │ 5.06568    │ 590      │\n",
       "│ 7   │ \"Logarithmic1D\" │ 7         │ 4.02646   │ 4.41572    │ 630      │\n",
       "│ 8   │ \"Logarithmic1D\" │ 8         │ 1.68994   │ 1.6952     │ 670      │\n",
       "│ 9   │ \"Logarithmic1D\" │ 9         │ 11.1166   │ 4.35281    │ 710      │\n",
       "│ 10  │ \"Logarithmic1D\" │ 10        │ 3.0643    │ 2.66224    │ 750      │\n",
       "│ 11  │ \"Logarithmic1D\" │ 11        │ 25.5012   │ 3.51239    │ 790      │\n",
       "⋮\n",
       "│ 15  │ \"Logarithmic1D\" │ 15        │ 5.44116   │ 2.73931    │ 950      │\n",
       "│ 16  │ \"Logarithmic1D\" │ 16        │ 2.53617   │ 1.6952     │ 990      │\n",
       "│ 17  │ \"Logarithmic1D\" │ 17        │ 62.8841   │ 2.60569    │ 1030     │\n",
       "│ 18  │ \"Logarithmic2D\" │ 1         │ 0.0292414 │ 35.4209    │ 390      │\n",
       "│ 19  │ \"Logarithmic2D\" │ 2         │ 12.148    │ 2.06042    │ 490      │\n",
       "│ 20  │ \"Logarithmic2D\" │ 3         │ 1.42023   │ 3.35483    │ 630      │\n",
       "│ 21  │ \"Logarithmic2D\" │ 4         │ 48.741    │ 1.72015    │ 810      │\n",
       "│ 22  │ \"Logarithmic2D\" │ 5         │ 28.6173   │ 2.46212    │ 1030     │\n",
       "│ 23  │ \"Logarithmic2D\" │ 6         │ 53.4493   │ 0.728071   │ 1290     │\n",
       "│ 24  │ \"Logarithmic2D\" │ 7         │ 8.97264   │ 0.768906   │ 1590     │\n",
       "│ 25  │ \"Logarithmic2D\" │ 8         │ 158.315   │ 0.531529   │ 1930     │\n",
       "│ 26  │ \"minlp\"         │ -1        │ 55.1224   │ 1.44252e-6 │ 290      │\n",
       "\n",
       "│ Row │ binvars │\n",
       "├─────┼─────────┤\n",
       "│ 1   │ 20      │\n",
       "│ 2   │ 40      │\n",
       "│ 3   │ 60      │\n",
       "│ 4   │ 60      │\n",
       "│ 5   │ 80      │\n",
       "│ 6   │ 80      │\n",
       "│ 7   │ 80      │\n",
       "│ 8   │ 80      │\n",
       "│ 9   │ 100     │\n",
       "│ 10  │ 100     │\n",
       "│ 11  │ 100     │\n",
       "⋮\n",
       "│ 15  │ 100     │\n",
       "│ 16  │ 100     │\n",
       "│ 17  │ 120     │\n",
       "│ 18  │ 20      │\n",
       "│ 19  │ 60      │\n",
       "│ 20  │ 100     │\n",
       "│ 21  │ 100     │\n",
       "│ 22  │ 140     │\n",
       "│ 23  │ 140     │\n",
       "│ 24  │ 140     │\n",
       "│ 25  │ 140     │\n",
       "│ 26  │ 20      │"
      ]
     },
     "execution_count": 11,
     "metadata": {},
     "output_type": "execute_result"
    }
   ],
   "source": [
    "d"
   ]
  },
  {
   "cell_type": "code",
   "execution_count": 12,
   "metadata": {
    "collapsed": false
   },
   "outputs": [],
   "source": [
    "using Plots\n",
    "using StatPlots\n",
    "using Query"
   ]
  },
  {
   "cell_type": "code",
   "execution_count": 14,
   "metadata": {
    "collapsed": false
   },
   "outputs": [
    {
     "ename": "LoadError",
     "evalue": "\u001b[91mBoundsError: attempt to access 0-element BitArray{1} at index [1]\u001b[39m",
     "output_type": "error",
     "traceback": [
      "\u001b[91mBoundsError: attempt to access 0-element BitArray{1} at index [1]\u001b[39m",
      "",
      "Stacktrace:",
      " [1] \u001b[1mthrow_boundserror\u001b[22m\u001b[22m\u001b[1m(\u001b[22m\u001b[22m::BitArray{1}, ::Tuple{Int64}\u001b[1m)\u001b[22m\u001b[22m at \u001b[1m./abstractarray.jl:434\u001b[22m\u001b[22m",
      " [2] \u001b[1mcheckbounds\u001b[22m\u001b[22m at \u001b[1m./abstractarray.jl:362\u001b[22m\u001b[22m [inlined]",
      " [3] \u001b[1msetindex!\u001b[22m\u001b[22m at \u001b[1m./bitarray.jl:681\u001b[22m\u001b[22m [inlined]",
      " [4] \u001b[1mdiff\u001b[22m\u001b[22m\u001b[1m(\u001b[22m\u001b[22m::DataArrays.DataArray{Int64,1}\u001b[1m)\u001b[22m\u001b[22m at \u001b[1m/home/twan/code/MixedIntegerExperiments/v0.6/DataArrays/src/operators.jl:610\u001b[22m\u001b[22m",
      " [5] \u001b[1mexpand_extrema!\u001b[22m\u001b[22m\u001b[1m(\u001b[22m\u001b[22m::Plots.Subplot{Plots.PlotlyJSBackend}, ::Dict{Symbol,Any}\u001b[1m)\u001b[22m\u001b[22m at \u001b[1m/home/twan/code/MixedIntegerExperiments/v0.6/Plots/src/axes.jl:376\u001b[22m\u001b[22m",
      " [6] \u001b[1m_expand_subplot_extrema\u001b[22m\u001b[22m\u001b[1m(\u001b[22m\u001b[22m::Plots.Subplot{Plots.PlotlyJSBackend}, ::Dict{Symbol,Any}, ::Symbol\u001b[1m)\u001b[22m\u001b[22m at \u001b[1m/home/twan/code/MixedIntegerExperiments/v0.6/Plots/src/pipeline.jl:365\u001b[22m\u001b[22m",
      " [7] \u001b[1m_process_seriesrecipe\u001b[22m\u001b[22m\u001b[1m(\u001b[22m\u001b[22m::Plots.Plot{Plots.PlotlyJSBackend}, ::Dict{Symbol,Any}\u001b[1m)\u001b[22m\u001b[22m at \u001b[1m/home/twan/code/MixedIntegerExperiments/v0.6/Plots/src/pipeline.jl:401\u001b[22m\u001b[22m",
      " [8] \u001b[1m_plot!\u001b[22m\u001b[22m\u001b[1m(\u001b[22m\u001b[22m::Plots.Plot{Plots.PlotlyJSBackend}, ::Dict{Symbol,Any}, ::Tuple{DataArrays.DataArray{Int64,1},DataArrays.DataArray{Float64,1}}\u001b[1m)\u001b[22m\u001b[22m at \u001b[1m/home/twan/code/MixedIntegerExperiments/v0.6/Plots/src/plot.jl:231\u001b[22m\u001b[22m",
      " [9] \u001b[1m#plot#157\u001b[22m\u001b[22m\u001b[1m(\u001b[22m\u001b[22m::Array{Any,1}, ::Function, ::DataArrays.DataArray{Int64,1}, ::Vararg{Any,N} where N\u001b[1m)\u001b[22m\u001b[22m at \u001b[1m/home/twan/code/MixedIntegerExperiments/v0.6/Plots/src/plot.jl:56\u001b[22m\u001b[22m",
      " [10] \u001b[1m(::RecipesBase.#kw##plot)\u001b[22m\u001b[22m\u001b[1m(\u001b[22m\u001b[22m::Array{Any,1}, ::RecipesBase.#plot, ::DataArrays.DataArray{Int64,1}, ::DataArrays.DataArray{Float64,1}, ::Vararg{DataArrays.DataArray{Float64,1},N} where N\u001b[1m)\u001b[22m\u001b[22m at \u001b[1m./<missing>:0\u001b[22m\u001b[22m",
      " [11] \u001b[1m#bar#609\u001b[22m\u001b[22m\u001b[1m(\u001b[22m\u001b[22m::Array{Any,1}, ::Function, ::DataArrays.DataArray{Int64,1}, ::Vararg{Any,N} where N\u001b[1m)\u001b[22m\u001b[22m at \u001b[1m/home/twan/code/MixedIntegerExperiments/v0.6/RecipesBase/src/RecipesBase.jl:381\u001b[22m\u001b[22m",
      " [12] \u001b[1m(::Plots.#kw##bar)\u001b[22m\u001b[22m\u001b[1m(\u001b[22m\u001b[22m::Array{Any,1}, ::Plots.#bar, ::DataArrays.DataArray{Int64,1}, ::Vararg{Any,N} where N\u001b[1m)\u001b[22m\u001b[22m at \u001b[1m./<missing>:0\u001b[22m\u001b[22m",
      " [13] \u001b[1mmacro expansion\u001b[22m\u001b[22m at \u001b[1m./In[14]:12\u001b[22m\u001b[22m [inlined]",
      " [14] \u001b[1manonymous\u001b[22m\u001b[22m at \u001b[1m./<missing>:?\u001b[22m\u001b[22m",
      " [15] \u001b[1minclude_string\u001b[22m\u001b[22m\u001b[1m(\u001b[22m\u001b[22m::String, ::String\u001b[1m)\u001b[22m\u001b[22m at \u001b[1m./loading.jl:522\u001b[22m\u001b[22m"
     ]
    }
   ],
   "source": [
    "plotlyjs()\n",
    "tmax = maximum(d[:time])\n",
    "violmax = maximum(d[:violation])\n",
    "sz = 0.75 .* [400; 300]\n",
    "for method in unique(d[:method])\n",
    "    x = @from i in d begin\n",
    "        @where i.method == method\n",
    "        @select {i.disclevel, i.time, i.violation}\n",
    "        @collect DataFrame\n",
    "    end\n",
    "    xticks = Vector(x[:disclevel])\n",
    "    timeplot = bar(x[:disclevel], x[:time], xlabel = \"discretization level\", ylabel = \"solve time [s]\", \n",
    "    lab = \"\", title = method, ylim = [0., tmax], xticks = xticks, size = sz)\n",
    "    savefig(timeplot, joinpath(figuredir, \"bilinearrelax_$(method)_time.png\"))\n",
    "#     display(timeplot)\n",
    "    \n",
    "    violplot = bar(x[:disclevel], x[:violation], xlabel = \"discretization level\", ylabel = \"constraint violation [Nm]\",\n",
    "        lab = \"\", title = method, color = :red, ylim = [0., violmax], xticks = xticks, size = sz)\n",
    "    savefig(violplot, joinpath(figuredir, \"bilinearrelax_$(method)_viol.png\"))\n",
    "#     display(violplot)\n",
    "end"
   ]
  },
  {
   "cell_type": "code",
   "execution_count": 9,
   "metadata": {
    "collapsed": true
   },
   "outputs": [],
   "source": [
    "show_plots = false;"
   ]
  },
  {
   "cell_type": "code",
   "execution_count": 10,
   "metadata": {
    "collapsed": false
   },
   "outputs": [],
   "source": [
    "# if show_plots\n",
    "#     display(plot_environment(environment))\n",
    "#     for (i, region) in enumerate(environment)\n",
    "#         isfree(region) || display(plot_allowable_forces(region, i))\n",
    "#     end\n",
    "#     display(plot_kinematic_regions(Dict(sym => limb.kinematic_region for (sym, limb) in robot.ContactPointDescriptions)))\n",
    "# end"
   ]
  },
  {
   "cell_type": "code",
   "execution_count": 12,
   "metadata": {
    "collapsed": false
   },
   "outputs": [
    {
     "ename": "LoadError",
     "evalue": "\u001b[91mMethodError: Cannot `convert` an object of type MixedIntegerExperiments.BoxRobotWithRotation2DState{Float64} to an object of type BoxRobots.BoxRobotState\nThis may have arisen from a call to the constructor BoxRobots.BoxRobotState(...),\nsince type constructors fall back to convert methods.\u001b[39m",
     "output_type": "error",
     "traceback": [
      "\u001b[91mMethodError: Cannot `convert` an object of type MixedIntegerExperiments.BoxRobotWithRotation2DState{Float64} to an object of type BoxRobots.BoxRobotState\nThis may have arisen from a call to the constructor BoxRobots.BoxRobotState(...),\nsince type constructors fall back to convert methods.\u001b[39m",
      "",
      "Stacktrace:",
      " [1] \u001b[1mBoxRobots.BoxRobotState\u001b[22m\u001b[22m\u001b[1m(\u001b[22m\u001b[22m::MixedIntegerExperiments.BoxRobotWithRotation2DState{Float64}\u001b[1m)\u001b[22m\u001b[22m at \u001b[1m./sysimg.jl:77\u001b[22m\u001b[22m",
      " [2] \u001b[1mbroadcast_t\u001b[22m\u001b[22m\u001b[1m(\u001b[22m\u001b[22m::Type{T} where T, ::Type{Any}, ::Tuple{Base.OneTo{Int64}}, ::CartesianRange{CartesianIndex{1}}, ::AxisArrays.AxisArray{MixedIntegerExperiments.BoxRobotWithRotation2DState{Float64},1,Array{MixedIntegerExperiments.BoxRobotWithRotation2DState{Float64},1},Tuple{AxisArrays.Axis{:step,UnitRange{Int64}}}}\u001b[1m)\u001b[22m\u001b[22m at \u001b[1m./broadcast.jl:256\u001b[22m\u001b[22m",
      " [3] \u001b[1mbroadcast_c\u001b[22m\u001b[22m at \u001b[1m./broadcast.jl:319\u001b[22m\u001b[22m [inlined]",
      " [4] \u001b[1mbroadcast\u001b[22m\u001b[22m\u001b[1m(\u001b[22m\u001b[22m::Type{T} where T, ::AxisArrays.AxisArray{MixedIntegerExperiments.BoxRobotWithRotation2DState{Float64},1,Array{MixedIntegerExperiments.BoxRobotWithRotation2DState{Float64},1},Tuple{AxisArrays.Axis{:step,UnitRange{Int64}}}}\u001b[1m)\u001b[22m\u001b[22m at \u001b[1m./broadcast.jl:434\u001b[22m\u001b[22m",
      " [5] \u001b[1minclude_string\u001b[22m\u001b[22m\u001b[1m(\u001b[22m\u001b[22m::String, ::String\u001b[1m)\u001b[22m\u001b[22m at \u001b[1m./loading.jl:522\u001b[22m\u001b[22m"
     ]
    }
   ],
   "source": [
    "optparams = MIQPTrajOptParams(verbose = false, nsteps = 10, disc_level = disc_level, bilinearmethod = method)\n",
    "contact_point_descriptions = Dict(:foot => ContactPointDescription(2., SimpleVRepresentation([-0.5 -0.5; 0.5 -0.5; -0.5 -1.; 0.5 -1.])))\n",
    "robot = BoxRobotWithRotation2D(0., 1., 60., SVector(0, -9.81), contact_point_descriptions)\n",
    "environment = [\n",
    "    contact_region([0.; 0.], [1.; 0.], 0.8, 2 * robot.m * norm(robot.g)); \n",
    "    axis_aligned_free_box_region([0.; 0.], [1.; 1.])];\n",
    "ts = collect(0 : optparams.Δt : optparams.Δt * (optparams.nsteps - 1))\n",
    "brstates = BoxRobots.BoxRobotState.(states)\n",
    "brinputs = BoxRobots.BoxRobotInput.(inputs)\n",
    "trajectory = BoxRobots.Trajectory(ts, BoxRobots.BoxRobotSimulationData.(ts, brstates, brinputs))\n",
    "vis_options = BoxRobots.BoxRobotVisualizerOptions(force_arrow_normalizer=robot.m*norm(robot.g), playback_speed = 0.2)\n",
    "\n",
    "\n",
    "# BoxRobots.draw_box_robot_state(vis, brstates[1], options = vis_options, input = brinputs[1])\n",
    ";"
   ]
  },
  {
   "cell_type": "code",
   "execution_count": 13,
   "metadata": {
    "collapsed": false
   },
   "outputs": [
    {
     "name": "stderr",
     "output_type": "stream",
     "text": [
      "Bus::open: Can not get ibus-daemon's address. \n",
      "IBusInputContext::createInputContext: no connection to ibus-daemon \n"
     ]
    }
   ],
   "source": [
    "DrakeVisualizer.any_open_windows() || DrakeVisualizer.new_window(); sleep(1)\n",
    "vis = Visualizer()\n",
    "BoxRobots.playback_trajectory(vis, trajectory, options = vis_options)"
   ]
  },
  {
   "cell_type": "code",
   "execution_count": 14,
   "metadata": {
    "collapsed": false
   },
   "outputs": [
    {
     "data": {
      "text/plain": [
       "visualization_environment (generic function with 1 method)"
      ]
     },
     "execution_count": 14,
     "metadata": {},
     "output_type": "execute_result"
    }
   ],
   "source": [
    "function visualization_environment(;dist_to_left_wall=0.5, dist_to_right_wall=0.5)\n",
    "    thickness = 0.1\n",
    "    floor_poly = polyhedron_from_bounds([-1,1],[-thickness,0])\n",
    "    floor = Surface(SimpleHRepresentation(floor_poly))\n",
    "\n",
    "    right_wall_poly = polyhedron_from_bounds([dist_to_right_wall,\n",
    "    dist_to_right_wall + thickness],[-0.1,1.5])\n",
    "    right_wall = Surface(SimpleHRepresentation(right_wall_poly))\n",
    "\n",
    "    left_wall_poly = polyhedron_from_bounds([-(dist_to_left_wall + thickness),\n",
    "    -dist_to_left_wall],[-0.1,1.5])\n",
    "    left_wall = Surface(SimpleHRepresentation(left_wall_poly))\n",
    "\n",
    "    surfaces = [floor, right_wall, left_wall]\n",
    "    Environment(surfaces)\n",
    "end"
   ]
  },
  {
   "cell_type": "code",
   "execution_count": 15,
   "metadata": {
    "collapsed": false
   },
   "outputs": [
    {
     "data": {
      "text/plain": [
       "trajopt_environment (generic function with 1 method)"
      ]
     },
     "execution_count": 15,
     "metadata": {},
     "output_type": "execute_result"
    }
   ],
   "source": [
    "function trajopt_environment(robot::BoxRobotWithRotation2D; dist_to_left_wall=0.5, dist_to_right_wall=0.5)\n",
    "    μ = 0.8\n",
    "    maxforce = 2 * robot.m * norm(robot.g)\n",
    "    environment = [contact_region([-dist_to_left_wall; 0.], [dist_to_right_wall; 0.], μ, maxforce);\n",
    "        contact_region([-dist_to_left_wall; 0.], [-dist_to_left_wall; 1.], μ, maxforce);\n",
    "        contact_region([dist_to_right_wall; 0.], [dist_to_right_wall; 1.], μ, maxforce);\n",
    "        axis_aligned_free_box_region([-dist_to_left_wall; 0.], [dist_to_right_wall; 1.])]\n",
    "end"
   ]
  },
  {
   "cell_type": "code",
   "execution_count": 16,
   "metadata": {
    "collapsed": false
   },
   "outputs": [],
   "source": [
    "method = :Logarithmic2D\n",
    "disc_level = 2\n",
    "optparams = MIQPTrajOptParams(verbose = false, nsteps = 10, disc_level = disc_level, bilinearmethod = method)\n",
    "contact_point_descriptions = Dict(\n",
    "    :foot => ContactPointDescription(2., SimpleVRepresentation([-0.5 -0.5; 0.5 -0.5; -0.5 -1.; 0.5 -1.])),\n",
    "    :hand => ContactPointDescription(2., SimpleVRepresentation([-0.5 -0.5; 0.5 -0.5; -0.5 0.5; 0.5 0.5])))\n",
    "robot = BoxRobotWithRotation2D(0., 1., 60., SVector(0, -9.81), contact_point_descriptions)\n",
    "environment = trajopt_environment(robot)\n",
    "contactpointstates = Dict(:foot => ContactPointState(SVector(0., 0.)), :hand => ContactPointState(SVector(0.7, 0.1)))\n",
    "initialstate = BoxRobotWithRotation2DState(0., 0.1, SVector(0.0, 0.8), SVector(0.5, 0.), contactpointstates)\n",
    ";"
   ]
  },
  {
   "cell_type": "code",
   "execution_count": 17,
   "metadata": {
    "collapsed": false
   },
   "outputs": [
    {
     "name": "stderr",
     "output_type": "stream",
     "text": [
      "\u001b[1m\u001b[33mWARNING: \u001b[39m\u001b[22m\u001b[33mNot solved to optimality, status: Infeasible\u001b[39m\n"
     ]
    }
   ],
   "source": [
    "states, inputs, diagnostics = miqp_trajopt(robot, environment, initialstate, optparams);"
   ]
  },
  {
   "cell_type": "code",
   "execution_count": 18,
   "metadata": {
    "collapsed": false
   },
   "outputs": [
    {
     "ename": "LoadError",
     "evalue": "\u001b[91mMethodError: Cannot `convert` an object of type MixedIntegerExperiments.BoxRobotWithRotation2DState{Float64} to an object of type BoxRobots.BoxRobotState\nThis may have arisen from a call to the constructor BoxRobots.BoxRobotState(...),\nsince type constructors fall back to convert methods.\u001b[39m",
     "output_type": "error",
     "traceback": [
      "\u001b[91mMethodError: Cannot `convert` an object of type MixedIntegerExperiments.BoxRobotWithRotation2DState{Float64} to an object of type BoxRobots.BoxRobotState\nThis may have arisen from a call to the constructor BoxRobots.BoxRobotState(...),\nsince type constructors fall back to convert methods.\u001b[39m",
      "",
      "Stacktrace:",
      " [1] \u001b[1mBoxRobots.BoxRobotState\u001b[22m\u001b[22m\u001b[1m(\u001b[22m\u001b[22m::MixedIntegerExperiments.BoxRobotWithRotation2DState{Float64}\u001b[1m)\u001b[22m\u001b[22m at \u001b[1m./sysimg.jl:77\u001b[22m\u001b[22m",
      " [2] \u001b[1mbroadcast_t\u001b[22m\u001b[22m\u001b[1m(\u001b[22m\u001b[22m::Type{T} where T, ::Type{Any}, ::Tuple{Base.OneTo{Int64}}, ::CartesianRange{CartesianIndex{1}}, ::AxisArrays.AxisArray{MixedIntegerExperiments.BoxRobotWithRotation2DState{Float64},1,Array{MixedIntegerExperiments.BoxRobotWithRotation2DState{Float64},1},Tuple{AxisArrays.Axis{:step,UnitRange{Int64}}}}\u001b[1m)\u001b[22m\u001b[22m at \u001b[1m./broadcast.jl:256\u001b[22m\u001b[22m",
      " [3] \u001b[1mbroadcast_c\u001b[22m\u001b[22m at \u001b[1m./broadcast.jl:319\u001b[22m\u001b[22m [inlined]",
      " [4] \u001b[1mbroadcast\u001b[22m\u001b[22m\u001b[1m(\u001b[22m\u001b[22m::Type{T} where T, ::AxisArrays.AxisArray{MixedIntegerExperiments.BoxRobotWithRotation2DState{Float64},1,Array{MixedIntegerExperiments.BoxRobotWithRotation2DState{Float64},1},Tuple{AxisArrays.Axis{:step,UnitRange{Int64}}}}\u001b[1m)\u001b[22m\u001b[22m at \u001b[1m./broadcast.jl:434\u001b[22m\u001b[22m",
      " [5] \u001b[1minclude_string\u001b[22m\u001b[22m\u001b[1m(\u001b[22m\u001b[22m::String, ::String\u001b[1m)\u001b[22m\u001b[22m at \u001b[1m./loading.jl:522\u001b[22m\u001b[22m"
     ]
    }
   ],
   "source": [
    "ts = collect(0 : optparams.Δt : optparams.Δt * (optparams.nsteps - 1))\n",
    "brstates = BoxRobots.BoxRobotState.(states)\n",
    "brinputs = BoxRobots.BoxRobotInput.(inputs)\n",
    "trajectory = BoxRobots.Trajectory(ts, BoxRobots.BoxRobotSimulationData.(ts, brstates, brinputs))\n",
    "vis_options = BoxRobots.BoxRobotVisualizerOptions(force_arrow_normalizer=robot.m*norm(robot.g), playback_speed = 0.2)"
   ]
  },
  {
   "cell_type": "code",
   "execution_count": 19,
   "metadata": {
    "collapsed": false
   },
   "outputs": [],
   "source": [
    "# using MixedIntegerExperiments\n",
    "# vis = MixedIntegerExperiments.plot_piecewise_mccormick(5, -1., 1., -1., 1.);"
   ]
  },
  {
   "cell_type": "code",
   "execution_count": 20,
   "metadata": {
    "collapsed": false
   },
   "outputs": [],
   "source": [
    "# using Base.Test\n",
    "# # TODO: more checks on the final result\n",
    "\n",
    "# zvals = similar(zs, Float64)\n",
    "# for i = 1 : length(contacts), j = 1 : length(steps)\n",
    "#     @test sum(getvalue(zs[contacts(i), steps(j)])) == 1\n",
    "# end"
   ]
  },
  {
   "cell_type": "code",
   "execution_count": 21,
   "metadata": {
    "collapsed": false
   },
   "outputs": [],
   "source": [
    "# gr()\n",
    "# plt = plot_environment(environment)\n",
    "# bla = plot!(plt, [NaN], [NaN], lab = \"CoM\", markershape = :circle)\n",
    "# xvals = getvalue.(rs[:x])\n",
    "# zvals = getvalue.(rs[:z])\n",
    "# anim = @animate for n = 1 : nsteps\n",
    "#     plt[3] = ([xvals[n]], [zvals[n]])\n",
    "# end"
   ]
  },
  {
   "cell_type": "code",
   "execution_count": 22,
   "metadata": {
    "collapsed": false
   },
   "outputs": [],
   "source": [
    "# gif(anim, loop = 3, fps = round(Int64, 1 / h))"
   ]
  },
  {
   "cell_type": "code",
   "execution_count": null,
   "metadata": {
    "collapsed": true
   },
   "outputs": [],
   "source": []
  }
 ],
 "metadata": {
  "kernelspec": {
   "display_name": "Julia 0.6.1",
   "language": "julia",
   "name": "julia-0.6"
  },
  "language_info": {
   "file_extension": ".jl",
   "mimetype": "application/julia",
   "name": "julia",
   "version": "0.6.1"
  }
 },
 "nbformat": 4,
 "nbformat_minor": 1
}

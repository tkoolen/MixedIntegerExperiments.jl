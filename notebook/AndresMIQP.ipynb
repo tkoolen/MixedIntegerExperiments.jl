{
 "cells": [
  {
   "cell_type": "code",
   "execution_count": 1,
   "metadata": {
    "collapsed": false
   },
   "outputs": [],
   "source": [
    "using JuMP\n",
    "using Gurobi\n",
    "using MixedIntegerExperiments\n",
    "using Polyhedra\n",
    "using CDDLib\n",
    "using Plots\n",
    "using DrakeVisualizer\n",
    "using AxisArrays\n",
    "using BenchmarkTools"
   ]
  },
  {
   "cell_type": "code",
   "execution_count": 2,
   "metadata": {
    "collapsed": true
   },
   "outputs": [],
   "source": [
    "# Pkg.clone(\"https://github.com/andreasnoack/LinearAlgebra.jl\")\n",
    "# Pkg.clone(\"git@github.com:JuliaPolyhedra/ConvexHull.jl.git\")"
   ]
  },
  {
   "cell_type": "code",
   "execution_count": 3,
   "metadata": {
    "collapsed": false
   },
   "outputs": [],
   "source": [
    "# Pkg.checkout(\"CDDLib\", \"eltypeit\")\n",
    "# Pkg.checkout(\"Polyhedra\")"
   ]
  },
  {
   "cell_type": "code",
   "execution_count": 4,
   "metadata": {
    "collapsed": true
   },
   "outputs": [],
   "source": [
    "verbose = false;\n",
    "show_plots = true;"
   ]
  },
  {
   "cell_type": "code",
   "execution_count": 5,
   "metadata": {
    "collapsed": false
   },
   "outputs": [],
   "source": [
    "# parameters\n",
    "nsteps = 10\n",
    "θmax = 1.5\n",
    "h = 0.1\n",
    "I = 1.\n",
    "m = 10.\n",
    "g = [0; -9.81]\n",
    "r0 = [0.5; 0.8]\n",
    "ṙ0 = [0.1; 0.0]\n",
    "θ0 = 0.\n",
    "ω0 = 0.\n",
    "max_contact_point_accel = 15.\n",
    "environment = [\n",
    "    contact_region([0.; 0.], [1.; 0.], 0.8, 2 * m * norm(g)); \n",
    "    axis_aligned_free_box_region([0.; 0.], [1.; 1.])];\n",
    "contact_kinematic_regions = Dict( # TODO: θ dependence?\n",
    "    :foot => SimpleVRepresentation([-0.5 -0.5; 0.5 -0.5; -0.5 -1.; 0.5 -1.]),\n",
    "    :hand => SimpleVRepresentation([-0.5 -0.5; 0.5 -0.5; -0.5 0.5; 0.5 0.5]));"
   ]
  },
  {
   "cell_type": "code",
   "execution_count": 6,
   "metadata": {
    "collapsed": false
   },
   "outputs": [
    {
     "data": {
      "text/plain": [
       "2"
      ]
     },
     "execution_count": 6,
     "metadata": {},
     "output_type": "execute_result"
    }
   ],
   "source": [
    "coords = Axis{:coord}([:x, :z])\n",
    "steps = Axis{:step}(1 : nsteps)\n",
    "contacts = Axis{:contact}(collect(keys(contact_kinematic_regions)))\n",
    "regions = Axis{:region}(1 : length(environment))\n",
    "ncontacts = length(contacts)"
   ]
  },
  {
   "cell_type": "code",
   "execution_count": 27,
   "metadata": {
    "collapsed": false
   },
   "outputs": [
    {
     "data": {
      "text/html": [
       "<script src=\"/home/twan/code/MixedIntegerExperiments/v0.5/Plots/src/backends/../../deps/plotly-latest.min.js\"></script>    <div id=\"71772419-dfca-41cb-babc-5b425063074f\" style=\"width:600px;height:400px;\"></div>\n",
       "    <script>\n",
       "    PLOT = document.getElementById('71772419-dfca-41cb-babc-5b425063074f');\n",
       "    Plotly.plot(PLOT, [{\"yaxis\":\"y\",\"showlegend\":true,\"type\":\"scatter\",\"xaxis\":\"x\",\"name\":\"contact\",\"fillcolor\":\"rgba(0, 0, 0, 1.000)\",\"y\":[0.0,0.0,0.0],\"line\":{\"width\":1,\"dash\":\"solid\",\"color\":\"rgba(0, 0, 0, 1.000)\"},\"fill\":\"tozeroy\",\"mode\":\"lines\",\"x\":[0.0,1.0,0.0]},{\"yaxis\":\"y\",\"showlegend\":true,\"type\":\"scatter\",\"xaxis\":\"x\",\"name\":\"free\",\"fillcolor\":\"rgba(0, 0, 255, 0.100)\",\"y\":[0.0,0.0,1.0,1.0,0.0],\"line\":{\"width\":1,\"dash\":\"solid\",\"color\":\"rgba(0, 0, 0, 0.100)\"},\"fill\":\"tozeroy\",\"mode\":\"lines\",\"x\":[0.0,1.0,1.0,0.0,0.0]}], {\"yaxis\":{\"type\":\"-\",\"titlefont\":{\"size\":15,\"color\":\"rgba(0, 0, 0, 1.000)\",\"family\":\"sans-serif\"},\"title\":\"\",\"tickfont\":{\"size\":11,\"color\":\"rgba(0, 0, 0, 1.000)\",\"family\":\"sans-serif\"},\"ticks\":\"inside\",\"tickmode\":\"array\",\"showgrid\":true,\"tickvals\":[0.0,0.2,0.4,0.6000000000000001,0.8,1.0],\"domain\":[0.03762029746281716,0.9415463692038496],\"ticktext\":[\"0.0\",\"0.2\",\"0.4\",\"0.6\",\"0.8\",\"1.0\"],\"tickangle\":0,\"zeroline\":false,\"linecolor\":\"rgba(0, 0, 0, 1.000)\",\"tickcolor\":\"rgba(0, 0, 0, 1.000)\",\"anchor\":\"x\"},\"annotations\":[{\"text\":\"Environment\",\"y\":1.0,\"xref\":\"paper\",\"font\":{\"size\":20,\"color\":\"rgba(0, 0, 0, 1.000)\",\"family\":\"sans-serif\"},\"xanchor\":\"center\",\"x\":0.5222222222222223,\"yref\":\"paper\",\"showarrow\":false,\"yanchor\":\"top\",\"rotation\":-0.0}],\"width\":600,\"plot_bgcolor\":\"rgba(255, 255, 255, 1.000)\",\"showlegend\":true,\"legend\":{\"bgcolor\":\"rgba(255, 255, 255, 1.000)\",\"y\":1.0,\"font\":{\"size\":11,\"color\":\"rgba(0, 0, 0, 1.000)\",\"family\":\"sans-serif\"},\"bordercolor\":\"rgba(0, 0, 0, 1.000)\",\"x\":1.0},\"xaxis\":{\"type\":\"-\",\"titlefont\":{\"size\":15,\"color\":\"rgba(0, 0, 0, 1.000)\",\"family\":\"sans-serif\"},\"title\":\"\",\"tickfont\":{\"size\":11,\"color\":\"rgba(0, 0, 0, 1.000)\",\"family\":\"sans-serif\"},\"ticks\":\"inside\",\"tickmode\":\"array\",\"showgrid\":true,\"tickvals\":[0.0,0.2,0.4,0.6000000000000001,0.8,1.0],\"domain\":[0.05100612423447069,0.9934383202099737],\"ticktext\":[\"0.0\",\"0.2\",\"0.4\",\"0.6\",\"0.8\",\"1.0\"],\"tickangle\":0,\"zeroline\":false,\"linecolor\":\"rgba(0, 0, 0, 1.000)\",\"tickcolor\":\"rgba(0, 0, 0, 1.000)\",\"anchor\":\"y\"},\"paper_bgcolor\":\"rgba(255, 255, 255, 1.000)\",\"height\":400,\"margin\":{\"r\":0,\"l\":0,\"b\":0,\"t\":20}});\n",
       "    </script>\n"
      ]
     },
     "metadata": {},
     "output_type": "display_data"
    },
    {
     "data": {
      "text/html": [
       "<script src=\"/home/twan/code/MixedIntegerExperiments/v0.5/Plots/src/backends/../../deps/plotly-latest.min.js\"></script>    <div id=\"8e126d6d-3697-4124-b43e-4eeffa38186c\" style=\"width:600px;height:400px;\"></div>\n",
       "    <script>\n",
       "    PLOT = document.getElementById('8e126d6d-3697-4124-b43e-4eeffa38186c');\n",
       "    Plotly.plot(PLOT, [{\"yaxis\":\"y\",\"showlegend\":false,\"type\":\"scatter\",\"xaxis\":\"x\",\"name\":\"\",\"fillcolor\":\"rgba(0, 154, 250, 0.500)\",\"y\":[153.20646041272255,153.20646041272255,0.0,153.20646041272255],\"line\":{\"width\":1,\"dash\":\"solid\",\"color\":\"rgba(0, 0, 0, 0.500)\"},\"fill\":\"tozeroy\",\"mode\":\"lines\",\"x\":[122.56516833017804,-122.56516833017804,0.0,122.56516833017804]}], {\"yaxis\":{\"type\":\"-\",\"titlefont\":{\"size\":15,\"color\":\"rgba(0, 0, 0, 1.000)\",\"family\":\"sans-serif\"},\"title\":\"\",\"tickfont\":{\"size\":11,\"color\":\"rgba(0, 0, 0, 1.000)\",\"family\":\"sans-serif\"},\"ticks\":\"inside\",\"tickmode\":\"array\",\"showgrid\":true,\"tickvals\":[0.0,50.0,100.0,150.0],\"domain\":[0.03762029746281716,0.9415463692038496],\"ticktext\":[\"0\",\"50\",\"100\",\"150\"],\"tickangle\":0,\"zeroline\":false,\"linecolor\":\"rgba(0, 0, 0, 1.000)\",\"tickcolor\":\"rgba(0, 0, 0, 1.000)\",\"anchor\":\"x\"},\"annotations\":[{\"text\":\"Allowable contact forces, region 1\",\"y\":1.0,\"xref\":\"paper\",\"font\":{\"size\":20,\"color\":\"rgba(0, 0, 0, 1.000)\",\"family\":\"sans-serif\"},\"xanchor\":\"center\",\"x\":0.5222222222222223,\"yref\":\"paper\",\"showarrow\":false,\"yanchor\":\"top\",\"rotation\":-0.0}],\"width\":600,\"plot_bgcolor\":\"rgba(255, 255, 255, 1.000)\",\"showlegend\":true,\"legend\":{\"bgcolor\":\"rgba(255, 255, 255, 1.000)\",\"y\":1.0,\"font\":{\"size\":11,\"color\":\"rgba(0, 0, 0, 1.000)\",\"family\":\"sans-serif\"},\"bordercolor\":\"rgba(0, 0, 0, 1.000)\",\"x\":1.0},\"xaxis\":{\"type\":\"-\",\"titlefont\":{\"size\":15,\"color\":\"rgba(0, 0, 0, 1.000)\",\"family\":\"sans-serif\"},\"title\":\"\",\"tickfont\":{\"size\":11,\"color\":\"rgba(0, 0, 0, 1.000)\",\"family\":\"sans-serif\"},\"ticks\":\"inside\",\"tickmode\":\"array\",\"showgrid\":true,\"tickvals\":[-100.0,0.0,100.0],\"domain\":[0.05100612423447069,0.9934383202099737],\"ticktext\":[\"-100\",\"0\",\"100\"],\"tickangle\":0,\"zeroline\":false,\"linecolor\":\"rgba(0, 0, 0, 1.000)\",\"tickcolor\":\"rgba(0, 0, 0, 1.000)\",\"anchor\":\"y\"},\"paper_bgcolor\":\"rgba(255, 255, 255, 1.000)\",\"height\":400,\"margin\":{\"r\":0,\"l\":0,\"b\":0,\"t\":20}});\n",
       "    </script>\n"
      ]
     },
     "metadata": {},
     "output_type": "display_data"
    },
    {
     "data": {
      "text/html": [
       "<script src=\"/home/twan/code/MixedIntegerExperiments/v0.5/Plots/src/backends/../../deps/plotly-latest.min.js\"></script>    <div id=\"79ff9244-61ee-4ec8-8b7c-08816fad2928\" style=\"width:600px;height:400px;\"></div>\n",
       "    <script>\n",
       "    PLOT = document.getElementById('79ff9244-61ee-4ec8-8b7c-08816fad2928');\n",
       "    Plotly.plot(PLOT, [{\"yaxis\":\"y\",\"showlegend\":true,\"type\":\"scatter\",\"xaxis\":\"x\",\"name\":\"hand\",\"fillcolor\":\"rgba(0, 154, 250, 0.500)\",\"y\":[0.5,-0.5,-0.5,0.5,0.5],\"line\":{\"width\":1,\"dash\":\"solid\",\"color\":\"rgba(0, 0, 0, 0.500)\"},\"fill\":\"tozeroy\",\"mode\":\"lines\",\"x\":[-0.5,-0.5,0.5,0.5,-0.5]},{\"yaxis\":\"y\",\"showlegend\":true,\"type\":\"scatter\",\"xaxis\":\"x\",\"name\":\"foot\",\"fillcolor\":\"rgba(227, 111, 71, 0.500)\",\"y\":[-0.5,-1.0,-1.0,-0.5,-0.5],\"line\":{\"width\":1,\"dash\":\"solid\",\"color\":\"rgba(0, 0, 0, 0.500)\"},\"fill\":\"tozeroy\",\"mode\":\"lines\",\"x\":[-0.5,-0.5,0.5,0.5,-0.5]}], {\"yaxis\":{\"type\":\"-\",\"titlefont\":{\"size\":15,\"color\":\"rgba(0, 0, 0, 1.000)\",\"family\":\"sans-serif\"},\"title\":\"\",\"tickfont\":{\"size\":11,\"color\":\"rgba(0, 0, 0, 1.000)\",\"family\":\"sans-serif\"},\"ticks\":\"inside\",\"tickmode\":\"array\",\"showgrid\":true,\"tickvals\":[-1.0,-0.75,-0.5,-0.25,0.0,0.25,0.5],\"domain\":[0.03762029746281716,0.9415463692038496],\"ticktext\":[\"-1.00\",\"-0.75\",\"-0.50\",\"-0.25\",\"0.00\",\"0.25\",\"0.50\"],\"tickangle\":0,\"zeroline\":false,\"linecolor\":\"rgba(0, 0, 0, 1.000)\",\"tickcolor\":\"rgba(0, 0, 0, 1.000)\",\"anchor\":\"x\"},\"annotations\":[{\"text\":\"Kinematic reachability relative to CoM\",\"y\":1.0,\"xref\":\"paper\",\"font\":{\"size\":20,\"color\":\"rgba(0, 0, 0, 1.000)\",\"family\":\"sans-serif\"},\"xanchor\":\"center\",\"x\":0.5370370370370371,\"yref\":\"paper\",\"showarrow\":false,\"yanchor\":\"top\",\"rotation\":-0.0}],\"width\":600,\"plot_bgcolor\":\"rgba(255, 255, 255, 1.000)\",\"showlegend\":true,\"legend\":{\"bgcolor\":\"rgba(255, 255, 255, 1.000)\",\"y\":1.0,\"font\":{\"size\":11,\"color\":\"rgba(0, 0, 0, 1.000)\",\"family\":\"sans-serif\"},\"bordercolor\":\"rgba(0, 0, 0, 1.000)\",\"x\":1.0},\"xaxis\":{\"type\":\"-\",\"titlefont\":{\"size\":15,\"color\":\"rgba(0, 0, 0, 1.000)\",\"family\":\"sans-serif\"},\"title\":\"\",\"tickfont\":{\"size\":11,\"color\":\"rgba(0, 0, 0, 1.000)\",\"family\":\"sans-serif\"},\"ticks\":\"inside\",\"tickmode\":\"array\",\"showgrid\":true,\"tickvals\":[-0.5,-0.25,0.0,0.25,0.5],\"domain\":[0.08063575386410031,0.9934383202099737],\"ticktext\":[\"-0.50\",\"-0.25\",\"0.00\",\"0.25\",\"0.50\"],\"tickangle\":0,\"zeroline\":false,\"linecolor\":\"rgba(0, 0, 0, 1.000)\",\"tickcolor\":\"rgba(0, 0, 0, 1.000)\",\"anchor\":\"y\"},\"paper_bgcolor\":\"rgba(255, 255, 255, 1.000)\",\"height\":400,\"margin\":{\"r\":0,\"l\":0,\"b\":0,\"t\":20}});\n",
       "    </script>\n"
      ]
     },
     "metadata": {},
     "output_type": "display_data"
    }
   ],
   "source": [
    "if show_plots\n",
    "    plot_environment(environment)\n",
    "    for (i, region) in enumerate(environment)\n",
    "        isfree(region) || plot_allowable_forces(region, i)\n",
    "    end\n",
    "    plot_kinematic_regions(contact_kinematic_regions)\n",
    "end"
   ]
  },
  {
   "cell_type": "code",
   "execution_count": 8,
   "metadata": {
    "collapsed": false
   },
   "outputs": [],
   "source": [
    "model = Model(solver = GurobiSolver(Presolve = 0, OutputFlag = Int(verbose)));"
   ]
  },
  {
   "cell_type": "code",
   "execution_count": 9,
   "metadata": {
    "collapsed": false
   },
   "outputs": [],
   "source": [
    "rs = @axis_variables(model, r, coords, steps)\n",
    "θs = @axis_variables(model, θ, steps)\n",
    "ṙs = @axis_variables(model, ṙ, coords, steps)\n",
    "ωs = @axis_variables(model, ω, steps)\n",
    "rcs = @axis_variables(model, rc, coords, contacts, steps)\n",
    "ṙcs = @axis_variables(model, ṙc, coords, contacts, steps)\n",
    "fs = @axis_variables(model, f, coords, contacts, steps)\n",
    "Fs = @axis_variables(model, F, coords, steps)\n",
    "Ts = @axis_variables(model, T, steps)\n",
    "ss = @axis_variables(model, s, coords, contacts, steps)\n",
    "wzxs = @axis_variables(model, wzx, contacts, steps)\n",
    "wxzs = @axis_variables(model, wxz, contacts, steps)\n",
    "γs = @axis_variables(model, γ, contacts, regions, steps(1 : length(steps) - 1))\n",
    "Γs = @axis_variables(model, Γ, contacts, regions);"
   ]
  },
  {
   "cell_type": "code",
   "execution_count": 10,
   "metadata": {
    "collapsed": false
   },
   "outputs": [],
   "source": [
    "# 4.6\n",
    "zs = AxisArray(Array{Variable, 3}(ncontacts, length(environment), nsteps), contacts, regions, steps)\n",
    "product_regions = collect(region.position * region.force for region in environment)\n",
    "for i = 1 : ncontacts, n = 1 : nsteps\n",
    "    rc = rcs[contacts(i), steps(n)]\n",
    "    f = fs[contacts(i), steps(n)]\n",
    "    zs[contacts(i), steps(n)] = hull_reformulation(model, product_regions, [rc; f])\n",
    "end"
   ]
  },
  {
   "cell_type": "code",
   "execution_count": 11,
   "metadata": {
    "collapsed": false
   },
   "outputs": [],
   "source": [
    "# contact point dynamics\n",
    "for i = 1 : ncontacts, n = 1 : nsteps - 1\n",
    "    @constraints(model, begin\n",
    "        rcs[contacts(i), steps(n + 1)] .== rcs[contacts(i), steps(n)] + h * ṙcs[contacts(i), steps(n + 1)]\n",
    "        -h * max_contact_point_accel .<= ṙcs[contacts(i), steps(n + 1)] - ṙcs[contacts(i), steps(n)]\n",
    "        ṙcs[contacts(i), steps(n + 1)] - ṙcs[contacts(i), steps(n)] .<= h * max_contact_point_accel\n",
    "    end)\n",
    "end"
   ]
  },
  {
   "cell_type": "code",
   "execution_count": 12,
   "metadata": {
    "collapsed": false
   },
   "outputs": [],
   "source": [
    "# (4.13)\n",
    "for i = 1 : ncontacts, n = 1 : nsteps\n",
    "    s = ss[contacts(i), steps(n)]\n",
    "    rc = rcs[contacts(i), steps(n)]\n",
    "    r = rs[steps(n)]\n",
    "    @constraint(model, s .== rc - r)\n",
    "end"
   ]
  },
  {
   "cell_type": "code",
   "execution_count": 13,
   "metadata": {
    "collapsed": false
   },
   "outputs": [],
   "source": [
    "# 4.18\n",
    "for n = 1 : nsteps - 1\n",
    "    @constraints(model, begin\n",
    "        rs[steps(n + 1)] .== rs[steps(n)] + h * ṙs[steps(n + 1)]\n",
    "        θs[steps(n + 1)] == θs[steps(n)] + h * ωs[steps(n + 1)]\n",
    "        ṙs[steps(n + 1)] .== ṙs[steps(n)] + h / m * Fs[steps(n + 1)]\n",
    "        ωs[steps(n + 1)] == ωs[steps(n)] + h / I * Ts[steps(n + 1)]\n",
    "    end)\n",
    "end\n",
    "\n",
    "for n = 1 : nsteps\n",
    "    @constraints(model, begin\n",
    "        Fs[steps(n)] .== m * g + sum(fs[steps(n), contacts(i)] for i = 1 : length(contacts))\n",
    "        Ts[steps(n)] == sum(wzxs[steps(n), contacts(i)] - wxzs[steps(n), contacts(i)] for i = 1 : length(contacts))\n",
    "    end)\n",
    "end"
   ]
  },
  {
   "cell_type": "code",
   "execution_count": 14,
   "metadata": {
    "collapsed": false
   },
   "outputs": [],
   "source": [
    "# convex bilinear term approximations (4.12, 4.13)\n",
    "for i = 1 : ncontacts, n = 1 : nsteps\n",
    "    # TODO: ranges, piecewise\n",
    "    wxz = wxzs[contacts(i), steps(n)]\n",
    "    wzx = wzxs[contacts(i), steps(n)]\n",
    "    s = ss[contacts(i), steps(n)]\n",
    "    f = fs[contacts(i), steps(n)]\n",
    "    mccormick_envelope_constraints(model, wxz, s[:x], f[:z], -100., 100., -100., 100.)\n",
    "    mccormick_envelope_constraints(model, wzx, s[:z], f[:x], -100., 100., -100., 100.)\n",
    "end"
   ]
  },
  {
   "cell_type": "code",
   "execution_count": 15,
   "metadata": {
    "collapsed": false
   },
   "outputs": [],
   "source": [
    "# initial conditions\n",
    "@constraints(model, begin\n",
    "    rs[steps(1)] .== r0\n",
    "    θs[steps(1)] == θ0\n",
    "    ṙs[steps(1)] .== ṙ0\n",
    "    ωs[steps(1)] == ω0\n",
    "end)\n",
    "\n",
    "# final conditions\n",
    "@constraints(model, begin\n",
    "    ṙs[steps(length(steps))] .== 0\n",
    "    ωs[steps(length(steps))] == 0\n",
    "end)"
   ]
  },
  {
   "cell_type": "code",
   "execution_count": 18,
   "metadata": {
    "collapsed": false
   },
   "outputs": [],
   "source": [
    "# kinematic constraints\n",
    "\n",
    "# angle\n",
    "@constraints(model, begin\n",
    "    -θmax .<= θs\n",
    "    θs .<= θmax\n",
    "end)\n",
    "\n",
    "# contact point positions relative to CoM\n",
    "# NOTE: adding these increased solve time a lot\n",
    "for contact in keys(contact_kinematic_regions), n = 1 : nsteps\n",
    "    s = ss[contacts(contact), steps(n)]\n",
    "    polyhedron_constraints(model, contact_kinematic_regions[contact], s)\n",
    "end"
   ]
  },
  {
   "cell_type": "code",
   "execution_count": 19,
   "metadata": {
    "collapsed": false
   },
   "outputs": [],
   "source": [
    "# section 4.4\n",
    "# objective function + slack parameterization\n",
    "@constraint(model, Γs .== sum(γs[steps(n)] for n = 1 : length(steps) - 1));\n",
    "for n = 1 : length(steps) - 1\n",
    "    @constraints(model, begin\n",
    "        -γs[steps(n)] .<= zs[steps(n + 1)] - zs[steps(n)]\n",
    "        zs[steps(n + 1)] - zs[steps(n)] .<= γs[steps(n)]\n",
    "        0 .<= γs\n",
    "        γs .<= 1\n",
    "    end)\n",
    "end\n",
    "\n",
    "@objective(model, Min, sum(Γ) + vecdot(fs, fs) + vecdot(ṙcs, ṙcs) + vecdot(θs, θs));"
   ]
  },
  {
   "cell_type": "code",
   "execution_count": 20,
   "metadata": {
    "collapsed": false
   },
   "outputs": [
    {
     "data": {
      "text/plain": [
       "BenchmarkTools.Trial: \n",
       "  memory estimate:  142.03 KiB\n",
       "  allocs estimate:  73\n",
       "  --------------\n",
       "  minimum time:     31.023 ms (0.00% GC)\n",
       "  median time:      32.802 ms (0.00% GC)\n",
       "  mean time:        33.442 ms (0.00% GC)\n",
       "  maximum time:     50.947 ms (0.00% GC)\n",
       "  --------------\n",
       "  samples:          150\n",
       "  evals/sample:     1\n",
       "  time tolerance:   5.00%\n",
       "  memory tolerance: 1.00%"
      ]
     },
     "execution_count": 20,
     "metadata": {},
     "output_type": "execute_result"
    }
   ],
   "source": [
    "@benchmark solve($model)"
   ]
  },
  {
   "cell_type": "code",
   "execution_count": 21,
   "metadata": {
    "collapsed": false
   },
   "outputs": [
    {
     "data": {
      "text/html": [
       "<script src=\"/home/twan/code/MixedIntegerExperiments/v0.5/Plots/src/backends/../../deps/plotly-latest.min.js\"></script>    <div id=\"95cf8db8-3a87-4ed1-9abc-5d82cd6ae1f9\" style=\"width:600px;height:400px;\"></div>\n",
       "    <script>\n",
       "    PLOT = document.getElementById('95cf8db8-3a87-4ed1-9abc-5d82cd6ae1f9');\n",
       "    Plotly.plot(PLOT, [{\"yaxis\":\"y\",\"y\":[0.5,0.509375,0.5181250000000001,0.525625,0.531875,0.536875,0.540625,0.543125,0.5443749999999999,0.5443749999999999],\"showlegend\":true,\"name\":\"x\",\"type\":\"scatter\",\"xaxis\":\"x\",\"line\":{\"width\":1,\"dash\":\"solid\",\"color\":\"rgba(0, 154, 250, 1.000)\",\"shape\":\"linear\"},\"x\":[1,2,3,4,5,6,7,8,9,10],\"mode\":\"lines\"}], {\"yaxis\":{\"type\":\"-\",\"titlefont\":{\"size\":15,\"color\":\"rgba(0, 0, 0, 1.000)\",\"family\":\"sans-serif\"},\"title\":\"\",\"tickfont\":{\"size\":11,\"color\":\"rgba(0, 0, 0, 1.000)\",\"family\":\"sans-serif\"},\"ticks\":\"inside\",\"tickmode\":\"array\",\"showgrid\":true,\"tickvals\":[0.5,0.51,0.52,0.53,0.54],\"domain\":[0.03762029746281716,0.9901574803149606],\"ticktext\":[\"0.50\",\"0.51\",\"0.52\",\"0.53\",\"0.54\"],\"tickangle\":0,\"zeroline\":false,\"linecolor\":\"rgba(0, 0, 0, 1.000)\",\"tickcolor\":\"rgba(0, 0, 0, 1.000)\",\"anchor\":\"x\"},\"annotations\":[],\"width\":600,\"plot_bgcolor\":\"rgba(255, 255, 255, 1.000)\",\"showlegend\":true,\"legend\":{\"bgcolor\":\"rgba(255, 255, 255, 1.000)\",\"y\":1.0,\"font\":{\"size\":11,\"color\":\"rgba(0, 0, 0, 1.000)\",\"family\":\"sans-serif\"},\"bordercolor\":\"rgba(0, 0, 0, 1.000)\",\"x\":1.0},\"xaxis\":{\"type\":\"-\",\"titlefont\":{\"size\":15,\"color\":\"rgba(0, 0, 0, 1.000)\",\"family\":\"sans-serif\"},\"title\":\"\",\"tickfont\":{\"size\":11,\"color\":\"rgba(0, 0, 0, 1.000)\",\"family\":\"sans-serif\"},\"ticks\":\"inside\",\"tickmode\":\"array\",\"showgrid\":true,\"tickvals\":[2.5,5.0,7.5,10.0],\"domain\":[0.0658209390492855,0.9934383202099738],\"ticktext\":[\"2.5\",\"5.0\",\"7.5\",\"10.0\"],\"tickangle\":0,\"zeroline\":false,\"linecolor\":\"rgba(0, 0, 0, 1.000)\",\"tickcolor\":\"rgba(0, 0, 0, 1.000)\",\"anchor\":\"y\"},\"paper_bgcolor\":\"rgba(255, 255, 255, 1.000)\",\"height\":400,\"margin\":{\"r\":0,\"l\":0,\"b\":0,\"t\":20}});\n",
       "    </script>\n"
      ]
     },
     "execution_count": 21,
     "metadata": {},
     "output_type": "execute_result"
    }
   ],
   "source": [
    "plot(getvalue.(rs[:x]), lab = \"x\")"
   ]
  },
  {
   "cell_type": "code",
   "execution_count": 22,
   "metadata": {
    "collapsed": false
   },
   "outputs": [
    {
     "data": {
      "text/html": [
       "<script src=\"/home/twan/code/MixedIntegerExperiments/v0.5/Plots/src/backends/../../deps/plotly-latest.min.js\"></script>    <div id=\"c665db23-8ba1-4c9d-9640-07e25332b18a\" style=\"width:600px;height:400px;\"></div>\n",
       "    <script>\n",
       "    PLOT = document.getElementById('c665db23-8ba1-4c9d-9640-07e25332b18a');\n",
       "    Plotly.plot(PLOT, [{\"yaxis\":\"y\",\"y\":[0.8,0.7219037561490753,0.5904746481277787,0.5,0.5,0.5,0.5,0.5,0.5,0.5],\"showlegend\":true,\"name\":\"z\",\"type\":\"scatter\",\"xaxis\":\"x\",\"line\":{\"width\":1,\"dash\":\"solid\",\"color\":\"rgba(0, 154, 250, 1.000)\",\"shape\":\"linear\"},\"x\":[1,2,3,4,5,6,7,8,9,10],\"mode\":\"lines\"}], {\"yaxis\":{\"type\":\"-\",\"titlefont\":{\"size\":15,\"color\":\"rgba(0, 0, 0, 1.000)\",\"family\":\"sans-serif\"},\"title\":\"\",\"tickfont\":{\"size\":11,\"color\":\"rgba(0, 0, 0, 1.000)\",\"family\":\"sans-serif\"},\"ticks\":\"inside\",\"tickmode\":\"array\",\"showgrid\":true,\"tickvals\":[0.5,0.6000000000000001,0.7000000000000001,0.8],\"domain\":[0.03762029746281716,0.9901574803149606],\"ticktext\":[\"0.5\",\"0.6\",\"0.7\",\"0.8\"],\"tickangle\":0,\"zeroline\":false,\"linecolor\":\"rgba(0, 0, 0, 1.000)\",\"tickcolor\":\"rgba(0, 0, 0, 1.000)\",\"anchor\":\"x\"},\"annotations\":[],\"width\":600,\"plot_bgcolor\":\"rgba(255, 255, 255, 1.000)\",\"showlegend\":true,\"legend\":{\"bgcolor\":\"rgba(255, 255, 255, 1.000)\",\"y\":1.0,\"font\":{\"size\":11,\"color\":\"rgba(0, 0, 0, 1.000)\",\"family\":\"sans-serif\"},\"bordercolor\":\"rgba(0, 0, 0, 1.000)\",\"x\":1.0},\"xaxis\":{\"type\":\"-\",\"titlefont\":{\"size\":15,\"color\":\"rgba(0, 0, 0, 1.000)\",\"family\":\"sans-serif\"},\"title\":\"\",\"tickfont\":{\"size\":11,\"color\":\"rgba(0, 0, 0, 1.000)\",\"family\":\"sans-serif\"},\"ticks\":\"inside\",\"tickmode\":\"array\",\"showgrid\":true,\"tickvals\":[2.5,5.0,7.5,10.0],\"domain\":[0.05100612423447069,0.9934383202099737],\"ticktext\":[\"2.5\",\"5.0\",\"7.5\",\"10.0\"],\"tickangle\":0,\"zeroline\":false,\"linecolor\":\"rgba(0, 0, 0, 1.000)\",\"tickcolor\":\"rgba(0, 0, 0, 1.000)\",\"anchor\":\"y\"},\"paper_bgcolor\":\"rgba(255, 255, 255, 1.000)\",\"height\":400,\"margin\":{\"r\":0,\"l\":0,\"b\":0,\"t\":20}});\n",
       "    </script>\n"
      ]
     },
     "execution_count": 22,
     "metadata": {},
     "output_type": "execute_result"
    }
   ],
   "source": [
    "plot(getvalue.(rs[:z]), lab = \"z\")"
   ]
  },
  {
   "cell_type": "code",
   "execution_count": 23,
   "metadata": {
    "collapsed": false
   },
   "outputs": [
    {
     "data": {
      "text/html": [
       "<script src=\"/home/twan/code/MixedIntegerExperiments/v0.5/Plots/src/backends/../../deps/plotly-latest.min.js\"></script>    <div id=\"20d396b2-135c-40b1-a38e-74c151c26045\" style=\"width:600px;height:400px;\"></div>\n",
       "    <script>\n",
       "    PLOT = document.getElementById('20d396b2-135c-40b1-a38e-74c151c26045');\n",
       "    Plotly.plot(PLOT, [{\"yaxis\":\"y\",\"y\":[0.0,0.0,0.0,0.0,0.0,0.0,0.0,0.0,0.0,0.0],\"showlegend\":true,\"name\":\"θ\",\"type\":\"scatter\",\"xaxis\":\"x\",\"line\":{\"width\":1,\"dash\":\"solid\",\"color\":\"rgba(0, 154, 250, 1.000)\",\"shape\":\"linear\"},\"x\":[1,2,3,4,5,6,7,8,9,10],\"mode\":\"lines\"}], {\"yaxis\":{\"type\":\"-\",\"titlefont\":{\"size\":15,\"color\":\"rgba(0, 0, 0, 1.000)\",\"family\":\"sans-serif\"},\"title\":\"\",\"tickfont\":{\"size\":11,\"color\":\"rgba(0, 0, 0, 1.000)\",\"family\":\"sans-serif\"},\"ticks\":\"inside\",\"tickmode\":\"array\",\"showgrid\":true,\"tickvals\":[0.0,0.2,0.4,0.6000000000000001,0.8,1.0],\"domain\":[0.03762029746281716,0.9901574803149606],\"ticktext\":[\"0.0\",\"0.2\",\"0.4\",\"0.6\",\"0.8\",\"1.0\"],\"tickangle\":0,\"zeroline\":false,\"linecolor\":\"rgba(0, 0, 0, 1.000)\",\"tickcolor\":\"rgba(0, 0, 0, 1.000)\",\"anchor\":\"x\"},\"annotations\":[],\"width\":600,\"plot_bgcolor\":\"rgba(255, 255, 255, 1.000)\",\"showlegend\":true,\"legend\":{\"bgcolor\":\"rgba(255, 255, 255, 1.000)\",\"y\":1.0,\"font\":{\"size\":11,\"color\":\"rgba(0, 0, 0, 1.000)\",\"family\":\"sans-serif\"},\"bordercolor\":\"rgba(0, 0, 0, 1.000)\",\"x\":1.0},\"xaxis\":{\"type\":\"-\",\"titlefont\":{\"size\":15,\"color\":\"rgba(0, 0, 0, 1.000)\",\"family\":\"sans-serif\"},\"title\":\"\",\"tickfont\":{\"size\":11,\"color\":\"rgba(0, 0, 0, 1.000)\",\"family\":\"sans-serif\"},\"ticks\":\"inside\",\"tickmode\":\"array\",\"showgrid\":true,\"tickvals\":[2.5,5.0,7.5,10.0],\"domain\":[0.05100612423447069,0.9934383202099737],\"ticktext\":[\"2.5\",\"5.0\",\"7.5\",\"10.0\"],\"tickangle\":0,\"zeroline\":false,\"linecolor\":\"rgba(0, 0, 0, 1.000)\",\"tickcolor\":\"rgba(0, 0, 0, 1.000)\",\"anchor\":\"y\"},\"paper_bgcolor\":\"rgba(255, 255, 255, 1.000)\",\"height\":400,\"margin\":{\"r\":0,\"l\":0,\"b\":0,\"t\":20}});\n",
       "    </script>\n"
      ]
     },
     "execution_count": 23,
     "metadata": {},
     "output_type": "execute_result"
    }
   ],
   "source": [
    "plot(getvalue.(θs), lab = \"θ\")"
   ]
  },
  {
   "cell_type": "code",
   "execution_count": 24,
   "metadata": {
    "collapsed": false
   },
   "outputs": [],
   "source": [
    "# vis = MixedIntegerExperiments.plot_piecewise_mccormick(20, -1., 1., -1., 1.);"
   ]
  },
  {
   "cell_type": "code",
   "execution_count": 25,
   "metadata": {
    "collapsed": false
   },
   "outputs": [],
   "source": [
    "using Base.Test\n",
    "# TODO: more checks on the final result\n",
    "\n",
    "zvals = similar(zs, Float64)\n",
    "for i = 1 : length(contacts), j = 1 : length(steps)\n",
    "    @test sum(getvalue(zs[contacts(i), steps(j)])) == 1\n",
    "end"
   ]
  },
  {
   "cell_type": "code",
   "execution_count": null,
   "metadata": {
    "collapsed": true
   },
   "outputs": [],
   "source": []
  }
 ],
 "metadata": {
  "kernelspec": {
   "display_name": "Julia 0.5.0",
   "language": "julia",
   "name": "julia-0.5"
  },
  "language_info": {
   "file_extension": ".jl",
   "mimetype": "application/julia",
   "name": "julia",
   "version": "0.5.0"
  }
 },
 "nbformat": 4,
 "nbformat_minor": 1
}

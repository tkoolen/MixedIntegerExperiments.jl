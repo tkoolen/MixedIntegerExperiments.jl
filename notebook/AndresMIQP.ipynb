{
 "cells": [
  {
   "cell_type": "code",
   "execution_count": 1,
   "metadata": {
    "collapsed": false
   },
   "outputs": [],
   "source": [
    "using JuMP\n",
    "using Gurobi\n",
    "using MixedIntegerExperiments\n",
    "using Polyhedra\n",
    "using CDDLib\n",
    "using Plots\n",
    "using DrakeVisualizer\n",
    "using AxisArrays\n",
    "# using BenchmarkTools"
   ]
  },
  {
   "cell_type": "code",
   "execution_count": 2,
   "metadata": {
    "collapsed": false
   },
   "outputs": [],
   "source": [
    "# Pkg.clone(\"https://github.com/andreasnoack/LinearAlgebra.jl\")\n",
    "# Pkg.clone(\"git@github.com:JuliaPolyhedra/ConvexHull.jl.git\")"
   ]
  },
  {
   "cell_type": "code",
   "execution_count": 3,
   "metadata": {
    "collapsed": true
   },
   "outputs": [],
   "source": [
    "verbose = true;\n",
    "show_plots = false;"
   ]
  },
  {
   "cell_type": "code",
   "execution_count": 4,
   "metadata": {
    "collapsed": false
   },
   "outputs": [],
   "source": [
    "# parameters\n",
    "nsteps = 100\n",
    "ncontacts = 2\n",
    "h = 0.1\n",
    "I = 1.\n",
    "m = 10.\n",
    "g = [0; -9.81]\n",
    "r0 = [0.5; 0.8]\n",
    "ṙ0 = [0.0; 0.0]\n",
    "θ0 = 0.\n",
    "ω0 = 0.\n",
    "contactregion = contact_region([0.; 0.], [1.; 0.], 0.8, 2 * m * norm(g))\n",
    "freeregion = axis_aligned_free_box_region([0.; 0.], [1.; 1.])\n",
    "regions = [contactregion; freeregion]\n",
    "nregions = length(regions);"
   ]
  },
  {
   "cell_type": "code",
   "execution_count": 5,
   "metadata": {
    "collapsed": false
   },
   "outputs": [],
   "source": [
    "if show_plots\n",
    "    plt = plot()\n",
    "    plot_polyhedron!(polyhedron(contactregion.position); lab = \"contact\", fillcolor = \"black\")\n",
    "    plot_polyhedron!(polyhedron(freeregion.position); lab = \"free\", opacity = 0.5)\n",
    "    title!(plt, \"Environment\")\n",
    "    plt\n",
    "end"
   ]
  },
  {
   "cell_type": "code",
   "execution_count": 6,
   "metadata": {
    "collapsed": false
   },
   "outputs": [],
   "source": [
    "if show_plots\n",
    "    plt = plot()\n",
    "    plot_polyhedron!(polyhedron(contactregion.force); opacity = 0.5, lab = \"Contact region\")\n",
    "    title!(\"Allowable contact forces\")\n",
    "end"
   ]
  },
  {
   "cell_type": "code",
   "execution_count": 7,
   "metadata": {
    "collapsed": false
   },
   "outputs": [],
   "source": [
    "model = Model(solver = GurobiSolver(Presolve = 0, OutputFlag = Int(verbose)));"
   ]
  },
  {
   "cell_type": "code",
   "execution_count": 8,
   "metadata": {
    "collapsed": false
   },
   "outputs": [
    {
     "data": {
      "text/plain": [
       "AxisArrays.Axis{:contact,UnitRange{Int64}}(1:100)"
      ]
     },
     "execution_count": 8,
     "metadata": {},
     "output_type": "execute_result"
    }
   ],
   "source": [
    "dimaxis = Axis{:dim}([:x, :z])\n",
    "stepaxis = Axis{:step}(1 : nsteps)\n",
    "contactaxis = Axis{:contact}(1 : nsteps)"
   ]
  },
  {
   "cell_type": "code",
   "execution_count": 15,
   "metadata": {
    "collapsed": false
   },
   "outputs": [
    {
     "name": "stderr",
     "output_type": "stream",
     "text": [
      "WARNING: Method definition create_variables(JuMP.Model, String, AxisArrays.Axis...) in module Main at In[9]:2 overwritten at In[15]:2.\n"
     ]
    },
    {
     "data": {
      "text/plain": [
       "create_variables (generic function with 1 method)"
      ]
     },
     "execution_count": 15,
     "metadata": {},
     "output_type": "execute_result"
    }
   ],
   "source": [
    "function create_variables(model::Model, basename::String, axes::Axis...)\n",
    "    ranges = map(axis -> 1 : length(axis), axes)\n",
    "    vars = @variable(model, $ranges, basename = basename)\n",
    "    AxisArray(vars, axes...)\n",
    "end"
   ]
  },
  {
   "cell_type": "code",
   "execution_count": 10,
   "metadata": {
    "collapsed": false
   },
   "outputs": [
    {
     "data": {
      "text/plain": [
       "(1:2,1:100)"
      ]
     },
     "execution_count": 10,
     "metadata": {},
     "output_type": "execute_result"
    }
   ],
   "source": [
    "ranges = map(axis -> 1 : length(axis), (dimaxis, stepaxis))"
   ]
  },
  {
   "cell_type": "code",
   "execution_count": 11,
   "metadata": {
    "collapsed": false
   },
   "outputs": [
    {
     "data": {
      "text/latex": [
       "$$ r_{i} free \\quad\\forall i \\in \\{1:2,1:100\\} $$"
      ],
      "text/plain": [
       "r[i] free ∀ i ∈ {1:2,1:100}"
      ]
     },
     "execution_count": 11,
     "metadata": {},
     "output_type": "execute_result"
    }
   ],
   "source": [
    "vars = @variable(model, $ranges, basename = \"r\")"
   ]
  },
  {
   "cell_type": "code",
   "execution_count": 20,
   "metadata": {
    "collapsed": false
   },
   "outputs": [
    {
     "data": {
      "text/plain": [
       "JuMP.JuMPContainer{JuMP.Variable,N}"
      ]
     },
     "execution_count": 20,
     "metadata": {},
     "output_type": "execute_result"
    }
   ],
   "source": [
    "supertype(typeof(vars))"
   ]
  },
  {
   "cell_type": "code",
   "execution_count": 16,
   "metadata": {
    "collapsed": false
   },
   "outputs": [
    {
     "ename": "LoadError",
     "evalue": "MethodError: no method matching AxisArrays.AxisArray{T,N,D,Ax}(::JuMP.JuMPArray{JuMP.Variable,1,Tuple{Tuple{UnitRange{Int64},UnitRange{Int64}}}}, ::AxisArrays.Axis{:dim,Array{Symbol,1}}, ::AxisArrays.Axis{:step,UnitRange{Int64}})\u001b[0m\nClosest candidates are:\n  AxisArrays.AxisArray{T,N,D,Ax}(\u001b[1m\u001b[31m::AbstractArray{T,N}\u001b[0m, ::AxisArrays.Axis{name,T}...) at /home/twan/code/MixedIntegerExperiments/v0.5/AxisArrays/src/core.jl:176\n  AxisArrays.AxisArray{T,N,D,Ax}{T}(::Any) at sysimg.jl:53\u001b[0m",
     "output_type": "error",
     "traceback": [
      "MethodError: no method matching AxisArrays.AxisArray{T,N,D,Ax}(::JuMP.JuMPArray{JuMP.Variable,1,Tuple{Tuple{UnitRange{Int64},UnitRange{Int64}}}}, ::AxisArrays.Axis{:dim,Array{Symbol,1}}, ::AxisArrays.Axis{:step,UnitRange{Int64}})\u001b[0m\nClosest candidates are:\n  AxisArrays.AxisArray{T,N,D,Ax}(\u001b[1m\u001b[31m::AbstractArray{T,N}\u001b[0m, ::AxisArrays.Axis{name,T}...) at /home/twan/code/MixedIntegerExperiments/v0.5/AxisArrays/src/core.jl:176\n  AxisArrays.AxisArray{T,N,D,Ax}{T}(::Any) at sysimg.jl:53\u001b[0m",
      "",
      " in create_variables(::JuMP.Model, ::String, ::AxisArrays.Axis{:dim,Array{Symbol,1}}, ::Vararg{AxisArrays.Axis,N}) at ./In[15]:4"
     ]
    }
   ],
   "source": [
    "bla = create_variables(model, \"r\", dimaxis, stepaxis);"
   ]
  },
  {
   "cell_type": "code",
   "execution_count": null,
   "metadata": {
    "collapsed": true
   },
   "outputs": [],
   "source": []
  },
  {
   "cell_type": "code",
   "execution_count": 50,
   "metadata": {
    "collapsed": false
   },
   "outputs": [
    {
     "data": {
      "text/latex": [
       "$$ r_{i} free \\quad\\forall i \\in \\{1,2,3\\} $$"
      ],
      "text/plain": [
       "3-element Array{JuMP.Variable,1}:\n",
       " r[1]\n",
       " r[2]\n",
       " r[3]"
      ]
     },
     "execution_count": 50,
     "metadata": {},
     "output_type": "execute_result"
    }
   ],
   "source": [
    "@variable(model, [i = 1 : 3], basename = \"r\")"
   ]
  },
  {
   "cell_type": "code",
   "execution_count": 41,
   "metadata": {
    "collapsed": false
   },
   "outputs": [
    {
     "data": {
      "text/plain": [
       "2-dimensional AxisArray{JuMP.Variable,2,...} with axes:\n",
       "    :dim, Symbol[:x,:z]\n",
       "    :step, 1:100\n",
       "And data, a 2×100 Array{JuMP.Variable,2}:\n",
       " r[1,1]  r[1,2]  r[1,3]  r[1,4]  …  r[1,97]  r[1,98]  r[1,99]  r[1,100]\n",
       " r[2,1]  r[2,2]  r[2,3]  r[2,4]     r[2,97]  r[2,98]  r[2,99]  r[2,100]"
      ]
     },
     "execution_count": 41,
     "metadata": {},
     "output_type": "execute_result"
    }
   ],
   "source": [
    "rs = AxisArray(@variable(model, r[k = 1 : 2, n = 1 : nsteps]), dimaxis, stepaxis)\n",
    "θs = AxisArray(@variable(model, θ[n = 1 : nsteps]), stepaxis)\n",
    "ṙs = AxisArray(@variable(model, ṙ[k = 1 : 2, n = 1 : nsteps]), dimaxis, stepaxis)\n",
    "ωs = AxisArray(@variable(model, ω[n = 1 : nsteps]), stepaxis)\n",
    "rcs = AxisArray(@variable(model, rc[k = 1 : 2, i = 1 : ncontacts, n = 1 : nsteps]), dimaxis, contactaxis, stepaxis)\n",
    "fs = AxisArray(@variable(model, f[k = 1 : 2, i = 1 : ncontacts, n = 1 : nsteps]), dimaxis, contactaxis, stepaxis)\n",
    "F = AxisArray(@variable(model, F[k = 1 : 2, n = 1 : nsteps]), dimaxis, stepaxis)\n",
    "Ts = AxisArray(@variable(model, T[n = 1 : nsteps]), stepaxis)\n",
    "ss = AxisArray(@variable(model, s[k = 1 : 2, i = 1 : ncontacts, n = 1 : nsteps]), dimaxis, contactaxis, stepaxis)\n",
    "\n"
   ]
  },
  {
   "cell_type": "code",
   "execution_count": 9,
   "metadata": {
    "collapsed": false
   },
   "outputs": [],
   "source": [
    "@variables(model, begin\n",
    "    r[k = 1 : 2, n = 1 : nsteps]\n",
    "    θ[n = 1 : nsteps]\n",
    "    ṙ[k = 1 : 2, n = 1 : nsteps]\n",
    "    ω[n = 1 : nsteps]\n",
    "    rc[k = 1 : 2, i = 1 : ncontacts, n = 1 : nsteps]\n",
    "    f[k = 1 : 2, i = 1 : ncontacts, n = 1 : nsteps]\n",
    "    F[k = 1 : 2, n = 1 : nsteps]\n",
    "    T[n = 1 : nsteps]\n",
    "    s[k = 1 : 2, i = 1 : ncontacts, n = 1 : nsteps]\n",
    "    wzx[i = 1 : ncontacts, n = 1 : nsteps]\n",
    "    wxz[i = 1 : ncontacts, n = 1 : nsteps]\n",
    "    γ[i = 1 : ncontacts, j = 1 : nregions, n = 1 : nsteps - 1]\n",
    "    Γ[i = 1 : ncontacts, j = 1 : nregions]\n",
    "end)"
   ]
  },
  {
   "cell_type": "code",
   "execution_count": 23,
   "metadata": {
    "collapsed": false
   },
   "outputs": [
    {
     "data": {
      "text/plain": [
       "Array{JuMP.Variable,2}"
      ]
     },
     "execution_count": 23,
     "metadata": {},
     "output_type": "execute_result"
    }
   ],
   "source": [
    "typeof(r)"
   ]
  },
  {
   "cell_type": "code",
   "execution_count": 31,
   "metadata": {
    "collapsed": false
   },
   "outputs": [
    {
     "data": {
      "text/plain": [
       "2-dimensional AxisArray{JuMP.Variable,2,...} with axes:\n",
       "    :dim, Symbol[:x,:z]\n",
       "    :step, 1:100\n",
       "And data, a 2×100 Array{JuMP.Variable,2}:\n",
       " r[1,1]  r[1,2]  r[1,3]  r[1,4]  …  r[1,97]  r[1,98]  r[1,99]  r[1,100]\n",
       " r[2,1]  r[2,2]  r[2,3]  r[2,4]     r[2,97]  r[2,98]  r[2,99]  r[2,100]"
      ]
     },
     "execution_count": 31,
     "metadata": {},
     "output_type": "execute_result"
    }
   ],
   "source": []
  },
  {
   "cell_type": "code",
   "execution_count": 38,
   "metadata": {
    "collapsed": false
   },
   "outputs": [
    {
     "data": {
      "text/plain": [
       "Array{JuMP.Variable,2}"
      ]
     },
     "execution_count": 38,
     "metadata": {},
     "output_type": "execute_result"
    }
   ],
   "source": [
    "typeof()"
   ]
  },
  {
   "cell_type": "code",
   "execution_count": 10,
   "metadata": {
    "collapsed": false
   },
   "outputs": [],
   "source": [
    "# 4.6\n",
    "z = Array{Variable, 3}(ncontacts, nregions, nsteps)\n",
    "for i = 1 : ncontacts, n = 1 : nsteps\n",
    "    position_force_regions = collect(cartesian_product(region.position, region.force) for region in regions)\n",
    "    z[i, :, n] = hull_reformulation(model, position_force_regions, [rc[:, i, n]; f[:, i, n]])\n",
    "end"
   ]
  },
  {
   "cell_type": "code",
   "execution_count": 11,
   "metadata": {
    "collapsed": false
   },
   "outputs": [],
   "source": [
    "@constraints(model, begin\n",
    "    [n = 1 : nsteps, i = 1 : ncontacts, k = 1 : 2], s[k, i, n] == rc[k, i, n] - r[k, n]\n",
    "end)"
   ]
  },
  {
   "cell_type": "code",
   "execution_count": 12,
   "metadata": {
    "collapsed": false
   },
   "outputs": [],
   "source": [
    "# 4.18\n",
    "@constraints(model, begin\n",
    "    [n = 1 : nsteps - 1, k = 1 : 2], r[k, n + 1] == r[k, n] + h * ṙ[k, n + 1]\n",
    "    [n = 1 : nsteps - 1], θ[n + 1] == θ[n] + h * ω[n + 1]\n",
    "    [n = 1 : nsteps - 1, k = 1 : 2], ṙ[k, n + 1] == ṙ[k, n] + h / m * F[k, n + 1]\n",
    "    [n = 1 : nsteps - 1], ω[n + 1] == ω[n] + h / I * T[n + 1]\n",
    "    [n = 1 : nsteps, k = 1 : 2], F[k, n] == m * g[k] + sum(f[k, i, n] for i = 1 : ncontacts)\n",
    "    [n = 1 : nsteps], T[n] == sum(wzx[i, n] - wxz[i, n] for i = 1 : ncontacts)\n",
    "end)"
   ]
  },
  {
   "cell_type": "code",
   "execution_count": 13,
   "metadata": {
    "collapsed": false
   },
   "outputs": [],
   "source": [
    "# convex bilinear term approximations (4.12, 4.13)\n",
    "for i = 1 : ncontacts, n = 1 : nsteps\n",
    "    # TODO: ranges, piecewise\n",
    "    mccormick_envelope_constraints(model, wxz[i, n], s[1, i, n], f[2, i, n], -100., 100., -100., 100.)\n",
    "    mccormick_envelope_constraints(model, wzx[i, n], s[2, i, n], f[1, i, n], -100., 100., -100., 100.)\n",
    "end"
   ]
  },
  {
   "cell_type": "code",
   "execution_count": 14,
   "metadata": {
    "collapsed": false
   },
   "outputs": [],
   "source": [
    "# initial conditions\n",
    "@constraints(model, begin\n",
    "    r[:, 1] .== r0\n",
    "    θ[1] == θ0\n",
    "    ṙ[:, 1] .== ṙ0\n",
    "    ω[1] == ω0\n",
    "end)"
   ]
  },
  {
   "cell_type": "code",
   "execution_count": 15,
   "metadata": {
    "collapsed": false
   },
   "outputs": [],
   "source": [
    "# TODO: more task-specific constraints\n",
    "@constraints(model, begin\n",
    "    [n = 1 : nsteps], r[2, n] >= 0.\n",
    "end)"
   ]
  },
  {
   "cell_type": "code",
   "execution_count": 16,
   "metadata": {
    "collapsed": false
   },
   "outputs": [],
   "source": [
    "# objective function + slack parameterization\n",
    "@constraints(model, begin\n",
    "    [i = 1 : ncontacts, j = 1 : nregions], Γ[i, j] == sum(γ[i, j, n] for n = 1 : nsteps - 1)\n",
    "    [i = 1 : ncontacts, j = 1 : nregions, n = 1 : nsteps - 1], -γ[i, j, n] <= z[i, j, n + 1] - z[i, j, n]\n",
    "    [i = 1 : ncontacts, j = 1 : nregions, n = 1 : nsteps - 1], z[i, j, n + 1] - z[i, j, n] <= γ[i, j, n]\n",
    "    [i = 1 : ncontacts, j = 1 : nregions, n = 1 : nsteps - 1], 0 <= γ[i, j, n]\n",
    "    [i = 1 : ncontacts, j = 1 : nregions, n = 1 : nsteps - 1], γ[i, j, n] <= 1\n",
    "end)\n",
    "\n",
    "# @objective(model, begin\n",
    "#     sum(Γ[i, j] for i = 1 : ncontacts, j = 1 : nregions) + sum(f[]) # TODO\n",
    "# end)"
   ]
  },
  {
   "cell_type": "code",
   "execution_count": 17,
   "metadata": {
    "collapsed": false
   },
   "outputs": [
    {
     "name": "stdout",
     "output_type": "stream",
     "text": [
      "Optimize a model with 8188 rows, 4900 columns and 19156 nonzeros\n",
      "Variable types: 4500 continuous, 400 integer (400 binary)\n",
      "Coefficient statistics:\n",
      "  Matrix range     [1e-02, 2e+02]\n",
      "  Objective range  [0e+00, 0e+00]\n",
      "  Bounds range     [1e+00, 1e+00]\n",
      "  RHS range        [5e-01, 1e+04]\n",
      "Variable types: 3896 continuous, 1004 integer (400 binary)\n",
      "\n",
      "Root relaxation: objective 0.000000e+00, 3537 iterations, 0.29 seconds\n",
      "\n",
      "    Nodes    |    Current Node    |     Objective Bounds      |     Work\n",
      " Expl Unexpl |  Obj  Depth IntInf | Incumbent    BestBd   Gap | It/Node Time\n",
      "\n",
      "*    0     0               0       0.0000000    0.00000      -     -    0s\n",
      "\n",
      "Explored 0 nodes (3537 simplex iterations) in 0.35 seconds\n",
      "Thread count was 20 (of 20 available processors)\n",
      "\n",
      "Solution count 1: 0 \n",
      "Pool objective bound 0\n",
      "\n",
      "Optimal solution found (tolerance 1.00e-04)\n",
      "Best objective 0.000000000000e+00, best bound 0.000000000000e+00, gap -\n"
     ]
    }
   ],
   "source": [
    "solve(model)"
   ]
  },
  {
   "cell_type": "code",
   "execution_count": 18,
   "metadata": {
    "collapsed": false
   },
   "outputs": [],
   "source": [
    "vis = MixedIntegerExperiments.plot_piecewise_mccormick(10, -1., 1., -1., 1.);"
   ]
  },
  {
   "cell_type": "code",
   "execution_count": 19,
   "metadata": {
    "collapsed": true
   },
   "outputs": [],
   "source": [
    "# delete!(vis)"
   ]
  }
 ],
 "metadata": {
  "kernelspec": {
   "display_name": "Julia 0.5.0",
   "language": "julia",
   "name": "julia-0.5"
  },
  "language_info": {
   "file_extension": ".jl",
   "mimetype": "application/julia",
   "name": "julia",
   "version": "0.5.0"
  }
 },
 "nbformat": 4,
 "nbformat_minor": 1
}

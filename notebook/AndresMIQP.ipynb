{
 "cells": [
  {
   "cell_type": "code",
   "execution_count": 1,
   "metadata": {
    "collapsed": false
   },
   "outputs": [],
   "source": [
    "using JuMP\n",
    "using Gurobi\n",
    "using MixedIntegerExperiments\n",
    "using Polyhedra\n",
    "using CDDLib\n",
    "using Plots\n",
    "using DrakeVisualizer\n",
    "using AxisArrays\n",
    "using BenchmarkTools"
   ]
  },
  {
   "cell_type": "code",
   "execution_count": 2,
   "metadata": {
    "collapsed": true
   },
   "outputs": [],
   "source": [
    "# Pkg.clone(\"https://github.com/andreasnoack/LinearAlgebra.jl\")\n",
    "# Pkg.clone(\"git@github.com:JuliaPolyhedra/ConvexHull.jl.git\")"
   ]
  },
  {
   "cell_type": "code",
   "execution_count": 3,
   "metadata": {
    "collapsed": false
   },
   "outputs": [],
   "source": [
    "# Pkg.checkout(\"CDDLib\", \"eltypeit\")\n",
    "# Pkg.checkout(\"Polyhedra\")"
   ]
  },
  {
   "cell_type": "code",
   "execution_count": 4,
   "metadata": {
    "collapsed": true
   },
   "outputs": [],
   "source": [
    "verbose = false;\n",
    "show_plots = false;"
   ]
  },
  {
   "cell_type": "code",
   "execution_count": 5,
   "metadata": {
    "collapsed": false
   },
   "outputs": [],
   "source": [
    "# parameters\n",
    "nsteps = 100\n",
    "ncontacts = 2\n",
    "h = 0.1\n",
    "I = 1.\n",
    "m = 10.\n",
    "g = [0; -9.81]\n",
    "r0 = [0.5; 0.8]\n",
    "ṙ0 = [0.0; 0.0]\n",
    "θ0 = 0.\n",
    "ω0 = 0.\n",
    "contactregion = contact_region([0.; 0.], [1.; 0.], 0.8, 2 * m * norm(g))\n",
    "freeregion = axis_aligned_free_box_region([0.; 0.], [1.; 1.])\n",
    "environment = [contactregion; freeregion];"
   ]
  },
  {
   "cell_type": "code",
   "execution_count": 6,
   "metadata": {
    "collapsed": false
   },
   "outputs": [],
   "source": [
    "if show_plots\n",
    "    plt = plot()\n",
    "    plot_polyhedron!(polyhedron(contactregion.position); lab = \"contact\", fillcolor = \"black\")\n",
    "    plot_polyhedron!(polyhedron(freeregion.position); lab = \"free\", opacity = 0.5)\n",
    "    title!(plt, \"Environment\")\n",
    "    plt\n",
    "end"
   ]
  },
  {
   "cell_type": "code",
   "execution_count": 7,
   "metadata": {
    "collapsed": false
   },
   "outputs": [],
   "source": [
    "if show_plots\n",
    "    plt = plot()\n",
    "    plot_polyhedron!(polyhedron(contactregion.force); opacity = 0.5, lab = \"Contact region\")\n",
    "    title!(\"Allowable contact forces\")\n",
    "end"
   ]
  },
  {
   "cell_type": "code",
   "execution_count": 8,
   "metadata": {
    "collapsed": false
   },
   "outputs": [],
   "source": [
    "model = Model(solver = GurobiSolver(Presolve = 0, OutputFlag = Int(verbose)));"
   ]
  },
  {
   "cell_type": "code",
   "execution_count": 9,
   "metadata": {
    "collapsed": false
   },
   "outputs": [
    {
     "data": {
      "text/plain": [
       "AxisArrays.Axis{:region,UnitRange{Int64}}(1:2)"
      ]
     },
     "execution_count": 9,
     "metadata": {},
     "output_type": "execute_result"
    }
   ],
   "source": [
    "coords = Axis{:coord}([:x, :z])\n",
    "steps = Axis{:step}(1 : nsteps)\n",
    "contacts = Axis{:contact}(1 : ncontacts)\n",
    "regions = Axis{:region}(1 : length(environment))"
   ]
  },
  {
   "cell_type": "code",
   "execution_count": 10,
   "metadata": {
    "collapsed": false
   },
   "outputs": [],
   "source": [
    "rs = @axis_variables(model, r, coords, steps)\n",
    "θs = @axis_variables(model, θ, steps)\n",
    "ṙs = @axis_variables(model, ṙ, coords, steps)\n",
    "ωs = @axis_variables(model, ω, steps)\n",
    "rcs = @axis_variables(model, rc, coords, contacts, steps)\n",
    "fs = @axis_variables(model, f, coords, contacts, steps)\n",
    "Fs = @axis_variables(model, F, coords, steps)\n",
    "Ts = @axis_variables(model, T, steps)\n",
    "ss = @axis_variables(model, s, coords, contacts, steps)\n",
    "wzxs = @axis_variables(model, wzx, contacts, steps)\n",
    "wxzs = @axis_variables(model, wxz, contacts, steps)\n",
    "γs = @axis_variables(model, γ, contacts, regions, steps(1 : length(steps) - 1))\n",
    "Γs = @axis_variables(model, Γ, contacts, regions);"
   ]
  },
  {
   "cell_type": "code",
   "execution_count": 11,
   "metadata": {
    "collapsed": false
   },
   "outputs": [],
   "source": [
    "# 4.6\n",
    "# TODO: CHECK CHECK CHECK CHECK CHECK\n",
    "zs = AxisArray(Array{Variable, 3}(ncontacts, length(environment), nsteps), contacts, regions, steps)\n",
    "product_regions = collect(region.position * region.force for region in environment)\n",
    "for i = 1 : ncontacts, n = 1 : nsteps\n",
    "    rc = rcs[contacts(i), steps(n)]\n",
    "    f = fs[contacts(i), steps(n)]\n",
    "    zs[contacts(i), steps(n)] = hull_reformulation(model, product_regions, [rc; f])\n",
    "end"
   ]
  },
  {
   "cell_type": "code",
   "execution_count": 12,
   "metadata": {
    "collapsed": false
   },
   "outputs": [],
   "source": [
    "# (4.13)\n",
    "for i = 1 : ncontacts, n = 1 : nsteps\n",
    "    s = Vector(ss[contacts(i), steps(n)])\n",
    "    rc = Vector(rcs[contacts(i), steps(n)])\n",
    "    r = Vector(rs[steps(n)])\n",
    "    @constraint(model, s .== rc - r)\n",
    "end"
   ]
  },
  {
   "cell_type": "code",
   "execution_count": 13,
   "metadata": {
    "collapsed": false
   },
   "outputs": [],
   "source": [
    "# 4.18\n",
    "for n = 1 : nsteps - 1\n",
    "    @constraint(model, Vector(rs[steps(n + 1)]) .== Vector(rs[steps(n)]) + h * Vector(ṙs[steps(n + 1)]))\n",
    "    @constraint(model, θs[steps(n + 1)] == θs[steps(n)] + h * ωs[steps(n + 1)])\n",
    "    @constraint(model, Vector(ṙs[steps(n + 1)]) .== Vector(ṙs[steps(n)]) + h / m * Vector(Fs[steps(n + 1)]))\n",
    "    @constraint(model, ωs[steps(n + 1)] == ωs[steps(n)] + h / I * Ts[steps(n + 1)])\n",
    "end\n",
    "\n",
    "for n = 1 : nsteps\n",
    "    @constraint(model, Vector(Fs[steps(n)]) .== m * g + sum(fs[steps(n), contacts(i)] for i = 1 : length(contacts)))\n",
    "    @constraint(model, Ts[steps(n)] == sum(wzxs[steps(n), contacts(i)] - wxzs[steps(n), contacts(i)] for i = 1 : length(contacts)))\n",
    "end"
   ]
  },
  {
   "cell_type": "code",
   "execution_count": 14,
   "metadata": {
    "collapsed": false
   },
   "outputs": [],
   "source": [
    "# convex bilinear term approximations (4.12, 4.13)\n",
    "for i = 1 : ncontacts, n = 1 : nsteps\n",
    "    # TODO: ranges, piecewise\n",
    "    wxz = wxzs[contacts(i), steps(n)]\n",
    "    wzx = wzxs[contacts(i), steps(n)]\n",
    "    s = ss[contacts(i), steps(n)]\n",
    "    f = fs[contacts(i), steps(n)]\n",
    "    mccormick_envelope_constraints(model, wxz, s[:x], f[:z], -100., 100., -100., 100.)\n",
    "    mccormick_envelope_constraints(model, wzx, s[:z], f[:x], -100., 100., -100., 100.)\n",
    "end"
   ]
  },
  {
   "cell_type": "code",
   "execution_count": 15,
   "metadata": {
    "collapsed": false
   },
   "outputs": [],
   "source": [
    "# initial conditions\n",
    "@constraints(model, begin\n",
    "    Vector(rs[steps(1)]) .== r0\n",
    "    θs[steps(1)] == θ0\n",
    "    Vector(ṙs[steps(1)]) .== ṙ0\n",
    "    ωs[steps(1)] == ω0\n",
    "end)\n",
    "\n",
    "# reachability; TODO: better version\n",
    "@constraint(model, Vector(rs[coords(:x)]) .>= 0);\n",
    "@constraint(model, Vector(rs[coords(:x)]) .<= 1);\n",
    "@constraint(model, Vector(rs[coords(:z)]) .>= 0);\n",
    "@constraint(model, Vector(rs[coords(:z)]) .<= 1);"
   ]
  },
  {
   "cell_type": "code",
   "execution_count": 16,
   "metadata": {
    "collapsed": false
   },
   "outputs": [],
   "source": [
    "# TODO: more task-specific constraints\n",
    "# @constraints(model, begin\n",
    "#     [n = 1 : nsteps], r[2, n] >= 0.\n",
    "# end)"
   ]
  },
  {
   "cell_type": "code",
   "execution_count": 17,
   "metadata": {
    "collapsed": false
   },
   "outputs": [
    {
     "data": {
      "text/plain": [
       ":Min"
      ]
     },
     "execution_count": 17,
     "metadata": {},
     "output_type": "execute_result"
    }
   ],
   "source": [
    "# section 4.4\n",
    "# objective function + slack parameterization\n",
    "@constraint(model, Array(Γs) .== sum(γs[steps(n)] for n = 1 : length(steps) - 1));\n",
    "for n = 1 : length(steps) - 1\n",
    "    @constraint(model, -Array(γs[steps(n)]) .<= Array(zs[steps(n + 1)] - zs[steps(n)]))\n",
    "    @constraint(model, Array(zs[steps(n + 1)] - zs[steps(n)]) .<= Array(γs[steps(n)]))\n",
    "    @constraint(model, 0 .<= Array(γs))\n",
    "    @constraint(model, Array(γs) .<= 1)\n",
    "end\n",
    "\n",
    "@objective(model, Min, sum(Γ) + vecdot(fs, fs)) #= + vecdot(ṙcs, ṙcs)=#"
   ]
  },
  {
   "cell_type": "code",
   "execution_count": 18,
   "metadata": {
    "collapsed": false
   },
   "outputs": [
    {
     "data": {
      "text/plain": [
       "BenchmarkTools.Trial: \n",
       "  memory estimate:  4.22 MiB\n",
       "  allocs estimate:  91\n",
       "  --------------\n",
       "  minimum time:     431.217 ms (0.00% GC)\n",
       "  median time:      458.567 ms (0.00% GC)\n",
       "  mean time:        457.152 ms (0.04% GC)\n",
       "  maximum time:     475.872 ms (0.00% GC)\n",
       "  --------------\n",
       "  samples:          11\n",
       "  evals/sample:     1\n",
       "  time tolerance:   5.00%\n",
       "  memory tolerance: 1.00%"
      ]
     },
     "execution_count": 18,
     "metadata": {},
     "output_type": "execute_result"
    }
   ],
   "source": [
    "@benchmark solve($model)"
   ]
  },
  {
   "cell_type": "code",
   "execution_count": 22,
   "metadata": {
    "collapsed": false
   },
   "outputs": [
    {
     "data": {
      "text/html": [
       "<script src=\"/home/twan/code/MixedIntegerExperiments/v0.5/Plots/src/backends/../../deps/plotly-latest.min.js\"></script>    <div id=\"bc245a15-8a46-4c59-a46e-0fa61ece480b\" style=\"width:600px;height:400px;\"></div>\n",
       "    <script>\n",
       "    PLOT = document.getElementById('bc245a15-8a46-4c59-a46e-0fa61ece480b');\n",
       "    Plotly.plot(PLOT, [{\"yaxis\":\"y\",\"y\":[0.8,0.800140252452866,0.8004176748871563,0.8008291848310825,0.8013716998133595,0.8020421373625836,0.8028374150073656,0.8037544502764258,0.8047901606984222,0.8059414638019038,0.8072052771153803,0.8085785181671082,0.8100581044855091,0.8116409535994176,0.8133239830372148,0.8151041103274015,0.8169782529985011,0.8189433285789527,0.8209962545973517,0.8231339485823244,0.825353328062406,0.8276513105661635,0.8300248136221033,0.8324707547587887,0.8349860515047745,0.8375676213885814,0.8402123819387922,0.8429172506838819,0.8456791451524457,0.848494982872902,0.8513616813738543,0.8542761581838417,0.8572353308313109,0.8602361168448756,0.8632754337528761,0.8663501990839442,0.8694573303666969,0.872593745129622,0.8757563609012168,0.8789420952099448,0.8821478655843412,0.8853705895529562,0.8886071846442961,0.8918545683867898,0.8951096583089868,0.8983693719394148,0.9016306268065998,0.9048903404390264,0.9081454303651344,0.9113928141134808,0.9146294092124655,0.9178521331907498,0.9210579035767577,0.9242436378990331,0.9274062536860697,0.9305426684663254,0.9336497997682276,0.9367245651202439,0.9397638820509179,0.9427646680886845,0.94572384076209,0.9486383175995943,0.9515050161296361,0.9543208538806628,0.9570827483811418,0.9597876171595413,0.9624323777443188,0.9650139476639092,0.9675292444467606,0.9699751856213273,0.9723486887160377,0.9746466712593154,0.9768660507795797,0.9790037448052448,0.9810566708647185,0.9830217464863971,0.9848958891986681,0.9866760165299097,0.9883590460084855,0.9899418951627461,0.9914214815210255,0.9927947226116398,0.9940585359628834,0.9952098391030244,0.9962455495603004,0.9971625848629089,0.9979578625389982,0.9986283001166508,0.999170815123857,0.9995823250884707,0.9998597475381197,0.9999999999999823,0.999999999999899,0.9892399999998192,0.9552428571426209,0.8855314285711668,0.7676285714283149,0.5890571428569306,0.3373399999998684,1.509903313490213e-14],\"showlegend\":true,\"name\":\"y1\",\"type\":\"scatter\",\"xaxis\":\"x\",\"line\":{\"width\":1,\"dash\":\"solid\",\"color\":\"rgba(0, 154, 250, 1.000)\",\"shape\":\"linear\"},\"x\":[1,2,3,4,5,6,7,8,9,10,11,12,13,14,15,16,17,18,19,20,21,22,23,24,25,26,27,28,29,30,31,32,33,34,35,36,37,38,39,40,41,42,43,44,45,46,47,48,49,50,51,52,53,54,55,56,57,58,59,60,61,62,63,64,65,66,67,68,69,70,71,72,73,74,75,76,77,78,79,80,81,82,83,84,85,86,87,88,89,90,91,92,93,94,95,96,97,98,99,100],\"mode\":\"lines\"}], {\"yaxis\":{\"type\":\"-\",\"titlefont\":{\"size\":15,\"color\":\"rgba(0, 0, 0, 1.000)\",\"family\":\"sans-serif\"},\"title\":\"\",\"tickfont\":{\"size\":11,\"color\":\"rgba(0, 0, 0, 1.000)\",\"family\":\"sans-serif\"},\"ticks\":\"inside\",\"tickmode\":\"array\",\"showgrid\":true,\"tickvals\":[0.25,0.5,0.75],\"domain\":[0.03762029746281716,0.9901574803149606],\"ticktext\":[\"0.25\",\"0.50\",\"0.75\"],\"tickangle\":0,\"zeroline\":false,\"linecolor\":\"rgba(0, 0, 0, 1.000)\",\"tickcolor\":\"rgba(0, 0, 0, 1.000)\",\"anchor\":\"x\"},\"annotations\":[],\"width\":600,\"plot_bgcolor\":\"rgba(255, 255, 255, 1.000)\",\"showlegend\":true,\"legend\":{\"bgcolor\":\"rgba(255, 255, 255, 1.000)\",\"y\":1.0,\"font\":{\"size\":11,\"color\":\"rgba(0, 0, 0, 1.000)\",\"family\":\"sans-serif\"},\"bordercolor\":\"rgba(0, 0, 0, 1.000)\",\"x\":1.0},\"xaxis\":{\"type\":\"-\",\"titlefont\":{\"size\":15,\"color\":\"rgba(0, 0, 0, 1.000)\",\"family\":\"sans-serif\"},\"title\":\"\",\"tickfont\":{\"size\":11,\"color\":\"rgba(0, 0, 0, 1.000)\",\"family\":\"sans-serif\"},\"ticks\":\"inside\",\"tickmode\":\"array\",\"showgrid\":true,\"tickvals\":[25.0,50.0,75.0,100.0],\"domain\":[0.0658209390492855,0.9934383202099738],\"ticktext\":[\"25\",\"50\",\"75\",\"100\"],\"tickangle\":0,\"zeroline\":false,\"linecolor\":\"rgba(0, 0, 0, 1.000)\",\"tickcolor\":\"rgba(0, 0, 0, 1.000)\",\"anchor\":\"y\"},\"paper_bgcolor\":\"rgba(255, 255, 255, 1.000)\",\"height\":400,\"margin\":{\"r\":0,\"l\":0,\"b\":0,\"t\":20}});\n",
       "    </script>\n"
      ]
     },
     "execution_count": 22,
     "metadata": {},
     "output_type": "execute_result"
    }
   ],
   "source": [
    "plot(getvalue(rs[:z]))"
   ]
  },
  {
   "cell_type": "code",
   "execution_count": 20,
   "metadata": {
    "collapsed": false
   },
   "outputs": [],
   "source": [
    "# vis = MixedIntegerExperiments.plot_piecewise_mccormick(10, -1., 1., -1., 1.);"
   ]
  },
  {
   "cell_type": "code",
   "execution_count": 21,
   "metadata": {
    "collapsed": true
   },
   "outputs": [],
   "source": [
    "# delete!(vis)"
   ]
  }
 ],
 "metadata": {
  "kernelspec": {
   "display_name": "Julia 0.5.0",
   "language": "julia",
   "name": "julia-0.5"
  },
  "language_info": {
   "file_extension": ".jl",
   "mimetype": "application/julia",
   "name": "julia",
   "version": "0.5.0"
  }
 },
 "nbformat": 4,
 "nbformat_minor": 1
}

{
 "cells": [
  {
   "cell_type": "code",
   "execution_count": 1,
   "metadata": {
    "collapsed": false
   },
   "outputs": [
    {
     "data": {
      "text/html": [
       "<div id=\"interact-js-shim\">\n",
       "    <script charset=\"utf-8\">\n",
       "(function (IPython, $, _, MathJax) {\n",
       "    $.event.special.destroyed = {\n",
       "\tremove: function(o) {\n",
       "\t    if (o.handler) {\n",
       "\t\to.handler.apply(this, arguments)\n",
       "\t    }\n",
       "\t}\n",
       "    }\n",
       "\n",
       "    var OutputArea = IPython.version >= \"4.0.0\" ? require(\"notebook/js/outputarea\").OutputArea : IPython.OutputArea;\n",
       "\n",
       "    var redrawValue = function (container, type, val) {\n",
       "\tvar selector = $(\"<div/>\");\n",
       "\tvar oa = new OutputArea(_.extend(selector, {\n",
       "\t    selector: selector,\n",
       "\t    prompt_area: true,\n",
       "\t    events: IPython.events,\n",
       "\t    keyboard_manager: IPython.keyboard_manager\n",
       "\t})); // Hack to work with IPython 2.1.0\n",
       "\n",
       "\tswitch (type) {\n",
       "\tcase \"image/png\":\n",
       "            var _src = 'data:' + type + ';base64,' + val;\n",
       "\t    $(container).find(\"img\").attr('src', _src);\n",
       "\t    break;\n",
       "\tcase \"text/latex\":\n",
       "\t\tif (MathJax){\n",
       "\t\t\tvar math = MathJax.Hub.getAllJax(container)[0];\n",
       "\t\t\tMathJax.Hub.Queue([\"Text\", math, val.replace(/^\\${1,2}|\\${1,2}$/g, '')]);\n",
       "\t\t\tbreak;\n",
       "\t\t}\n",
       "\tdefault:\n",
       "\t    var toinsert = OutputArea.append_map[type].apply(\n",
       "\t\toa, [val, {}, selector]\n",
       "\t    );\n",
       "\t    $(container).empty().append(toinsert.contents());\n",
       "\t    selector.remove();\n",
       "\t}\n",
       "    }\n",
       "\n",
       "\n",
       "    $(document).ready(function() {\n",
       "\tfunction initComm(evt, data) {\n",
       "\t    var comm_manager = data.kernel.comm_manager;\n",
       "        //_.extend(comm_manager.targets, require(\"widgets/js/widget\"))\n",
       "\t    comm_manager.register_target(\"Signal\", function (comm) {\n",
       "            comm.on_msg(function (msg) {\n",
       "                var val = msg.content.data.value;\n",
       "                $(\".signal-\" + comm.comm_id).each(function() {\n",
       "                var type = $(this).data(\"type\");\n",
       "                if (typeof(val[type]) !== \"undefined\" && val[type] !== null) {\n",
       "                    redrawValue(this, type, val[type], type);\n",
       "                }\n",
       "                });\n",
       "                delete val;\n",
       "                delete msg.content.data.value;\n",
       "            });\n",
       "\t    });\n",
       "\n",
       "\t    // coordingate with Comm and redraw Signals\n",
       "\t    // XXX: Test using Reactive here to improve performance\n",
       "\t    $([IPython.events]).on(\n",
       "\t\t'output_appended.OutputArea', function (event, type, value, md, toinsert) {\n",
       "\t\t    if (md && md.reactive) {\n",
       "                // console.log(md.comm_id);\n",
       "                toinsert.addClass(\"signal-\" + md.comm_id);\n",
       "                toinsert.data(\"type\", type);\n",
       "                // Signal back indicating the mimetype required\n",
       "                var comm_manager = IPython.notebook.kernel.comm_manager;\n",
       "                var comm = comm_manager.comms[md.comm_id];\n",
       "                comm.then(function (c) {\n",
       "                    c.send({action: \"subscribe_mime\",\n",
       "                       mime: type});\n",
       "                    toinsert.bind(\"destroyed\", function() {\n",
       "                        c.send({action: \"unsubscribe_mime\",\n",
       "                               mime: type});\n",
       "                    });\n",
       "                })\n",
       "\t\t    }\n",
       "\t    });\n",
       "\t}\n",
       "\n",
       "\ttry {\n",
       "\t    // try to initialize right away. otherwise, wait on the status_started event.\n",
       "\t    initComm(undefined, IPython.notebook);\n",
       "\t} catch (e) {\n",
       "\t    $([IPython.events]).on('kernel_created.Kernel kernel_created.Session', initComm);\n",
       "\t}\n",
       "    });\n",
       "})(IPython, jQuery, _, MathJax);\n",
       "</script>\n",
       "    <script>\n",
       "        window.interactLoadedFlag = true\n",
       "       $(\"#interact-js-shim\").bind(\"destroyed\", function () {\n",
       "           if (window.interactLoadedFlag) {\n",
       "               console.warn(\"JavaScript required by Interact will be removed if you remove this cell or run using Interact more than once.\")\n",
       "           }\n",
       "       })\n",
       "       $([IPython.events]).on(\"kernel_starting.Kernel kernel_restarting.Kernel\", function () { window.interactLoadedFlag = false })\n",
       "   </script>\n",
       "</div>"
      ]
     },
     "metadata": {},
     "output_type": "display_data"
    },
    {
     "name": "stdout",
     "output_type": "stream",
     "text": [
      "Loading cdd global constants\n"
     ]
    }
   ],
   "source": [
    "using JuMP\n",
    "using MixedIntegerExperiments\n",
    "using Polyhedra\n",
    "using CDDLib\n",
    "# using Plots\n",
    "using DrakeVisualizer\n",
    "using AxisArrayVariables\n",
    "using AxisArrays\n",
    "using BenchmarkTools\n",
    "using StaticArrays\n",
    "import BoxRobots"
   ]
  },
  {
   "cell_type": "code",
   "execution_count": 2,
   "metadata": {
    "collapsed": false
   },
   "outputs": [],
   "source": [
    "# plotlyjs();"
   ]
  },
  {
   "cell_type": "code",
   "execution_count": 3,
   "metadata": {
    "collapsed": false
   },
   "outputs": [],
   "source": [
    "# Pkg.clone(\"https://github.com/andreasnoack/LinearAlgebra.jl\")\n",
    "# Pkg.clone(\"git@github.com:JuliaPolyhedra/ConvexHull.jl.git\")\n",
    "# Pkg.checkout(\"Polyhedra\")\n",
    "# Pkg.checkout(\"CDDLib\")"
   ]
  },
  {
   "cell_type": "code",
   "execution_count": 4,
   "metadata": {
    "collapsed": true
   },
   "outputs": [],
   "source": [
    "show_plots = false;"
   ]
  },
  {
   "cell_type": "code",
   "execution_count": 5,
   "metadata": {
    "collapsed": false
   },
   "outputs": [],
   "source": [
    "optparams = MIQPTrajOptParams(verbose = false)\n",
    "contact_point_descriptions = Dict(:foot => ContactPointDescription(2., SimpleVRepresentation([-0.5 -0.5; 0.5 -0.5; -0.5 -1.; 0.5 -1.])))\n",
    "robot = BoxRobotWithRotation2D(0., 1., 60., SVector(0, -9.81), contact_point_descriptions)\n",
    "environment = [\n",
    "    contact_region([0.; 0.], [1.; 0.], 0.8, 2 * robot.m * norm(robot.g)); \n",
    "    axis_aligned_free_box_region([0.; 0.], [1.; 1.])];\n",
    "\n",
    "contactpointstates = Dict(:foot => ContactPointState(SVector(0.5, 0.)))\n",
    "initialstate = BoxRobotWithRotation2DState(0., 0.1, SVector(0.5, 0.8), SVector(0.1, 0.), contactpointstates)\n",
    ";"
   ]
  },
  {
   "cell_type": "code",
   "execution_count": 6,
   "metadata": {
    "collapsed": true
   },
   "outputs": [],
   "source": [
    "# if show_plots\n",
    "#     display(plot_environment(environment))\n",
    "#     for (i, region) in enumerate(environment)\n",
    "#         isfree(region) || display(plot_allowable_forces(region, i))\n",
    "#     end\n",
    "#     display(plot_kinematic_regions(Dict(sym => limb.kinematic_region for (sym, limb) in robot.ContactPointDescriptions)))\n",
    "# end"
   ]
  },
  {
   "cell_type": "code",
   "execution_count": 7,
   "metadata": {
    "collapsed": false
   },
   "outputs": [],
   "source": [
    "states, inputs, diagnostics = miqp_trajopt(robot, environment, initialstate, optparams);"
   ]
  },
  {
   "cell_type": "code",
   "execution_count": 8,
   "metadata": {
    "collapsed": false
   },
   "outputs": [
    {
     "data": {
      "text/plain": [
       "10-element Array{StaticArrays.SVector{2,Float64},1}:\n",
       " [0.5,0.0]          \n",
       " [0.5,0.0]          \n",
       " [0.5,0.0]          \n",
       " [0.5,0.0]          \n",
       " [0.60728,0.0164197]\n",
       " [0.740633,0.0]     \n",
       " [0.740633,0.0]     \n",
       " [0.740633,0.0]     \n",
       " [0.740633,0.0]     \n",
       " [0.740633,0.0]     "
      ]
     },
     "execution_count": 8,
     "metadata": {},
     "output_type": "execute_result"
    }
   ],
   "source": [
    "[state.contact_point_states[:foot].pos for state in states]"
   ]
  },
  {
   "cell_type": "code",
   "execution_count": null,
   "metadata": {
    "collapsed": false
   },
   "outputs": [],
   "source": [
    "ts = collect(0 : optparams.Δt : optparams.Δt * (optparams.nsteps - 1))\n",
    "brstates = BoxRobots.BoxRobotState.(states)\n",
    "brinputs = BoxRobots.BoxRobotInput.(inputs)\n",
    "trajectory = BoxRobots.Trajectory(ts, BoxRobots.BoxRobotSimulationData.(ts, brstates, brinputs))\n",
    "playback_speed = 0.5\n",
    "vis_options = BoxRobots.BoxRobotVisualizerOptions(force_arrow_normalizer=robot.m*norm(robot.g), playback_dt = optparams.Δt / playback_speed)\n",
    "DrakeVisualizer.any_open_windows() || DrakeVisualizer.new_window(); sleep(1)\n",
    "vis = Visualizer()\n",
    "# BoxRobots.draw_box_robot_state(vis, brstates[1], options = vis_options, input = brinputs[1])\n",
    "BoxRobots.playback_trajectory(vis, trajectory, options = vis_options)"
   ]
  },
  {
   "cell_type": "code",
   "execution_count": 10,
   "metadata": {
    "collapsed": false
   },
   "outputs": [
    {
     "data": {
      "text/plain": [
       "BoxRobots.BoxRobotVisualizerOptions\n",
       "  force_arrow_normalizer: Float64 588.6\n",
       "  com_radius: Float64 0.1\n",
       "  contact_point_radius: Float64 0.05\n",
       "  playback_dt: Float64 0.05\n"
      ]
     },
     "execution_count": 10,
     "metadata": {},
     "output_type": "execute_result"
    }
   ],
   "source": [
    "vis_options"
   ]
  },
  {
   "cell_type": "code",
   "execution_count": 11,
   "metadata": {
    "collapsed": false
   },
   "outputs": [
    {
     "data": {
      "text/plain": [
       "MixedIntegerExperiments.ContactPointInput{2,Float64}([0.0,0.0],[-63.6982,553.071])"
      ]
     },
     "execution_count": 11,
     "metadata": {},
     "output_type": "execute_result"
    }
   ],
   "source": [
    "inputs[end][:foot]"
   ]
  },
  {
   "cell_type": "code",
   "execution_count": 12,
   "metadata": {
    "collapsed": false
   },
   "outputs": [
    {
     "data": {
      "text/plain": [
       "19.977229543850605"
      ]
     },
     "execution_count": 12,
     "metadata": {},
     "output_type": "execute_result"
    }
   ],
   "source": [
    "constraint_violation_norm(diagnostics, Inf)"
   ]
  },
  {
   "cell_type": "code",
   "execution_count": 13,
   "metadata": {
    "collapsed": false
   },
   "outputs": [],
   "source": [
    "# using MixedIntegerExperiments\n",
    "# vis = MixedIntegerExperiments.plot_piecewise_mccormick(5, -1., 1., -1., 1.);"
   ]
  },
  {
   "cell_type": "code",
   "execution_count": 14,
   "metadata": {
    "collapsed": false
   },
   "outputs": [],
   "source": [
    "# using Base.Test\n",
    "# # TODO: more checks on the final result\n",
    "\n",
    "# zvals = similar(zs, Float64)\n",
    "# for i = 1 : length(contacts), j = 1 : length(steps)\n",
    "#     @test sum(getvalue(zs[contacts(i), steps(j)])) == 1\n",
    "# end"
   ]
  },
  {
   "cell_type": "code",
   "execution_count": 15,
   "metadata": {
    "collapsed": false
   },
   "outputs": [],
   "source": [
    "# gr()\n",
    "# plt = plot_environment(environment)\n",
    "# bla = plot!(plt, [NaN], [NaN], lab = \"CoM\", markershape = :circle)\n",
    "# xvals = getvalue.(rs[:x])\n",
    "# zvals = getvalue.(rs[:z])\n",
    "# anim = @animate for n = 1 : nsteps\n",
    "#     plt[3] = ([xvals[n]], [zvals[n]])\n",
    "# end"
   ]
  },
  {
   "cell_type": "code",
   "execution_count": 16,
   "metadata": {
    "collapsed": false
   },
   "outputs": [],
   "source": [
    "# gif(anim, loop = 3, fps = round(Int64, 1 / h))"
   ]
  },
  {
   "cell_type": "code",
   "execution_count": null,
   "metadata": {
    "collapsed": true
   },
   "outputs": [],
   "source": []
  }
 ],
 "metadata": {
  "kernelspec": {
   "display_name": "Julia 0.5.1",
   "language": "julia",
   "name": "julia-0.5"
  },
  "language_info": {
   "file_extension": ".jl",
   "mimetype": "application/julia",
   "name": "julia",
   "version": "0.5.1"
  }
 },
 "nbformat": 4,
 "nbformat_minor": 1
}

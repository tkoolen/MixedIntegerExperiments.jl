{
 "cells": [
  {
   "cell_type": "code",
   "execution_count": 1,
   "metadata": {
    "collapsed": false
   },
   "outputs": [],
   "source": [
    "using JuMP, MultilinearOpt, Gurobi, Ipopt"
   ]
  },
  {
   "cell_type": "code",
   "execution_count": 2,
   "metadata": {
    "collapsed": false
   },
   "outputs": [],
   "source": [
    "# m = Model(solver=BaronSolver())\n",
    "m = Model(solver=GurobiSolver())\n",
    "# m = Model(solver=IpoptSolver())\n",
    "\n",
    "#\n",
    "# Problem Topology\n",
    "\n",
    "I = 1:5 # Input Feed Stocks\n",
    "J = 1:4 # Products\n",
    "L = 1:2 # Pools\n",
    "K = 1:4 # Qualities\n",
    "\n",
    "# i,l -> Bool\n",
    "Tx(i,l) = (i,l) in ((1,1),(2,1),(3,1),(4,2),(5,2)) ? true : false\n",
    "Ty(l,j) = true\n",
    "Tz(i,j) = false\n",
    "\n",
    "#\n",
    "# Problem Parameters\n",
    "\n",
    "# Product unit price\n",
    "d = Dict(1=>16, 2=>25, 3=>15, 4=>10)\n",
    "\n",
    "# Feed unit price\n",
    "c = Dict(1=>7, 2=>3, 3=>2, 4=>10, 5=>5)\n",
    "\n",
    "# Maximum available flow\n",
    "AU(i) = Inf\n",
    "\n",
    "# Minimum available flow\n",
    "AL(i) = 0.0\n",
    "\n",
    "# Pool size\n",
    "SS(l) = Inf\n",
    "\n",
    "# Maximum product demand\n",
    "DU(j) = Dict(1=>10, 2=>25, 3=>30, 4=>10)[j]\n",
    "\n",
    "# Minimum product demand\n",
    "DL(j) = 0.0\n",
    "\n",
    "# Feed concentration\n",
    "CC = [1.0    6.0  4.0  0.5\n",
    "      4.0    1.0  3.0  2.0\n",
    "      4.0    5.5  3.0  0.9\n",
    "      3.0    3.0  3.0  1.0\n",
    "      1.0    2.7  4.0  1.6]\n",
    "\n",
    "# Maximum Allowable Product Concentration\n",
    "PU(j,k) = [3.00  3.00  3.25  0.75\n",
    "           4.00  2.50  3.50  1.50\n",
    "           1.50  5.50  3.90  0.80\n",
    "           3.00  4.00  4.00  1.80][j,k]\n",
    "\n",
    "# Minimum Allowable Product Concentration\n",
    "PL(j,k) = 0.0\n",
    "\n",
    "#\n",
    "# Hard Bounds\n",
    "\n",
    "@variable(m, 0 ≤ q[i in I, l in L] ≤ (Tx(i,l) ? 1 : Inf))\n",
    "@variable(m, 0 ≤ y[l in L, j in J] ≤ min(SS(l), DU(j), sum(AU(i) for i in I if Tx(i,l))))\n",
    "@variable(m, 0 ≤ z[i in I, j in J] ≤ min(AU(i), DU(j)))\n",
    "\n",
    "#\n",
    "# Standard Pooling Problem\n",
    "\n",
    "@objective(m, Min, sum(c[i]*q[i,l]*y[l,j] for i in I, l in L, j in J if Tx(i,l) && Ty(l,j)) - sum(d[j]*y[l,j] for l in L, j in J if Ty(l,j)) - sum((d[j]-c[i])*z[i,j] for i in I, j in J if Tz(i,j)))\n",
    "\n",
    "# Availability bounds\n",
    "for i in I\n",
    "    if AL(i) > 0\n",
    "        @constraint(m, sum(q[i,l]*y[l,j] for j in J, l in L if Tx(i,l) && Ty(l,j)) + sum(z[i,j] for j in J if Tz(i,j)) ≥ AL(i))\n",
    "    end\n",
    "    if AU(i) < Inf\n",
    "        @constraint(m, sum(q[i,l]*y[l,j] for j in J, l in L if Tx(i,l) && Ty(l,j)) + sum(z[i,j] for j in J if Tz(i,j)) ≤ AU(i))\n",
    "    end\n",
    "end\n",
    "\n",
    "# Pool Capacity ========================\n",
    "for l in L\n",
    "    if SS(l) < Inf\n",
    "        @constraint(m, sum(y[l,j] for j in J if Ty(l,j)) ≤ SS(l))\n",
    "    end\n",
    "end\n",
    "\n",
    "# Product Demand =======================\n",
    "for j in J\n",
    "    if DL(j) > 0\n",
    "        @constraint(m, sum(y[l,j] for l in L if Ty(l,j)) + sum(z[i,j] for i in I if Tz(i,j)) ≥ DL(j))\n",
    "    end\n",
    "    if DU(j) < Inf\n",
    "        @constraint(m, sum(y[l,j] for l in L if Ty(l,j)) + sum(z[i,j] for i in I if Tz(i,j)) ≤ DU(j))\n",
    "    end\n",
    "end\n",
    "\n",
    "# Product Quality ======================\n",
    "for j in J, k in K\n",
    "    if PL(j,k) > 0\n",
    "        @constraint(m, PL(j,k)*(sum(y[l,j] for l in L if Ty(l,j)) + sum(z[i,j] for i in I if Tz(i,j))) ≤ sum(CC[i,k]*z[i,j] for i in I if Tz(i,j)) + sum(CC[i,k]*q[i,l]*y[l,j] for i in I, l in L if Tx(i,l) && Ty(l,j)))\n",
    "    end\n",
    "    if PU(j,k) < Inf\n",
    "        @constraint(m, PU(j,k)*(sum(y[l,j] for l in L if Ty(l,j)) + sum(z[i,j] for i in I if Tz(i,j))) ≥ sum(CC[i,k]*z[i,j] for i in I if Tz(i,j)) + sum(CC[i,k]*q[i,l]*y[l,j] for i in I, l in L if Tx(i,l) && Ty(l,j)))\n",
    "    end\n",
    "end\n",
    "\n",
    "# Simplex Constraint ===================\n",
    "for l in L\n",
    "    @constraint(m, sum(q[i,l] for i in I if Tx(i,l)) == 1)\n",
    "end\n",
    "\n",
    "# PQ Cut ===============================\n",
    "for l in L, j in J\n",
    "    @constraint(m, sum(q[i,l]*y[l,j] for i in I if Tx(i,l)) == y[l,j])\n",
    "end"
   ]
  },
  {
   "cell_type": "code",
   "execution_count": 3,
   "metadata": {
    "collapsed": false
   },
   "outputs": [],
   "source": [
    "relaxbilinear!(m)"
   ]
  },
  {
   "cell_type": "code",
   "execution_count": 4,
   "metadata": {
    "collapsed": false
   },
   "outputs": [
    {
     "name": "stdout",
     "output_type": "stream",
     "text": [
      "Optimize a model with 30 rows, 58 columns and 153 nonzeros\n",
      "Coefficient statistics:\n",
      "  Matrix range     [5e-01, 6e+00]\n",
      "  Objective range  [2e+00, 2e+01]\n",
      "  Bounds range     [1e+00, 3e+01]\n",
      "  RHS range        [1e+00, 3e+01]\n",
      "Presolve removed 30 rows and 58 columns\n",
      "Presolve time: 0.00s\n",
      "Presolve: All rows and columns removed\n",
      "Iteration    Objective       Primal Inf.    Dual Inf.      Time\n",
      "       0   -9.9979709e+02   0.000000e+00   0.000000e+00      0s\n",
      "\n",
      "Solved in 0 iterations and 0.00 seconds\n",
      "Optimal objective -9.997970864e+02\n"
     ]
    }
   ],
   "source": [
    "solve(m)"
   ]
  },
  {
   "cell_type": "code",
   "execution_count": 5,
   "metadata": {
    "collapsed": false
   },
   "outputs": [
    {
     "data": {
      "text/plain": [
       "y: 2 dimensions:\n",
       "[1,:]\n",
       "  [1,1] = 10.0\n",
       "  [1,2] = 25.0\n",
       "  [1,3] = 30.0\n",
       "  [1,4] = 10.0\n",
       "[2,:]\n",
       "  [2,1] = 0.0\n",
       "  [2,2] = 0.0\n",
       "  [2,3] = 0.0\n",
       "  [2,4] = 0.0"
      ]
     },
     "execution_count": 5,
     "metadata": {},
     "output_type": "execute_result"
    }
   ],
   "source": [
    "getvalue(y)"
   ]
  },
  {
   "cell_type": "code",
   "execution_count": null,
   "metadata": {
    "collapsed": true
   },
   "outputs": [],
   "source": []
  }
 ],
 "metadata": {
  "kernelspec": {
   "display_name": "Julia 0.5.1",
   "language": "julia",
   "name": "julia-0.5"
  },
  "language_info": {
   "file_extension": ".jl",
   "mimetype": "application/julia",
   "name": "julia",
   "version": "0.5.1"
  }
 },
 "nbformat": 4,
 "nbformat_minor": 1
}

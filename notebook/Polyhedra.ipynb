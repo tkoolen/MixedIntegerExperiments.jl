{
 "cells": [
  {
   "cell_type": "code",
   "execution_count": 1,
   "metadata": {
    "collapsed": true
   },
   "outputs": [],
   "source": [
    "using Polyhedra"
   ]
  },
  {
   "cell_type": "code",
   "execution_count": 5,
   "metadata": {
    "collapsed": false
   },
   "outputs": [
    {
     "data": {
      "text/plain": [
       "ConvexHull.ConvexHullPolyhedron{2,Float64}(Nullable{Polyhedra.HRepresentation{2,Float64}}(),Nullable{Polyhedra.LiftedHRepresentation{2,Float64}}(),Nullable{Polyhedra.VRepresentation{2,Float64}}(V-representation\n",
       "begin\n",
       " 4 3 real\n",
       " 1 0.0 0.0\n",
       " 1 1.0 0.0\n",
       " 1 -1.0 1.0\n",
       " 1 1.0 3.0\n",
       "end),Nullable{Polyhedra.LiftedVRepresentation{2,Float64}}(),false,false,false,false)"
      ]
     },
     "execution_count": 5,
     "metadata": {},
     "output_type": "execute_result"
    }
   ],
   "source": [
    "vr = SimpleVRepresentation([0 0; 1 0; -1 1; 1 3])\n",
    "poly = polyhedron(vr, ConvexHullLib())"
   ]
  },
  {
   "cell_type": "code",
   "execution_count": 9,
   "metadata": {
    "collapsed": false
   },
   "outputs": [
    {
     "data": {
      "text/plain": [
       "ConvexHull.ConvexHullPolyhedron{2,Rational{BigInt}}(Nullable{Polyhedra.HRepresentation{2,Rational{BigInt}}}(),Nullable{Polyhedra.LiftedHRepresentation{2,Rational{BigInt}}}(),Nullable{Polyhedra.VRepresentation{2,Rational{BigInt}}}(V-representation\n",
       "begin\n",
       " 4 3 rational\n",
       " 1 0//1 0//1\n",
       " 1 1//1 0//1\n",
       " 1 -1//1 1//1\n",
       " 1 1//1 3//1\n",
       "end),Nullable{Polyhedra.LiftedVRepresentation{2,Rational{BigInt}}}(),false,false,false,false)"
      ]
     },
     "execution_count": 9,
     "metadata": {},
     "output_type": "execute_result"
    }
   ],
   "source": [
    "polyhedron(vr)"
   ]
  },
  {
   "cell_type": "code",
   "execution_count": 6,
   "metadata": {
    "collapsed": false
   },
   "outputs": [
    {
     "name": "stderr",
     "output_type": "stream",
     "text": [
      "WARNING: Method definition axis_aligned_bounding_box(Polyhedra.VRepresentation) in module Main at In[3]:2 overwritten at In[6]:2.\n"
     ]
    },
    {
     "data": {
      "text/plain": [
       "axis_aligned_bounding_box (generic function with 1 method)"
      ]
     },
     "execution_count": 6,
     "metadata": {},
     "output_type": "execute_result"
    }
   ],
   "source": [
    "function axis_aligned_bounding_box(rep::VRepresentation)\n",
    "    n = fulldim(vr)\n",
    "    ps = points(rep)\n",
    "    l = [minimum(p[i] for p in ps) for i = 1 : n]\n",
    "    u = [maximum(p[i] for p in ps) for i = 1 : n]\n",
    "    l, u\n",
    "end"
   ]
  },
  {
   "cell_type": "code",
   "execution_count": 7,
   "metadata": {
    "collapsed": false
   },
   "outputs": [
    {
     "data": {
      "text/plain": [
       "([-1,0],[1,3])"
      ]
     },
     "execution_count": 7,
     "metadata": {},
     "output_type": "execute_result"
    }
   ],
   "source": [
    "axis_aligned_bounding_box(vr)"
   ]
  },
  {
   "cell_type": "code",
   "execution_count": 11,
   "metadata": {
    "collapsed": false
   },
   "outputs": [
    {
     "data": {
      "text/html": [
       "(::<b>Type{T}</b>)<i>{T}</i>(arg) at <a href=\"https://github.com/JuliaLang/julia/tree/3c9d75391c72d7c32eea75ff187ce77b2d5effc8/base/sysimg.jl#L53\" target=\"_blank\">sysimg.jl:53</a>"
      ],
      "text/plain": [
       "(::Type{T}){T}(arg) at sysimg.jl:53"
      ]
     },
     "execution_count": 11,
     "metadata": {},
     "output_type": "execute_result"
    }
   ],
   "source": [
    "@which LPHRepresentation()"
   ]
  },
  {
   "cell_type": "code",
   "execution_count": null,
   "metadata": {
    "collapsed": true
   },
   "outputs": [],
   "source": []
  }
 ],
 "metadata": {
  "kernelspec": {
   "display_name": "Julia 0.5.0",
   "language": "julia",
   "name": "julia-0.5"
  },
  "language_info": {
   "file_extension": ".jl",
   "mimetype": "application/julia",
   "name": "julia",
   "version": "0.5.0"
  }
 },
 "nbformat": 4,
 "nbformat_minor": 2
}

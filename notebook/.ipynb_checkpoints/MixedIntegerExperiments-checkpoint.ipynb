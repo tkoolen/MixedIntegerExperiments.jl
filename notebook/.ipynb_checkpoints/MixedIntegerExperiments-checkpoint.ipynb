{
 "cells": [
  {
   "cell_type": "markdown",
   "metadata": {},
   "source": [
    "## Setup"
   ]
  },
  {
   "cell_type": "code",
   "execution_count": 7,
   "metadata": {
    "collapsed": false
   },
   "outputs": [],
   "source": [
    "using JuMP\n",
    "using Gurobi\n",
    "using BenchmarkTools\n",
    "using Plots"
   ]
  },
  {
   "cell_type": "markdown",
   "metadata": {},
   "source": [
    "## Settings"
   ]
  },
  {
   "cell_type": "code",
   "execution_count": 2,
   "metadata": {
    "collapsed": false
   },
   "outputs": [],
   "source": [
    "verbose = false;"
   ]
  },
  {
   "cell_type": "markdown",
   "metadata": {},
   "source": [
    "## Branch and bound\n",
    "See http://www.gurobi.com/resources/getting-started/mip-basics.\n",
    "\n",
    "There is no need to further explore a node if:\n",
    "* the relaxation is infeasible (adding more constraints can't make it feasible again)\n",
    "* the node satisfies the integer constraints of the original MIP (is feasible)\n",
    "* the optimal value of the relaxation is worse than that of the best feasible node (incumbent) found thus far (adding more constraints isn't going to result in a better objective value)\n",
    "\n",
    "The last two bullet points mean that it is desirable to find a good feasible node early on.\n",
    "\n",
    "Bounds:\n",
    "* the objective value of any feasible node is an upper bound on the objective value at optimality.\n",
    "* the smallest objective value over all leaf nodes is a lower bound on the objective value at optimality (because the leaf nodes are all relaxations of the original MIP).\n",
    "\n",
    "The difference between these bounds is called the bound gap. If it is zero, then optimality is demonstrated."
   ]
  },
  {
   "cell_type": "markdown",
   "metadata": {},
   "source": [
    "## Additional considerations: recent improvements in algorithms\n",
    "* Presolve: there are a bunch of trivial simplifications you can do to eliminate variables and/or constraints\n",
    "* Cutting planes: sometimes adding additional constraints that are implied by the original constraints to the LP relaxations can eliminate fractional solutions without the need to branch\n",
    "* Heuristics: try to find a good incumbent early using heuristic techniques. E.g., if variables are close to integer at a certain step, try rounding them to the nearest integer, fixing them, and solving the resulting LP relaxation.\n",
    "* Parallelism: multiple leaf nodes can be processed in parallel."
   ]
  },
  {
   "cell_type": "markdown",
   "metadata": {},
   "source": [
    "## Gurobi settings\n",
    "Gurobi has several parameters that can be adjusted:\n",
    "* BranchDir \tBranch direction preference\n",
    "* DegenMoves \tDegenerate simplex moves\n",
    "* ConcurrentJobs \tEnables distributed concurrent solver\n",
    "* ConcurrentMIP \tEnables concurrent MIP solver\n",
    "* ConcurrentSettings \tComma-separated list of .prm files - used to create concurrent environments\n",
    "* Disconnected \tDisconnected component strategy\n",
    "* DistributedMIPJobs \tEnables the distributed MIP solver\n",
    "* Heuristics \tTurn MIP heuristics up or down\n",
    "* ImproveStartGap \tTrigger solution improvement\n",
    "* ImproveStartNodes \tTrigger solution improvement\n",
    "* ImproveStartTime \tTrigger solution improvement\n",
    "* MinRelNodes \tMinimum relaxation heuristic control\n",
    "* MIPFocus \tSet the focus of the MIP solver\n",
    "* MIQCPMethod \tMethod used to solve MIQCP models\n",
    "* NodefileDir \tDirectory for MIP node files\n",
    "* NodefileStart \tMemory threshold for writing MIP tree nodes to disk\n",
    "* NodeMethod \tMethod used to solve MIP node relaxations\n",
    "* PumpPasses \tFeasibility pump heuristic control\n",
    "* RINS \tRINS heuristic\n",
    "* SolutionNumber \tSub-optimal MIP solution retrieval\n",
    "* SubMIPNodes \tNodes explored by sub-MIP heuristics\n",
    "* Symmetry \tMIP symmetry detection\n",
    "* VarBranch \tBranch variable selection strategy\n",
    "* ZeroObjNodes \tZero objective heuristic control\n",
    "* NodeLimit \tMIP node limit\n",
    "* SolutionLimit \tMIP feasible solution limit\n",
    "* MIPGap \tRelative MIP optimality gap\n",
    "* MIPGapAbs \tAbsolute MIP optimality gap\n",
    "\n",
    "There is a parameter tuning tool: http://www.gurobi.com/documentation/7.0/refman/parameter_tuning_tool.html#sec:Tuning."
   ]
  },
  {
   "cell_type": "markdown",
   "metadata": {},
   "source": [
    "## Overhead\n",
    "A trivial mixed-integer program with quadratic objective takes 330 μs to solve using Gurobi."
   ]
  },
  {
   "cell_type": "code",
   "execution_count": 3,
   "metadata": {
    "collapsed": false
   },
   "outputs": [
    {
     "data": {
      "text/plain": [
       "BenchmarkTools.Trial: \n",
       "  memory estimate:  4.64 kb\n",
       "  allocs estimate:  70\n",
       "  --------------\n",
       "  minimum time:     333.905 μs (0.00% GC)\n",
       "  median time:      365.523 μs (0.00% GC)\n",
       "  mean time:        373.646 μs (0.12% GC)\n",
       "  maximum time:     2.794 ms (78.48% GC)\n",
       "  --------------\n",
       "  samples:          10000\n",
       "  evals/sample:     1\n",
       "  time tolerance:   5.00%\n",
       "  memory tolerance: 1.00%"
      ]
     },
     "execution_count": 3,
     "metadata": {},
     "output_type": "execute_result"
    }
   ],
   "source": [
    "let\n",
    "    m = Model(solver=GurobiSolver(Presolve=0, OutputFlag=0))\n",
    "    @variable(m, x, Int)\n",
    "    @objective(m, Min, x^2)\n",
    "    @benchmark solve($m)\n",
    "end"
   ]
  },
  {
   "cell_type": "markdown",
   "metadata": {},
   "source": [
    "A trivial mixed-integer program with linear objective takes about the same time to solve using Gurobi."
   ]
  },
  {
   "cell_type": "code",
   "execution_count": 4,
   "metadata": {
    "collapsed": false
   },
   "outputs": [
    {
     "data": {
      "text/plain": [
       "BenchmarkTools.Trial: \n",
       "  memory estimate:  4.73 kb\n",
       "  allocs estimate:  70\n",
       "  --------------\n",
       "  minimum time:     344.140 μs (0.00% GC)\n",
       "  median time:      379.080 μs (0.00% GC)\n",
       "  mean time:        382.948 μs (0.11% GC)\n",
       "  maximum time:     2.707 ms (80.40% GC)\n",
       "  --------------\n",
       "  samples:          10000\n",
       "  evals/sample:     1\n",
       "  time tolerance:   5.00%\n",
       "  memory tolerance: 1.00%"
      ]
     },
     "execution_count": 4,
     "metadata": {},
     "output_type": "execute_result"
    }
   ],
   "source": [
    "let\n",
    "    m = Model(solver=GurobiSolver(Presolve=0, OutputFlag=0))\n",
    "    @variable(m, x, Int)\n",
    "    @constraint(m, x >= 0)\n",
    "    @objective(m, Min, x)\n",
    "    @benchmark solve($m)\n",
    "end"
   ]
  }
 ],
 "metadata": {
  "kernelspec": {
   "display_name": "Julia 0.5.0",
   "language": "julia",
   "name": "julia-0.5"
  },
  "language_info": {
   "file_extension": ".jl",
   "mimetype": "application/julia",
   "name": "julia",
   "version": "0.5.0"
  }
 },
 "nbformat": 4,
 "nbformat_minor": 1
}
